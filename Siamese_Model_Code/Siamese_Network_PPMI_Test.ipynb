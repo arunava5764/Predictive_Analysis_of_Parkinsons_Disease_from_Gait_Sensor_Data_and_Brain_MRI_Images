{
  "cells": [
    {
      "cell_type": "markdown",
      "source": [
        "#Import required libraries:"
      ],
      "metadata": {
        "id": "hKwYHBipr0S-"
      }
    },
    {
      "cell_type": "code",
      "execution_count": null,
      "metadata": {
        "id": "Nw_Lo0wG1lE4"
      },
      "outputs": [],
      "source": [
        "import numpy as np\n",
        "import matplotlib.pyplot as plt\n",
        "import pandas as pd\n",
        "# np.random.seed(0) "
      ]
    },
    {
      "cell_type": "markdown",
      "source": [
        "#Load preprocessed PPMI and Gait Datasets:"
      ],
      "metadata": {
        "id": "AwrwmMyhr9hY"
      }
    },
    {
      "cell_type": "code",
      "execution_count": null,
      "metadata": {
        "id": "5apCCR1q2DSm"
      },
      "outputs": [],
      "source": [
        "gait_hc=pd.read_csv('/content/drive/MyDrive/Parkinsons_Model/Gait_HC.csv')\n",
        "gait_pd=pd.read_csv('/content/drive/MyDrive/Parkinsons_Model/Gait_PD.csv')\n",
        "ppmi_hc=pd.read_csv('/content/drive/MyDrive/Parkinsons_Model/PPMI_HC.csv')\n",
        "ppmi_pd=pd.read_csv('/content/drive/MyDrive/Parkinsons_Model/PPMI_PD.csv')"
      ]
    },
    {
      "cell_type": "markdown",
      "source": [
        "#Drop \"Patient No.\" column from the dataset."
      ],
      "metadata": {
        "id": "W9o8ctOasDh6"
      }
    },
    {
      "cell_type": "code",
      "execution_count": null,
      "metadata": {
        "id": "smn0q0Ma2PQt",
        "colab": {
          "base_uri": "https://localhost:8080/",
          "height": 317
        },
        "outputId": "03837c7b-3fa3-44ab-ed51-879ed006ee65"
      },
      "outputs": [
        {
          "output_type": "execute_result",
          "data": {
            "text/plain": [
              "   ('NP1COG', 'BL')  ('NP1COG', 'V02')  ('NP1COG', 'V04')  ('NP1COG', 'V06')  \\\n",
              "0              0.00               0.00               0.25                0.0   \n",
              "1              0.25               0.25               0.25                0.5   \n",
              "2              0.00               0.00               0.00                0.0   \n",
              "3              0.25               0.25               0.00                0.0   \n",
              "4              0.00               0.00               0.00                0.0   \n",
              "\n",
              "   ('NP1COG', 'V08')  ('NP1COG', 'V10')  ('NP1COG', 'V12')  ('NP1HALL', 'BL')  \\\n",
              "0               0.00               0.00               0.25                0.0   \n",
              "1               0.25               0.25               0.50                0.0   \n",
              "2               0.00               0.00               0.25                0.0   \n",
              "3               0.25               0.00               0.25                0.0   \n",
              "4               0.00               0.00               0.00                0.0   \n",
              "\n",
              "   ('NP1HALL', 'V02')  ('NP1HALL', 'V04')  ...  ('SDMTOTAL', 'V08')  \\\n",
              "0                 0.0                0.00  ...             0.470588   \n",
              "1                 0.0                0.00  ...             0.431373   \n",
              "2                 0.0                0.00  ...             0.480392   \n",
              "3                 0.0                0.25  ...             0.490196   \n",
              "4                 0.0                0.00  ...             0.431373   \n",
              "\n",
              "   ('SDMTOTAL', 'V10')  ('SDMTOTAL', 'V12')  ('JLO_TOTRAW', 'BL')  \\\n",
              "0             0.470588             0.441176              1.000000   \n",
              "1             0.421569             0.372549              0.866667   \n",
              "2             0.411765             0.421569              0.866667   \n",
              "3             0.607843             0.539216              0.666667   \n",
              "4             0.401961             0.372549              0.866667   \n",
              "\n",
              "   ('JLO_TOTRAW', 'V04')  ('JLO_TOTRAW', 'V06')  ('JLO_TOTRAW', 'V08')  \\\n",
              "0               0.800000               1.000000               0.866667   \n",
              "1               0.800000               0.866667               0.733333   \n",
              "2               0.866667               0.933333               0.866667   \n",
              "3               0.866667               0.866667               0.866667   \n",
              "4               0.666667               0.833333               1.000000   \n",
              "\n",
              "   ('JLO_TOTRAW', 'V10')  ('JLO_TOTRAW', 'V12')  ENROLL_CAT  \n",
              "0               0.933333               1.000000          PD  \n",
              "1               1.000000               0.866667          PD  \n",
              "2               1.000000               0.800000          PD  \n",
              "3               0.800000               0.933333          PD  \n",
              "4               0.833333               0.666667          PD  \n",
              "\n",
              "[5 rows x 1596 columns]"
            ],
            "text/html": [
              "\n",
              "  <div id=\"df-95763f5d-0248-417e-ab3f-27a5b898c58b\">\n",
              "    <div class=\"colab-df-container\">\n",
              "      <div>\n",
              "<style scoped>\n",
              "    .dataframe tbody tr th:only-of-type {\n",
              "        vertical-align: middle;\n",
              "    }\n",
              "\n",
              "    .dataframe tbody tr th {\n",
              "        vertical-align: top;\n",
              "    }\n",
              "\n",
              "    .dataframe thead th {\n",
              "        text-align: right;\n",
              "    }\n",
              "</style>\n",
              "<table border=\"1\" class=\"dataframe\">\n",
              "  <thead>\n",
              "    <tr style=\"text-align: right;\">\n",
              "      <th></th>\n",
              "      <th>('NP1COG', 'BL')</th>\n",
              "      <th>('NP1COG', 'V02')</th>\n",
              "      <th>('NP1COG', 'V04')</th>\n",
              "      <th>('NP1COG', 'V06')</th>\n",
              "      <th>('NP1COG', 'V08')</th>\n",
              "      <th>('NP1COG', 'V10')</th>\n",
              "      <th>('NP1COG', 'V12')</th>\n",
              "      <th>('NP1HALL', 'BL')</th>\n",
              "      <th>('NP1HALL', 'V02')</th>\n",
              "      <th>('NP1HALL', 'V04')</th>\n",
              "      <th>...</th>\n",
              "      <th>('SDMTOTAL', 'V08')</th>\n",
              "      <th>('SDMTOTAL', 'V10')</th>\n",
              "      <th>('SDMTOTAL', 'V12')</th>\n",
              "      <th>('JLO_TOTRAW', 'BL')</th>\n",
              "      <th>('JLO_TOTRAW', 'V04')</th>\n",
              "      <th>('JLO_TOTRAW', 'V06')</th>\n",
              "      <th>('JLO_TOTRAW', 'V08')</th>\n",
              "      <th>('JLO_TOTRAW', 'V10')</th>\n",
              "      <th>('JLO_TOTRAW', 'V12')</th>\n",
              "      <th>ENROLL_CAT</th>\n",
              "    </tr>\n",
              "  </thead>\n",
              "  <tbody>\n",
              "    <tr>\n",
              "      <th>0</th>\n",
              "      <td>0.00</td>\n",
              "      <td>0.00</td>\n",
              "      <td>0.25</td>\n",
              "      <td>0.0</td>\n",
              "      <td>0.00</td>\n",
              "      <td>0.00</td>\n",
              "      <td>0.25</td>\n",
              "      <td>0.0</td>\n",
              "      <td>0.0</td>\n",
              "      <td>0.00</td>\n",
              "      <td>...</td>\n",
              "      <td>0.470588</td>\n",
              "      <td>0.470588</td>\n",
              "      <td>0.441176</td>\n",
              "      <td>1.000000</td>\n",
              "      <td>0.800000</td>\n",
              "      <td>1.000000</td>\n",
              "      <td>0.866667</td>\n",
              "      <td>0.933333</td>\n",
              "      <td>1.000000</td>\n",
              "      <td>PD</td>\n",
              "    </tr>\n",
              "    <tr>\n",
              "      <th>1</th>\n",
              "      <td>0.25</td>\n",
              "      <td>0.25</td>\n",
              "      <td>0.25</td>\n",
              "      <td>0.5</td>\n",
              "      <td>0.25</td>\n",
              "      <td>0.25</td>\n",
              "      <td>0.50</td>\n",
              "      <td>0.0</td>\n",
              "      <td>0.0</td>\n",
              "      <td>0.00</td>\n",
              "      <td>...</td>\n",
              "      <td>0.431373</td>\n",
              "      <td>0.421569</td>\n",
              "      <td>0.372549</td>\n",
              "      <td>0.866667</td>\n",
              "      <td>0.800000</td>\n",
              "      <td>0.866667</td>\n",
              "      <td>0.733333</td>\n",
              "      <td>1.000000</td>\n",
              "      <td>0.866667</td>\n",
              "      <td>PD</td>\n",
              "    </tr>\n",
              "    <tr>\n",
              "      <th>2</th>\n",
              "      <td>0.00</td>\n",
              "      <td>0.00</td>\n",
              "      <td>0.00</td>\n",
              "      <td>0.0</td>\n",
              "      <td>0.00</td>\n",
              "      <td>0.00</td>\n",
              "      <td>0.25</td>\n",
              "      <td>0.0</td>\n",
              "      <td>0.0</td>\n",
              "      <td>0.00</td>\n",
              "      <td>...</td>\n",
              "      <td>0.480392</td>\n",
              "      <td>0.411765</td>\n",
              "      <td>0.421569</td>\n",
              "      <td>0.866667</td>\n",
              "      <td>0.866667</td>\n",
              "      <td>0.933333</td>\n",
              "      <td>0.866667</td>\n",
              "      <td>1.000000</td>\n",
              "      <td>0.800000</td>\n",
              "      <td>PD</td>\n",
              "    </tr>\n",
              "    <tr>\n",
              "      <th>3</th>\n",
              "      <td>0.25</td>\n",
              "      <td>0.25</td>\n",
              "      <td>0.00</td>\n",
              "      <td>0.0</td>\n",
              "      <td>0.25</td>\n",
              "      <td>0.00</td>\n",
              "      <td>0.25</td>\n",
              "      <td>0.0</td>\n",
              "      <td>0.0</td>\n",
              "      <td>0.25</td>\n",
              "      <td>...</td>\n",
              "      <td>0.490196</td>\n",
              "      <td>0.607843</td>\n",
              "      <td>0.539216</td>\n",
              "      <td>0.666667</td>\n",
              "      <td>0.866667</td>\n",
              "      <td>0.866667</td>\n",
              "      <td>0.866667</td>\n",
              "      <td>0.800000</td>\n",
              "      <td>0.933333</td>\n",
              "      <td>PD</td>\n",
              "    </tr>\n",
              "    <tr>\n",
              "      <th>4</th>\n",
              "      <td>0.00</td>\n",
              "      <td>0.00</td>\n",
              "      <td>0.00</td>\n",
              "      <td>0.0</td>\n",
              "      <td>0.00</td>\n",
              "      <td>0.00</td>\n",
              "      <td>0.00</td>\n",
              "      <td>0.0</td>\n",
              "      <td>0.0</td>\n",
              "      <td>0.00</td>\n",
              "      <td>...</td>\n",
              "      <td>0.431373</td>\n",
              "      <td>0.401961</td>\n",
              "      <td>0.372549</td>\n",
              "      <td>0.866667</td>\n",
              "      <td>0.666667</td>\n",
              "      <td>0.833333</td>\n",
              "      <td>1.000000</td>\n",
              "      <td>0.833333</td>\n",
              "      <td>0.666667</td>\n",
              "      <td>PD</td>\n",
              "    </tr>\n",
              "  </tbody>\n",
              "</table>\n",
              "<p>5 rows × 1596 columns</p>\n",
              "</div>\n",
              "      <button class=\"colab-df-convert\" onclick=\"convertToInteractive('df-95763f5d-0248-417e-ab3f-27a5b898c58b')\"\n",
              "              title=\"Convert this dataframe to an interactive table.\"\n",
              "              style=\"display:none;\">\n",
              "        \n",
              "  <svg xmlns=\"http://www.w3.org/2000/svg\" height=\"24px\"viewBox=\"0 0 24 24\"\n",
              "       width=\"24px\">\n",
              "    <path d=\"M0 0h24v24H0V0z\" fill=\"none\"/>\n",
              "    <path d=\"M18.56 5.44l.94 2.06.94-2.06 2.06-.94-2.06-.94-.94-2.06-.94 2.06-2.06.94zm-11 1L8.5 8.5l.94-2.06 2.06-.94-2.06-.94L8.5 2.5l-.94 2.06-2.06.94zm10 10l.94 2.06.94-2.06 2.06-.94-2.06-.94-.94-2.06-.94 2.06-2.06.94z\"/><path d=\"M17.41 7.96l-1.37-1.37c-.4-.4-.92-.59-1.43-.59-.52 0-1.04.2-1.43.59L10.3 9.45l-7.72 7.72c-.78.78-.78 2.05 0 2.83L4 21.41c.39.39.9.59 1.41.59.51 0 1.02-.2 1.41-.59l7.78-7.78 2.81-2.81c.8-.78.8-2.07 0-2.86zM5.41 20L4 18.59l7.72-7.72 1.47 1.35L5.41 20z\"/>\n",
              "  </svg>\n",
              "      </button>\n",
              "      \n",
              "  <style>\n",
              "    .colab-df-container {\n",
              "      display:flex;\n",
              "      flex-wrap:wrap;\n",
              "      gap: 12px;\n",
              "    }\n",
              "\n",
              "    .colab-df-convert {\n",
              "      background-color: #E8F0FE;\n",
              "      border: none;\n",
              "      border-radius: 50%;\n",
              "      cursor: pointer;\n",
              "      display: none;\n",
              "      fill: #1967D2;\n",
              "      height: 32px;\n",
              "      padding: 0 0 0 0;\n",
              "      width: 32px;\n",
              "    }\n",
              "\n",
              "    .colab-df-convert:hover {\n",
              "      background-color: #E2EBFA;\n",
              "      box-shadow: 0px 1px 2px rgba(60, 64, 67, 0.3), 0px 1px 3px 1px rgba(60, 64, 67, 0.15);\n",
              "      fill: #174EA6;\n",
              "    }\n",
              "\n",
              "    [theme=dark] .colab-df-convert {\n",
              "      background-color: #3B4455;\n",
              "      fill: #D2E3FC;\n",
              "    }\n",
              "\n",
              "    [theme=dark] .colab-df-convert:hover {\n",
              "      background-color: #434B5C;\n",
              "      box-shadow: 0px 1px 3px 1px rgba(0, 0, 0, 0.15);\n",
              "      filter: drop-shadow(0px 1px 2px rgba(0, 0, 0, 0.3));\n",
              "      fill: #FFFFFF;\n",
              "    }\n",
              "  </style>\n",
              "\n",
              "      <script>\n",
              "        const buttonEl =\n",
              "          document.querySelector('#df-95763f5d-0248-417e-ab3f-27a5b898c58b button.colab-df-convert');\n",
              "        buttonEl.style.display =\n",
              "          google.colab.kernel.accessAllowed ? 'block' : 'none';\n",
              "\n",
              "        async function convertToInteractive(key) {\n",
              "          const element = document.querySelector('#df-95763f5d-0248-417e-ab3f-27a5b898c58b');\n",
              "          const dataTable =\n",
              "            await google.colab.kernel.invokeFunction('convertToInteractive',\n",
              "                                                     [key], {});\n",
              "          if (!dataTable) return;\n",
              "\n",
              "          const docLinkHtml = 'Like what you see? Visit the ' +\n",
              "            '<a target=\"_blank\" href=https://colab.research.google.com/notebooks/data_table.ipynb>data table notebook</a>'\n",
              "            + ' to learn more about interactive tables.';\n",
              "          element.innerHTML = '';\n",
              "          dataTable['output_type'] = 'display_data';\n",
              "          await google.colab.output.renderOutput(dataTable, element);\n",
              "          const docLink = document.createElement('div');\n",
              "          docLink.innerHTML = docLinkHtml;\n",
              "          element.appendChild(docLink);\n",
              "        }\n",
              "      </script>\n",
              "    </div>\n",
              "  </div>\n",
              "  "
            ]
          },
          "metadata": {},
          "execution_count": 442
        }
      ],
      "source": [
        "ppmi_hc = ppmi_hc.drop('PATNO', axis=1)\n",
        "ppmi_pd = ppmi_pd.drop('PATNO', axis=1)\n",
        "ppmi_pd.head()"
      ]
    },
    {
      "cell_type": "markdown",
      "source": [
        "#Replace categorical value with binary number."
      ],
      "metadata": {
        "id": "2Mssy35ds6UG"
      }
    },
    {
      "cell_type": "code",
      "execution_count": null,
      "metadata": {
        "id": "1tIZZIUD2RRl"
      },
      "outputs": [],
      "source": [
        "ppmi_hc['ENROLL_CAT'] = ppmi_hc['ENROLL_CAT'].replace('HC',0)\n",
        "ppmi_pd['ENROLL_CAT'] = ppmi_pd['ENROLL_CAT'].replace('PD',1)"
      ]
    },
    {
      "cell_type": "code",
      "execution_count": null,
      "metadata": {
        "id": "Rprj6hul2TH1",
        "colab": {
          "base_uri": "https://localhost:8080/",
          "height": 505
        },
        "outputId": "f1b8fa58-5de5-49c7-8116-500d699d0440"
      },
      "outputs": [
        {
          "output_type": "execute_result",
          "data": {
            "text/plain": [
              "     ('NP1COG', 'BL')  ('NP1COG', 'V02')  ('NP1COG', 'V04')  \\\n",
              "0                0.00              0.000               0.25   \n",
              "1                0.25              0.250               0.25   \n",
              "2                0.00              0.000               0.00   \n",
              "3                0.25              0.250               0.00   \n",
              "4                0.00              0.000               0.00   \n",
              "..                ...                ...                ...   \n",
              "289              0.00              0.000               0.00   \n",
              "290              0.00              0.000               0.00   \n",
              "291              0.00              0.000               0.00   \n",
              "292              0.00              0.000               0.00   \n",
              "293              0.25              0.375               0.50   \n",
              "\n",
              "     ('NP1COG', 'V06')  ('NP1COG', 'V08')  ('NP1COG', 'V10')  \\\n",
              "0                  0.0               0.00               0.00   \n",
              "1                  0.5               0.25               0.25   \n",
              "2                  0.0               0.00               0.00   \n",
              "3                  0.0               0.25               0.00   \n",
              "4                  0.0               0.00               0.00   \n",
              "..                 ...                ...                ...   \n",
              "289                0.0               0.00               0.00   \n",
              "290                0.0               0.00               0.25   \n",
              "291                0.0               0.00               0.00   \n",
              "292                0.0               0.00               0.00   \n",
              "293                0.5               0.50               0.50   \n",
              "\n",
              "     ('NP1COG', 'V12')  ('NP1HALL', 'BL')  ('NP1HALL', 'V02')  \\\n",
              "0                 0.25                0.0                 0.0   \n",
              "1                 0.50                0.0                 0.0   \n",
              "2                 0.25                0.0                 0.0   \n",
              "3                 0.25                0.0                 0.0   \n",
              "4                 0.00                0.0                 0.0   \n",
              "..                 ...                ...                 ...   \n",
              "289               0.00                0.0                 0.0   \n",
              "290               0.25                0.0                 0.0   \n",
              "291               0.25                0.0                 0.0   \n",
              "292               0.25                0.0                 0.0   \n",
              "293               0.50                0.0                 0.0   \n",
              "\n",
              "     ('NP1HALL', 'V04')  ...  ('SDMTOTAL', 'V08')  ('SDMTOTAL', 'V10')  \\\n",
              "0                  0.00  ...             0.470588             0.470588   \n",
              "1                  0.00  ...             0.431373             0.421569   \n",
              "2                  0.00  ...             0.480392             0.411765   \n",
              "3                  0.25  ...             0.490196             0.607843   \n",
              "4                  0.00  ...             0.431373             0.401961   \n",
              "..                  ...  ...                  ...                  ...   \n",
              "289                0.00  ...             0.313725             0.470588   \n",
              "290                0.00  ...             0.480392             0.480392   \n",
              "291                0.00  ...             0.460784             0.382353   \n",
              "292                0.00  ...             0.519608             0.480392   \n",
              "293                0.00  ...             0.398693             0.385621   \n",
              "\n",
              "     ('SDMTOTAL', 'V12')  ('JLO_TOTRAW', 'BL')  ('JLO_TOTRAW', 'V04')  \\\n",
              "0               0.441176              1.000000               0.800000   \n",
              "1               0.372549              0.866667               0.800000   \n",
              "2               0.421569              0.866667               0.866667   \n",
              "3               0.539216              0.666667               0.866667   \n",
              "4               0.372549              0.866667               0.666667   \n",
              "..                   ...                   ...                    ...   \n",
              "289             0.500000              0.933333               0.866667   \n",
              "290             0.411765              0.933333               0.666667   \n",
              "291             0.500000              1.000000               0.866667   \n",
              "292             0.578431              0.733333               0.533333   \n",
              "293             0.372549              1.000000               0.733333   \n",
              "\n",
              "     ('JLO_TOTRAW', 'V06')  ('JLO_TOTRAW', 'V08')  ('JLO_TOTRAW', 'V10')  \\\n",
              "0                 1.000000               0.866667               0.933333   \n",
              "1                 0.866667               0.733333               1.000000   \n",
              "2                 0.933333               0.866667               1.000000   \n",
              "3                 0.866667               0.866667               0.800000   \n",
              "4                 0.833333               1.000000               0.833333   \n",
              "..                     ...                    ...                    ...   \n",
              "289               0.733333               0.733333               0.733333   \n",
              "290               0.866667               0.866667               0.600000   \n",
              "291               1.000000               1.000000               1.000000   \n",
              "292               0.800000               0.466667               0.733333   \n",
              "293               0.800000               0.733333               0.666667   \n",
              "\n",
              "     ('JLO_TOTRAW', 'V12')  ENROLL_CAT  \n",
              "0                 1.000000           1  \n",
              "1                 0.866667           1  \n",
              "2                 0.800000           1  \n",
              "3                 0.933333           1  \n",
              "4                 0.666667           1  \n",
              "..                     ...         ...  \n",
              "289               0.866667           1  \n",
              "290               0.733333           1  \n",
              "291               1.000000           1  \n",
              "292               0.800000           1  \n",
              "293               0.600000           1  \n",
              "\n",
              "[294 rows x 1596 columns]"
            ],
            "text/html": [
              "\n",
              "  <div id=\"df-6a4c3e42-02c5-46e5-980f-a4b1b7325ee4\">\n",
              "    <div class=\"colab-df-container\">\n",
              "      <div>\n",
              "<style scoped>\n",
              "    .dataframe tbody tr th:only-of-type {\n",
              "        vertical-align: middle;\n",
              "    }\n",
              "\n",
              "    .dataframe tbody tr th {\n",
              "        vertical-align: top;\n",
              "    }\n",
              "\n",
              "    .dataframe thead th {\n",
              "        text-align: right;\n",
              "    }\n",
              "</style>\n",
              "<table border=\"1\" class=\"dataframe\">\n",
              "  <thead>\n",
              "    <tr style=\"text-align: right;\">\n",
              "      <th></th>\n",
              "      <th>('NP1COG', 'BL')</th>\n",
              "      <th>('NP1COG', 'V02')</th>\n",
              "      <th>('NP1COG', 'V04')</th>\n",
              "      <th>('NP1COG', 'V06')</th>\n",
              "      <th>('NP1COG', 'V08')</th>\n",
              "      <th>('NP1COG', 'V10')</th>\n",
              "      <th>('NP1COG', 'V12')</th>\n",
              "      <th>('NP1HALL', 'BL')</th>\n",
              "      <th>('NP1HALL', 'V02')</th>\n",
              "      <th>('NP1HALL', 'V04')</th>\n",
              "      <th>...</th>\n",
              "      <th>('SDMTOTAL', 'V08')</th>\n",
              "      <th>('SDMTOTAL', 'V10')</th>\n",
              "      <th>('SDMTOTAL', 'V12')</th>\n",
              "      <th>('JLO_TOTRAW', 'BL')</th>\n",
              "      <th>('JLO_TOTRAW', 'V04')</th>\n",
              "      <th>('JLO_TOTRAW', 'V06')</th>\n",
              "      <th>('JLO_TOTRAW', 'V08')</th>\n",
              "      <th>('JLO_TOTRAW', 'V10')</th>\n",
              "      <th>('JLO_TOTRAW', 'V12')</th>\n",
              "      <th>ENROLL_CAT</th>\n",
              "    </tr>\n",
              "  </thead>\n",
              "  <tbody>\n",
              "    <tr>\n",
              "      <th>0</th>\n",
              "      <td>0.00</td>\n",
              "      <td>0.000</td>\n",
              "      <td>0.25</td>\n",
              "      <td>0.0</td>\n",
              "      <td>0.00</td>\n",
              "      <td>0.00</td>\n",
              "      <td>0.25</td>\n",
              "      <td>0.0</td>\n",
              "      <td>0.0</td>\n",
              "      <td>0.00</td>\n",
              "      <td>...</td>\n",
              "      <td>0.470588</td>\n",
              "      <td>0.470588</td>\n",
              "      <td>0.441176</td>\n",
              "      <td>1.000000</td>\n",
              "      <td>0.800000</td>\n",
              "      <td>1.000000</td>\n",
              "      <td>0.866667</td>\n",
              "      <td>0.933333</td>\n",
              "      <td>1.000000</td>\n",
              "      <td>1</td>\n",
              "    </tr>\n",
              "    <tr>\n",
              "      <th>1</th>\n",
              "      <td>0.25</td>\n",
              "      <td>0.250</td>\n",
              "      <td>0.25</td>\n",
              "      <td>0.5</td>\n",
              "      <td>0.25</td>\n",
              "      <td>0.25</td>\n",
              "      <td>0.50</td>\n",
              "      <td>0.0</td>\n",
              "      <td>0.0</td>\n",
              "      <td>0.00</td>\n",
              "      <td>...</td>\n",
              "      <td>0.431373</td>\n",
              "      <td>0.421569</td>\n",
              "      <td>0.372549</td>\n",
              "      <td>0.866667</td>\n",
              "      <td>0.800000</td>\n",
              "      <td>0.866667</td>\n",
              "      <td>0.733333</td>\n",
              "      <td>1.000000</td>\n",
              "      <td>0.866667</td>\n",
              "      <td>1</td>\n",
              "    </tr>\n",
              "    <tr>\n",
              "      <th>2</th>\n",
              "      <td>0.00</td>\n",
              "      <td>0.000</td>\n",
              "      <td>0.00</td>\n",
              "      <td>0.0</td>\n",
              "      <td>0.00</td>\n",
              "      <td>0.00</td>\n",
              "      <td>0.25</td>\n",
              "      <td>0.0</td>\n",
              "      <td>0.0</td>\n",
              "      <td>0.00</td>\n",
              "      <td>...</td>\n",
              "      <td>0.480392</td>\n",
              "      <td>0.411765</td>\n",
              "      <td>0.421569</td>\n",
              "      <td>0.866667</td>\n",
              "      <td>0.866667</td>\n",
              "      <td>0.933333</td>\n",
              "      <td>0.866667</td>\n",
              "      <td>1.000000</td>\n",
              "      <td>0.800000</td>\n",
              "      <td>1</td>\n",
              "    </tr>\n",
              "    <tr>\n",
              "      <th>3</th>\n",
              "      <td>0.25</td>\n",
              "      <td>0.250</td>\n",
              "      <td>0.00</td>\n",
              "      <td>0.0</td>\n",
              "      <td>0.25</td>\n",
              "      <td>0.00</td>\n",
              "      <td>0.25</td>\n",
              "      <td>0.0</td>\n",
              "      <td>0.0</td>\n",
              "      <td>0.25</td>\n",
              "      <td>...</td>\n",
              "      <td>0.490196</td>\n",
              "      <td>0.607843</td>\n",
              "      <td>0.539216</td>\n",
              "      <td>0.666667</td>\n",
              "      <td>0.866667</td>\n",
              "      <td>0.866667</td>\n",
              "      <td>0.866667</td>\n",
              "      <td>0.800000</td>\n",
              "      <td>0.933333</td>\n",
              "      <td>1</td>\n",
              "    </tr>\n",
              "    <tr>\n",
              "      <th>4</th>\n",
              "      <td>0.00</td>\n",
              "      <td>0.000</td>\n",
              "      <td>0.00</td>\n",
              "      <td>0.0</td>\n",
              "      <td>0.00</td>\n",
              "      <td>0.00</td>\n",
              "      <td>0.00</td>\n",
              "      <td>0.0</td>\n",
              "      <td>0.0</td>\n",
              "      <td>0.00</td>\n",
              "      <td>...</td>\n",
              "      <td>0.431373</td>\n",
              "      <td>0.401961</td>\n",
              "      <td>0.372549</td>\n",
              "      <td>0.866667</td>\n",
              "      <td>0.666667</td>\n",
              "      <td>0.833333</td>\n",
              "      <td>1.000000</td>\n",
              "      <td>0.833333</td>\n",
              "      <td>0.666667</td>\n",
              "      <td>1</td>\n",
              "    </tr>\n",
              "    <tr>\n",
              "      <th>...</th>\n",
              "      <td>...</td>\n",
              "      <td>...</td>\n",
              "      <td>...</td>\n",
              "      <td>...</td>\n",
              "      <td>...</td>\n",
              "      <td>...</td>\n",
              "      <td>...</td>\n",
              "      <td>...</td>\n",
              "      <td>...</td>\n",
              "      <td>...</td>\n",
              "      <td>...</td>\n",
              "      <td>...</td>\n",
              "      <td>...</td>\n",
              "      <td>...</td>\n",
              "      <td>...</td>\n",
              "      <td>...</td>\n",
              "      <td>...</td>\n",
              "      <td>...</td>\n",
              "      <td>...</td>\n",
              "      <td>...</td>\n",
              "      <td>...</td>\n",
              "    </tr>\n",
              "    <tr>\n",
              "      <th>289</th>\n",
              "      <td>0.00</td>\n",
              "      <td>0.000</td>\n",
              "      <td>0.00</td>\n",
              "      <td>0.0</td>\n",
              "      <td>0.00</td>\n",
              "      <td>0.00</td>\n",
              "      <td>0.00</td>\n",
              "      <td>0.0</td>\n",
              "      <td>0.0</td>\n",
              "      <td>0.00</td>\n",
              "      <td>...</td>\n",
              "      <td>0.313725</td>\n",
              "      <td>0.470588</td>\n",
              "      <td>0.500000</td>\n",
              "      <td>0.933333</td>\n",
              "      <td>0.866667</td>\n",
              "      <td>0.733333</td>\n",
              "      <td>0.733333</td>\n",
              "      <td>0.733333</td>\n",
              "      <td>0.866667</td>\n",
              "      <td>1</td>\n",
              "    </tr>\n",
              "    <tr>\n",
              "      <th>290</th>\n",
              "      <td>0.00</td>\n",
              "      <td>0.000</td>\n",
              "      <td>0.00</td>\n",
              "      <td>0.0</td>\n",
              "      <td>0.00</td>\n",
              "      <td>0.25</td>\n",
              "      <td>0.25</td>\n",
              "      <td>0.0</td>\n",
              "      <td>0.0</td>\n",
              "      <td>0.00</td>\n",
              "      <td>...</td>\n",
              "      <td>0.480392</td>\n",
              "      <td>0.480392</td>\n",
              "      <td>0.411765</td>\n",
              "      <td>0.933333</td>\n",
              "      <td>0.666667</td>\n",
              "      <td>0.866667</td>\n",
              "      <td>0.866667</td>\n",
              "      <td>0.600000</td>\n",
              "      <td>0.733333</td>\n",
              "      <td>1</td>\n",
              "    </tr>\n",
              "    <tr>\n",
              "      <th>291</th>\n",
              "      <td>0.00</td>\n",
              "      <td>0.000</td>\n",
              "      <td>0.00</td>\n",
              "      <td>0.0</td>\n",
              "      <td>0.00</td>\n",
              "      <td>0.00</td>\n",
              "      <td>0.25</td>\n",
              "      <td>0.0</td>\n",
              "      <td>0.0</td>\n",
              "      <td>0.00</td>\n",
              "      <td>...</td>\n",
              "      <td>0.460784</td>\n",
              "      <td>0.382353</td>\n",
              "      <td>0.500000</td>\n",
              "      <td>1.000000</td>\n",
              "      <td>0.866667</td>\n",
              "      <td>1.000000</td>\n",
              "      <td>1.000000</td>\n",
              "      <td>1.000000</td>\n",
              "      <td>1.000000</td>\n",
              "      <td>1</td>\n",
              "    </tr>\n",
              "    <tr>\n",
              "      <th>292</th>\n",
              "      <td>0.00</td>\n",
              "      <td>0.000</td>\n",
              "      <td>0.00</td>\n",
              "      <td>0.0</td>\n",
              "      <td>0.00</td>\n",
              "      <td>0.00</td>\n",
              "      <td>0.25</td>\n",
              "      <td>0.0</td>\n",
              "      <td>0.0</td>\n",
              "      <td>0.00</td>\n",
              "      <td>...</td>\n",
              "      <td>0.519608</td>\n",
              "      <td>0.480392</td>\n",
              "      <td>0.578431</td>\n",
              "      <td>0.733333</td>\n",
              "      <td>0.533333</td>\n",
              "      <td>0.800000</td>\n",
              "      <td>0.466667</td>\n",
              "      <td>0.733333</td>\n",
              "      <td>0.800000</td>\n",
              "      <td>1</td>\n",
              "    </tr>\n",
              "    <tr>\n",
              "      <th>293</th>\n",
              "      <td>0.25</td>\n",
              "      <td>0.375</td>\n",
              "      <td>0.50</td>\n",
              "      <td>0.5</td>\n",
              "      <td>0.50</td>\n",
              "      <td>0.50</td>\n",
              "      <td>0.50</td>\n",
              "      <td>0.0</td>\n",
              "      <td>0.0</td>\n",
              "      <td>0.00</td>\n",
              "      <td>...</td>\n",
              "      <td>0.398693</td>\n",
              "      <td>0.385621</td>\n",
              "      <td>0.372549</td>\n",
              "      <td>1.000000</td>\n",
              "      <td>0.733333</td>\n",
              "      <td>0.800000</td>\n",
              "      <td>0.733333</td>\n",
              "      <td>0.666667</td>\n",
              "      <td>0.600000</td>\n",
              "      <td>1</td>\n",
              "    </tr>\n",
              "  </tbody>\n",
              "</table>\n",
              "<p>294 rows × 1596 columns</p>\n",
              "</div>\n",
              "      <button class=\"colab-df-convert\" onclick=\"convertToInteractive('df-6a4c3e42-02c5-46e5-980f-a4b1b7325ee4')\"\n",
              "              title=\"Convert this dataframe to an interactive table.\"\n",
              "              style=\"display:none;\">\n",
              "        \n",
              "  <svg xmlns=\"http://www.w3.org/2000/svg\" height=\"24px\"viewBox=\"0 0 24 24\"\n",
              "       width=\"24px\">\n",
              "    <path d=\"M0 0h24v24H0V0z\" fill=\"none\"/>\n",
              "    <path d=\"M18.56 5.44l.94 2.06.94-2.06 2.06-.94-2.06-.94-.94-2.06-.94 2.06-2.06.94zm-11 1L8.5 8.5l.94-2.06 2.06-.94-2.06-.94L8.5 2.5l-.94 2.06-2.06.94zm10 10l.94 2.06.94-2.06 2.06-.94-2.06-.94-.94-2.06-.94 2.06-2.06.94z\"/><path d=\"M17.41 7.96l-1.37-1.37c-.4-.4-.92-.59-1.43-.59-.52 0-1.04.2-1.43.59L10.3 9.45l-7.72 7.72c-.78.78-.78 2.05 0 2.83L4 21.41c.39.39.9.59 1.41.59.51 0 1.02-.2 1.41-.59l7.78-7.78 2.81-2.81c.8-.78.8-2.07 0-2.86zM5.41 20L4 18.59l7.72-7.72 1.47 1.35L5.41 20z\"/>\n",
              "  </svg>\n",
              "      </button>\n",
              "      \n",
              "  <style>\n",
              "    .colab-df-container {\n",
              "      display:flex;\n",
              "      flex-wrap:wrap;\n",
              "      gap: 12px;\n",
              "    }\n",
              "\n",
              "    .colab-df-convert {\n",
              "      background-color: #E8F0FE;\n",
              "      border: none;\n",
              "      border-radius: 50%;\n",
              "      cursor: pointer;\n",
              "      display: none;\n",
              "      fill: #1967D2;\n",
              "      height: 32px;\n",
              "      padding: 0 0 0 0;\n",
              "      width: 32px;\n",
              "    }\n",
              "\n",
              "    .colab-df-convert:hover {\n",
              "      background-color: #E2EBFA;\n",
              "      box-shadow: 0px 1px 2px rgba(60, 64, 67, 0.3), 0px 1px 3px 1px rgba(60, 64, 67, 0.15);\n",
              "      fill: #174EA6;\n",
              "    }\n",
              "\n",
              "    [theme=dark] .colab-df-convert {\n",
              "      background-color: #3B4455;\n",
              "      fill: #D2E3FC;\n",
              "    }\n",
              "\n",
              "    [theme=dark] .colab-df-convert:hover {\n",
              "      background-color: #434B5C;\n",
              "      box-shadow: 0px 1px 3px 1px rgba(0, 0, 0, 0.15);\n",
              "      filter: drop-shadow(0px 1px 2px rgba(0, 0, 0, 0.3));\n",
              "      fill: #FFFFFF;\n",
              "    }\n",
              "  </style>\n",
              "\n",
              "      <script>\n",
              "        const buttonEl =\n",
              "          document.querySelector('#df-6a4c3e42-02c5-46e5-980f-a4b1b7325ee4 button.colab-df-convert');\n",
              "        buttonEl.style.display =\n",
              "          google.colab.kernel.accessAllowed ? 'block' : 'none';\n",
              "\n",
              "        async function convertToInteractive(key) {\n",
              "          const element = document.querySelector('#df-6a4c3e42-02c5-46e5-980f-a4b1b7325ee4');\n",
              "          const dataTable =\n",
              "            await google.colab.kernel.invokeFunction('convertToInteractive',\n",
              "                                                     [key], {});\n",
              "          if (!dataTable) return;\n",
              "\n",
              "          const docLinkHtml = 'Like what you see? Visit the ' +\n",
              "            '<a target=\"_blank\" href=https://colab.research.google.com/notebooks/data_table.ipynb>data table notebook</a>'\n",
              "            + ' to learn more about interactive tables.';\n",
              "          element.innerHTML = '';\n",
              "          dataTable['output_type'] = 'display_data';\n",
              "          await google.colab.output.renderOutput(dataTable, element);\n",
              "          const docLink = document.createElement('div');\n",
              "          docLink.innerHTML = docLinkHtml;\n",
              "          element.appendChild(docLink);\n",
              "        }\n",
              "      </script>\n",
              "    </div>\n",
              "  </div>\n",
              "  "
            ]
          },
          "metadata": {},
          "execution_count": 444
        }
      ],
      "source": [
        "ppmi_pd"
      ]
    },
    {
      "cell_type": "markdown",
      "source": [
        "#Separate labels form features in each datasets."
      ],
      "metadata": {
        "id": "z-tPoV3btDAP"
      }
    },
    {
      "cell_type": "code",
      "execution_count": null,
      "metadata": {
        "id": "T811tSsy2Uk9"
      },
      "outputs": [],
      "source": [
        "ppmi_pd_x=ppmi_pd.drop(['ENROLL_CAT'],axis=1)\n",
        "ppmi_hc_x=ppmi_hc.drop(['ENROLL_CAT'],axis=1)\n",
        "ppmi_pd_y=ppmi_pd.ENROLL_CAT\n",
        "ppmi_hc_y=ppmi_hc.ENROLL_CAT\n",
        "gait_pd_x=gait_pd.drop(['Label'],axis=1)\n",
        "gait_hc_x=gait_hc.drop(['Label'],axis=1)\n",
        "gait_pd_y=gait_pd.Label\n",
        "gait_hc_y=gait_hc.Label"
      ]
    },
    {
      "cell_type": "code",
      "execution_count": null,
      "metadata": {
        "id": "uvuA_5wT2Wvl",
        "colab": {
          "base_uri": "https://localhost:8080/",
          "height": 505
        },
        "outputId": "00f83498-ffbb-4bb4-8f9e-b30c59be27d2"
      },
      "outputs": [
        {
          "output_type": "execute_result",
          "data": {
            "text/plain": [
              "     ('NP1COG', 'BL')  ('NP1COG', 'V02')  ('NP1COG', 'V04')  \\\n",
              "0                0.25              0.125                0.0   \n",
              "1                0.00              0.000                0.0   \n",
              "2                0.00              0.000                0.0   \n",
              "3                0.00              0.000                0.0   \n",
              "4                0.00              0.000                0.0   \n",
              "..                ...                ...                ...   \n",
              "149              0.00              0.000                0.0   \n",
              "150              0.00              0.000                0.0   \n",
              "151              0.00              0.000                0.0   \n",
              "152              0.00              0.000                0.0   \n",
              "153              0.00              0.000                0.0   \n",
              "\n",
              "     ('NP1COG', 'V06')  ('NP1COG', 'V08')  ('NP1COG', 'V10')  \\\n",
              "0                 0.25               0.25               0.00   \n",
              "1                 0.00               0.25               0.00   \n",
              "2                 0.00               0.00               0.25   \n",
              "3                 0.00               0.00               0.00   \n",
              "4                 0.00               0.00               0.00   \n",
              "..                 ...                ...                ...   \n",
              "149               0.00               0.00               0.00   \n",
              "150               0.00               0.00               0.00   \n",
              "151               0.00               0.00               0.00   \n",
              "152               0.00               0.00               0.00   \n",
              "153               0.00               0.00               0.00   \n",
              "\n",
              "     ('NP1COG', 'V12')  ('NP1HALL', 'BL')  ('NP1HALL', 'V02')  \\\n",
              "0                 0.25                0.0                 0.0   \n",
              "1                 0.00                0.0                 0.0   \n",
              "2                 0.00                0.0                 0.0   \n",
              "3                 0.00                0.0                 0.0   \n",
              "4                 0.00                0.0                 0.0   \n",
              "..                 ...                ...                 ...   \n",
              "149               0.00                0.0                 0.0   \n",
              "150               0.00                0.0                 0.0   \n",
              "151               0.00                0.0                 0.0   \n",
              "152               0.00                0.0                 0.0   \n",
              "153               0.00                0.0                 0.0   \n",
              "\n",
              "     ('NP1HALL', 'V04')  ...  ('SDMTOTAL', 'V06')  ('SDMTOTAL', 'V08')  \\\n",
              "0                   0.0  ...             0.500000             0.519608   \n",
              "1                   0.0  ...             0.490196             0.450980   \n",
              "2                   0.0  ...             0.343137             0.323529   \n",
              "3                   0.0  ...             0.421569             0.428105   \n",
              "4                   0.0  ...             0.343137             0.382353   \n",
              "..                  ...  ...                  ...                  ...   \n",
              "149                 0.0  ...             0.450980             0.490196   \n",
              "150                 0.0  ...             0.460784             0.696078   \n",
              "151                 0.0  ...             0.323529             0.421569   \n",
              "152                 0.0  ...             0.490196             0.392157   \n",
              "153                 0.0  ...             0.401961             0.392157   \n",
              "\n",
              "     ('SDMTOTAL', 'V10')  ('SDMTOTAL', 'V12')  ('JLO_TOTRAW', 'BL')  \\\n",
              "0               0.500000             0.519608              1.000000   \n",
              "1               0.519608             0.500000              0.866667   \n",
              "2               0.362745             0.343137              0.800000   \n",
              "3               0.434641             0.441176              0.733333   \n",
              "4               0.362745             0.323529              1.000000   \n",
              "..                   ...                  ...                   ...   \n",
              "149             0.509804             0.421569              1.000000   \n",
              "150             0.480392             0.441176              0.933333   \n",
              "151             0.372549             0.382353              0.800000   \n",
              "152             0.401961             0.421569              0.866667   \n",
              "153             0.401961             0.372549              0.800000   \n",
              "\n",
              "     ('JLO_TOTRAW', 'V04')  ('JLO_TOTRAW', 'V06')  ('JLO_TOTRAW', 'V08')  \\\n",
              "0                 1.000000               0.933333               0.866667   \n",
              "1                 0.866667               1.000000               0.933333   \n",
              "2                 0.800000               0.800000               0.600000   \n",
              "3                 0.333333               0.866667               0.888889   \n",
              "4                 0.933333               0.933333               0.733333   \n",
              "..                     ...                    ...                    ...   \n",
              "149               1.000000               1.000000               1.000000   \n",
              "150               0.933333               0.933333               0.933333   \n",
              "151               0.866667               0.933333               0.666667   \n",
              "152               1.000000               0.733333               0.933333   \n",
              "153               0.733333               0.866667               0.800000   \n",
              "\n",
              "     ('JLO_TOTRAW', 'V10')  ('JLO_TOTRAW', 'V12')  \n",
              "0                 0.933333               1.000000  \n",
              "1                 1.000000               1.000000  \n",
              "2                 0.933333               0.666667  \n",
              "3                 0.911111               0.933333  \n",
              "4                 0.800000               0.733333  \n",
              "..                     ...                    ...  \n",
              "149               0.933333               0.933333  \n",
              "150               0.933333               0.933333  \n",
              "151               0.733333               0.866667  \n",
              "152               0.733333               0.933333  \n",
              "153               0.933333               0.733333  \n",
              "\n",
              "[154 rows x 1595 columns]"
            ],
            "text/html": [
              "\n",
              "  <div id=\"df-f51973b3-cfb1-4949-9073-868cd723c6cd\">\n",
              "    <div class=\"colab-df-container\">\n",
              "      <div>\n",
              "<style scoped>\n",
              "    .dataframe tbody tr th:only-of-type {\n",
              "        vertical-align: middle;\n",
              "    }\n",
              "\n",
              "    .dataframe tbody tr th {\n",
              "        vertical-align: top;\n",
              "    }\n",
              "\n",
              "    .dataframe thead th {\n",
              "        text-align: right;\n",
              "    }\n",
              "</style>\n",
              "<table border=\"1\" class=\"dataframe\">\n",
              "  <thead>\n",
              "    <tr style=\"text-align: right;\">\n",
              "      <th></th>\n",
              "      <th>('NP1COG', 'BL')</th>\n",
              "      <th>('NP1COG', 'V02')</th>\n",
              "      <th>('NP1COG', 'V04')</th>\n",
              "      <th>('NP1COG', 'V06')</th>\n",
              "      <th>('NP1COG', 'V08')</th>\n",
              "      <th>('NP1COG', 'V10')</th>\n",
              "      <th>('NP1COG', 'V12')</th>\n",
              "      <th>('NP1HALL', 'BL')</th>\n",
              "      <th>('NP1HALL', 'V02')</th>\n",
              "      <th>('NP1HALL', 'V04')</th>\n",
              "      <th>...</th>\n",
              "      <th>('SDMTOTAL', 'V06')</th>\n",
              "      <th>('SDMTOTAL', 'V08')</th>\n",
              "      <th>('SDMTOTAL', 'V10')</th>\n",
              "      <th>('SDMTOTAL', 'V12')</th>\n",
              "      <th>('JLO_TOTRAW', 'BL')</th>\n",
              "      <th>('JLO_TOTRAW', 'V04')</th>\n",
              "      <th>('JLO_TOTRAW', 'V06')</th>\n",
              "      <th>('JLO_TOTRAW', 'V08')</th>\n",
              "      <th>('JLO_TOTRAW', 'V10')</th>\n",
              "      <th>('JLO_TOTRAW', 'V12')</th>\n",
              "    </tr>\n",
              "  </thead>\n",
              "  <tbody>\n",
              "    <tr>\n",
              "      <th>0</th>\n",
              "      <td>0.25</td>\n",
              "      <td>0.125</td>\n",
              "      <td>0.0</td>\n",
              "      <td>0.25</td>\n",
              "      <td>0.25</td>\n",
              "      <td>0.00</td>\n",
              "      <td>0.25</td>\n",
              "      <td>0.0</td>\n",
              "      <td>0.0</td>\n",
              "      <td>0.0</td>\n",
              "      <td>...</td>\n",
              "      <td>0.500000</td>\n",
              "      <td>0.519608</td>\n",
              "      <td>0.500000</td>\n",
              "      <td>0.519608</td>\n",
              "      <td>1.000000</td>\n",
              "      <td>1.000000</td>\n",
              "      <td>0.933333</td>\n",
              "      <td>0.866667</td>\n",
              "      <td>0.933333</td>\n",
              "      <td>1.000000</td>\n",
              "    </tr>\n",
              "    <tr>\n",
              "      <th>1</th>\n",
              "      <td>0.00</td>\n",
              "      <td>0.000</td>\n",
              "      <td>0.0</td>\n",
              "      <td>0.00</td>\n",
              "      <td>0.25</td>\n",
              "      <td>0.00</td>\n",
              "      <td>0.00</td>\n",
              "      <td>0.0</td>\n",
              "      <td>0.0</td>\n",
              "      <td>0.0</td>\n",
              "      <td>...</td>\n",
              "      <td>0.490196</td>\n",
              "      <td>0.450980</td>\n",
              "      <td>0.519608</td>\n",
              "      <td>0.500000</td>\n",
              "      <td>0.866667</td>\n",
              "      <td>0.866667</td>\n",
              "      <td>1.000000</td>\n",
              "      <td>0.933333</td>\n",
              "      <td>1.000000</td>\n",
              "      <td>1.000000</td>\n",
              "    </tr>\n",
              "    <tr>\n",
              "      <th>2</th>\n",
              "      <td>0.00</td>\n",
              "      <td>0.000</td>\n",
              "      <td>0.0</td>\n",
              "      <td>0.00</td>\n",
              "      <td>0.00</td>\n",
              "      <td>0.25</td>\n",
              "      <td>0.00</td>\n",
              "      <td>0.0</td>\n",
              "      <td>0.0</td>\n",
              "      <td>0.0</td>\n",
              "      <td>...</td>\n",
              "      <td>0.343137</td>\n",
              "      <td>0.323529</td>\n",
              "      <td>0.362745</td>\n",
              "      <td>0.343137</td>\n",
              "      <td>0.800000</td>\n",
              "      <td>0.800000</td>\n",
              "      <td>0.800000</td>\n",
              "      <td>0.600000</td>\n",
              "      <td>0.933333</td>\n",
              "      <td>0.666667</td>\n",
              "    </tr>\n",
              "    <tr>\n",
              "      <th>3</th>\n",
              "      <td>0.00</td>\n",
              "      <td>0.000</td>\n",
              "      <td>0.0</td>\n",
              "      <td>0.00</td>\n",
              "      <td>0.00</td>\n",
              "      <td>0.00</td>\n",
              "      <td>0.00</td>\n",
              "      <td>0.0</td>\n",
              "      <td>0.0</td>\n",
              "      <td>0.0</td>\n",
              "      <td>...</td>\n",
              "      <td>0.421569</td>\n",
              "      <td>0.428105</td>\n",
              "      <td>0.434641</td>\n",
              "      <td>0.441176</td>\n",
              "      <td>0.733333</td>\n",
              "      <td>0.333333</td>\n",
              "      <td>0.866667</td>\n",
              "      <td>0.888889</td>\n",
              "      <td>0.911111</td>\n",
              "      <td>0.933333</td>\n",
              "    </tr>\n",
              "    <tr>\n",
              "      <th>4</th>\n",
              "      <td>0.00</td>\n",
              "      <td>0.000</td>\n",
              "      <td>0.0</td>\n",
              "      <td>0.00</td>\n",
              "      <td>0.00</td>\n",
              "      <td>0.00</td>\n",
              "      <td>0.00</td>\n",
              "      <td>0.0</td>\n",
              "      <td>0.0</td>\n",
              "      <td>0.0</td>\n",
              "      <td>...</td>\n",
              "      <td>0.343137</td>\n",
              "      <td>0.382353</td>\n",
              "      <td>0.362745</td>\n",
              "      <td>0.323529</td>\n",
              "      <td>1.000000</td>\n",
              "      <td>0.933333</td>\n",
              "      <td>0.933333</td>\n",
              "      <td>0.733333</td>\n",
              "      <td>0.800000</td>\n",
              "      <td>0.733333</td>\n",
              "    </tr>\n",
              "    <tr>\n",
              "      <th>...</th>\n",
              "      <td>...</td>\n",
              "      <td>...</td>\n",
              "      <td>...</td>\n",
              "      <td>...</td>\n",
              "      <td>...</td>\n",
              "      <td>...</td>\n",
              "      <td>...</td>\n",
              "      <td>...</td>\n",
              "      <td>...</td>\n",
              "      <td>...</td>\n",
              "      <td>...</td>\n",
              "      <td>...</td>\n",
              "      <td>...</td>\n",
              "      <td>...</td>\n",
              "      <td>...</td>\n",
              "      <td>...</td>\n",
              "      <td>...</td>\n",
              "      <td>...</td>\n",
              "      <td>...</td>\n",
              "      <td>...</td>\n",
              "      <td>...</td>\n",
              "    </tr>\n",
              "    <tr>\n",
              "      <th>149</th>\n",
              "      <td>0.00</td>\n",
              "      <td>0.000</td>\n",
              "      <td>0.0</td>\n",
              "      <td>0.00</td>\n",
              "      <td>0.00</td>\n",
              "      <td>0.00</td>\n",
              "      <td>0.00</td>\n",
              "      <td>0.0</td>\n",
              "      <td>0.0</td>\n",
              "      <td>0.0</td>\n",
              "      <td>...</td>\n",
              "      <td>0.450980</td>\n",
              "      <td>0.490196</td>\n",
              "      <td>0.509804</td>\n",
              "      <td>0.421569</td>\n",
              "      <td>1.000000</td>\n",
              "      <td>1.000000</td>\n",
              "      <td>1.000000</td>\n",
              "      <td>1.000000</td>\n",
              "      <td>0.933333</td>\n",
              "      <td>0.933333</td>\n",
              "    </tr>\n",
              "    <tr>\n",
              "      <th>150</th>\n",
              "      <td>0.00</td>\n",
              "      <td>0.000</td>\n",
              "      <td>0.0</td>\n",
              "      <td>0.00</td>\n",
              "      <td>0.00</td>\n",
              "      <td>0.00</td>\n",
              "      <td>0.00</td>\n",
              "      <td>0.0</td>\n",
              "      <td>0.0</td>\n",
              "      <td>0.0</td>\n",
              "      <td>...</td>\n",
              "      <td>0.460784</td>\n",
              "      <td>0.696078</td>\n",
              "      <td>0.480392</td>\n",
              "      <td>0.441176</td>\n",
              "      <td>0.933333</td>\n",
              "      <td>0.933333</td>\n",
              "      <td>0.933333</td>\n",
              "      <td>0.933333</td>\n",
              "      <td>0.933333</td>\n",
              "      <td>0.933333</td>\n",
              "    </tr>\n",
              "    <tr>\n",
              "      <th>151</th>\n",
              "      <td>0.00</td>\n",
              "      <td>0.000</td>\n",
              "      <td>0.0</td>\n",
              "      <td>0.00</td>\n",
              "      <td>0.00</td>\n",
              "      <td>0.00</td>\n",
              "      <td>0.00</td>\n",
              "      <td>0.0</td>\n",
              "      <td>0.0</td>\n",
              "      <td>0.0</td>\n",
              "      <td>...</td>\n",
              "      <td>0.323529</td>\n",
              "      <td>0.421569</td>\n",
              "      <td>0.372549</td>\n",
              "      <td>0.382353</td>\n",
              "      <td>0.800000</td>\n",
              "      <td>0.866667</td>\n",
              "      <td>0.933333</td>\n",
              "      <td>0.666667</td>\n",
              "      <td>0.733333</td>\n",
              "      <td>0.866667</td>\n",
              "    </tr>\n",
              "    <tr>\n",
              "      <th>152</th>\n",
              "      <td>0.00</td>\n",
              "      <td>0.000</td>\n",
              "      <td>0.0</td>\n",
              "      <td>0.00</td>\n",
              "      <td>0.00</td>\n",
              "      <td>0.00</td>\n",
              "      <td>0.00</td>\n",
              "      <td>0.0</td>\n",
              "      <td>0.0</td>\n",
              "      <td>0.0</td>\n",
              "      <td>...</td>\n",
              "      <td>0.490196</td>\n",
              "      <td>0.392157</td>\n",
              "      <td>0.401961</td>\n",
              "      <td>0.421569</td>\n",
              "      <td>0.866667</td>\n",
              "      <td>1.000000</td>\n",
              "      <td>0.733333</td>\n",
              "      <td>0.933333</td>\n",
              "      <td>0.733333</td>\n",
              "      <td>0.933333</td>\n",
              "    </tr>\n",
              "    <tr>\n",
              "      <th>153</th>\n",
              "      <td>0.00</td>\n",
              "      <td>0.000</td>\n",
              "      <td>0.0</td>\n",
              "      <td>0.00</td>\n",
              "      <td>0.00</td>\n",
              "      <td>0.00</td>\n",
              "      <td>0.00</td>\n",
              "      <td>0.0</td>\n",
              "      <td>0.0</td>\n",
              "      <td>0.0</td>\n",
              "      <td>...</td>\n",
              "      <td>0.401961</td>\n",
              "      <td>0.392157</td>\n",
              "      <td>0.401961</td>\n",
              "      <td>0.372549</td>\n",
              "      <td>0.800000</td>\n",
              "      <td>0.733333</td>\n",
              "      <td>0.866667</td>\n",
              "      <td>0.800000</td>\n",
              "      <td>0.933333</td>\n",
              "      <td>0.733333</td>\n",
              "    </tr>\n",
              "  </tbody>\n",
              "</table>\n",
              "<p>154 rows × 1595 columns</p>\n",
              "</div>\n",
              "      <button class=\"colab-df-convert\" onclick=\"convertToInteractive('df-f51973b3-cfb1-4949-9073-868cd723c6cd')\"\n",
              "              title=\"Convert this dataframe to an interactive table.\"\n",
              "              style=\"display:none;\">\n",
              "        \n",
              "  <svg xmlns=\"http://www.w3.org/2000/svg\" height=\"24px\"viewBox=\"0 0 24 24\"\n",
              "       width=\"24px\">\n",
              "    <path d=\"M0 0h24v24H0V0z\" fill=\"none\"/>\n",
              "    <path d=\"M18.56 5.44l.94 2.06.94-2.06 2.06-.94-2.06-.94-.94-2.06-.94 2.06-2.06.94zm-11 1L8.5 8.5l.94-2.06 2.06-.94-2.06-.94L8.5 2.5l-.94 2.06-2.06.94zm10 10l.94 2.06.94-2.06 2.06-.94-2.06-.94-.94-2.06-.94 2.06-2.06.94z\"/><path d=\"M17.41 7.96l-1.37-1.37c-.4-.4-.92-.59-1.43-.59-.52 0-1.04.2-1.43.59L10.3 9.45l-7.72 7.72c-.78.78-.78 2.05 0 2.83L4 21.41c.39.39.9.59 1.41.59.51 0 1.02-.2 1.41-.59l7.78-7.78 2.81-2.81c.8-.78.8-2.07 0-2.86zM5.41 20L4 18.59l7.72-7.72 1.47 1.35L5.41 20z\"/>\n",
              "  </svg>\n",
              "      </button>\n",
              "      \n",
              "  <style>\n",
              "    .colab-df-container {\n",
              "      display:flex;\n",
              "      flex-wrap:wrap;\n",
              "      gap: 12px;\n",
              "    }\n",
              "\n",
              "    .colab-df-convert {\n",
              "      background-color: #E8F0FE;\n",
              "      border: none;\n",
              "      border-radius: 50%;\n",
              "      cursor: pointer;\n",
              "      display: none;\n",
              "      fill: #1967D2;\n",
              "      height: 32px;\n",
              "      padding: 0 0 0 0;\n",
              "      width: 32px;\n",
              "    }\n",
              "\n",
              "    .colab-df-convert:hover {\n",
              "      background-color: #E2EBFA;\n",
              "      box-shadow: 0px 1px 2px rgba(60, 64, 67, 0.3), 0px 1px 3px 1px rgba(60, 64, 67, 0.15);\n",
              "      fill: #174EA6;\n",
              "    }\n",
              "\n",
              "    [theme=dark] .colab-df-convert {\n",
              "      background-color: #3B4455;\n",
              "      fill: #D2E3FC;\n",
              "    }\n",
              "\n",
              "    [theme=dark] .colab-df-convert:hover {\n",
              "      background-color: #434B5C;\n",
              "      box-shadow: 0px 1px 3px 1px rgba(0, 0, 0, 0.15);\n",
              "      filter: drop-shadow(0px 1px 2px rgba(0, 0, 0, 0.3));\n",
              "      fill: #FFFFFF;\n",
              "    }\n",
              "  </style>\n",
              "\n",
              "      <script>\n",
              "        const buttonEl =\n",
              "          document.querySelector('#df-f51973b3-cfb1-4949-9073-868cd723c6cd button.colab-df-convert');\n",
              "        buttonEl.style.display =\n",
              "          google.colab.kernel.accessAllowed ? 'block' : 'none';\n",
              "\n",
              "        async function convertToInteractive(key) {\n",
              "          const element = document.querySelector('#df-f51973b3-cfb1-4949-9073-868cd723c6cd');\n",
              "          const dataTable =\n",
              "            await google.colab.kernel.invokeFunction('convertToInteractive',\n",
              "                                                     [key], {});\n",
              "          if (!dataTable) return;\n",
              "\n",
              "          const docLinkHtml = 'Like what you see? Visit the ' +\n",
              "            '<a target=\"_blank\" href=https://colab.research.google.com/notebooks/data_table.ipynb>data table notebook</a>'\n",
              "            + ' to learn more about interactive tables.';\n",
              "          element.innerHTML = '';\n",
              "          dataTable['output_type'] = 'display_data';\n",
              "          await google.colab.output.renderOutput(dataTable, element);\n",
              "          const docLink = document.createElement('div');\n",
              "          docLink.innerHTML = docLinkHtml;\n",
              "          element.appendChild(docLink);\n",
              "        }\n",
              "      </script>\n",
              "    </div>\n",
              "  </div>\n",
              "  "
            ]
          },
          "metadata": {},
          "execution_count": 446
        }
      ],
      "source": [
        "ppmi_hc_x"
      ]
    },
    {
      "cell_type": "code",
      "execution_count": null,
      "metadata": {
        "id": "kcAnd4Fi1bsG"
      },
      "outputs": [],
      "source": [
        "# np.random.seed(30)"
      ]
    },
    {
      "cell_type": "markdown",
      "source": [
        "#Split dataset for training, validation and testing purpose."
      ],
      "metadata": {
        "id": "A_Gfd1bQtMjI"
      }
    },
    {
      "cell_type": "code",
      "execution_count": null,
      "metadata": {
        "id": "ELurMs7C2YaE"
      },
      "outputs": [],
      "source": [
        "from sklearn.model_selection import train_test_split\n",
        "ppmi_pd_x_train, ppmi_pd_x_test, ppmi_pd_y_train, ppmi_pd_y_test = train_test_split(ppmi_pd_x, ppmi_pd_y, test_size = 0.50, random_state=50)\n",
        "ppmi_hc_x_train, ppmi_hc_x_test, ppmi_hc_y_train, ppmi_hc_y_test = train_test_split(ppmi_hc_x, ppmi_hc_y, test_size = 0.50, random_state=50)\n",
        "gait_pd_x_train, gait_pd_x_test, gait_pd_y_train, gait_pd_y_test = train_test_split(gait_pd_x, gait_pd_y, test_size = 0.50, random_state=50)\n",
        "gait_hc_x_train, gait_hc_x_test, gait_hc_y_train, gait_hc_y_test = train_test_split(gait_hc_x, gait_hc_y, test_size = 0.50, random_state=50)"
      ]
    },
    {
      "cell_type": "code",
      "execution_count": null,
      "metadata": {
        "id": "aZafa4kd20dU"
      },
      "outputs": [],
      "source": [
        "ppmi_pd_x_val, ppmi_pd_x_test, ppmi_pd_y_val, ppmi_pd_y_test = train_test_split(ppmi_pd_x_test, ppmi_pd_y_test, test_size = 0.50, random_state=50)\n",
        "ppmi_hc_x_val, ppmi_hc_x_test, ppmi_hc_y_val, ppmi_hc_y_test = train_test_split(ppmi_hc_x_test, ppmi_hc_y_test, test_size = 0.50, random_state=50)\n",
        "gait_pd_x_val, gait_pd_x_test, gait_pd_y_val, gait_pd_y_test = train_test_split(gait_pd_x_test, gait_pd_y_test, test_size = 0.50, random_state=50)\n",
        "gait_hc_x_val, gait_hc_x_test, gait_hc_y_val, gait_hc_y_test = train_test_split(gait_hc_x_test, gait_hc_y_test, test_size = 0.50, random_state=50)"
      ]
    },
    {
      "cell_type": "code",
      "execution_count": null,
      "metadata": {
        "id": "H7LGu5RT23Kl",
        "colab": {
          "base_uri": "https://localhost:8080/"
        },
        "outputId": "fbdf8134-bd3b-4ed3-fdd2-a4a7f40d7f8c"
      },
      "outputs": [
        {
          "output_type": "execute_result",
          "data": {
            "text/plain": [
              "pandas.core.series.Series"
            ]
          },
          "metadata": {},
          "execution_count": 450
        }
      ],
      "source": [
        "type(ppmi_pd_y_val)"
      ]
    },
    {
      "cell_type": "markdown",
      "source": [
        "#Cross Multiplying samples of intra class data of PPMI and Gait Datasets."
      ],
      "metadata": {
        "id": "Km6s02kytPHn"
      }
    },
    {
      "cell_type": "code",
      "execution_count": null,
      "metadata": {
        "id": "chpjydnl249E"
      },
      "outputs": [],
      "source": [
        "pd_x_train=gait_pd_x_train.merge(ppmi_pd_x_train, how='cross')\n",
        "pd_x_val=gait_pd_x_val.merge(ppmi_pd_x_val, how='cross')\n",
        "pd_x_test=gait_pd_x_test.merge(ppmi_pd_x_test, how='cross')\n",
        "hc_x_train=gait_hc_x_train.merge(ppmi_hc_x_train, how='cross')\n",
        "hc_x_val=gait_hc_x_val.merge(ppmi_hc_x_val, how='cross')\n",
        "hc_x_test=gait_hc_x_test.merge(ppmi_hc_x_test, how='cross')"
      ]
    },
    {
      "cell_type": "code",
      "execution_count": null,
      "metadata": {
        "id": "poKCVA_g26wU"
      },
      "outputs": [],
      "source": [
        "pd_y_train=gait_pd_y_train.to_frame().merge(ppmi_pd_y_train.to_frame(), how='cross')\n",
        "pd_y_val=gait_pd_y_val.to_frame().merge(ppmi_pd_y_val.to_frame(), how='cross')\n",
        "pd_y_test=gait_pd_y_test.to_frame().merge(ppmi_pd_y_test.to_frame(), how='cross')\n",
        "hc_y_train=gait_hc_y_train.to_frame().merge(ppmi_hc_y_train.to_frame(), how='cross')\n",
        "hc_y_val=gait_hc_y_val.to_frame().merge(ppmi_hc_y_val.to_frame(), how='cross')\n",
        "hc_y_test=gait_hc_y_test.to_frame().merge(ppmi_hc_y_test.to_frame(), how='cross')"
      ]
    },
    {
      "cell_type": "markdown",
      "source": [
        "#Extract labels from both the datasets."
      ],
      "metadata": {
        "id": "SfZEZPqktViU"
      }
    },
    {
      "cell_type": "code",
      "execution_count": null,
      "metadata": {
        "id": "Yluz2Ans28ls"
      },
      "outputs": [],
      "source": [
        "pd_y_train=pd_y_train.Label\n",
        "pd_y_val=pd_y_val.Label\n",
        "pd_y_test=pd_y_test.Label\n",
        "hc_y_train=hc_y_train.Label\n",
        "hc_y_val=hc_y_val.Label\n",
        "hc_y_test=hc_y_test.Label"
      ]
    },
    {
      "cell_type": "code",
      "execution_count": null,
      "metadata": {
        "id": "3-eFAXjU2-Ys",
        "colab": {
          "base_uri": "https://localhost:8080/"
        },
        "outputId": "98c0250e-75a0-4bec-bed1-d1f53b34dd92"
      },
      "outputs": [
        {
          "output_type": "execute_result",
          "data": {
            "text/plain": [
              "(15729,)"
            ]
          },
          "metadata": {},
          "execution_count": 454
        }
      ],
      "source": [
        "pd_y_train.shape"
      ]
    },
    {
      "cell_type": "markdown",
      "source": [
        "#Concatenate data of both the classes to create train, validation and test set."
      ],
      "metadata": {
        "id": "ojWjLBxAtuKo"
      }
    },
    {
      "cell_type": "code",
      "execution_count": null,
      "metadata": {
        "id": "Y_SOTbv62_9s"
      },
      "outputs": [],
      "source": [
        "X_train = [pd_x_train, hc_x_train]\n",
        "X_train=pd.concat(X_train)\n",
        "X_test = [pd_x_test, hc_x_test]\n",
        "X_test=pd.concat(X_test)\n",
        "X_val = [pd_x_val, hc_x_val]\n",
        "X_val=pd.concat(X_val)"
      ]
    },
    {
      "cell_type": "code",
      "execution_count": null,
      "metadata": {
        "id": "W2xx633q3CJM"
      },
      "outputs": [],
      "source": [
        "X_train = [pd_x_train, hc_x_train]\n",
        "X_train=pd.concat(X_train)\n",
        "X_test = [pd_x_test, hc_x_test]\n",
        "X_test=pd.concat(X_test)\n",
        "X_val = [pd_x_val, hc_x_val]\n",
        "X_val=pd.concat(X_val)"
      ]
    },
    {
      "cell_type": "markdown",
      "source": [
        "#Standardize those features :"
      ],
      "metadata": {
        "id": "3mWPjTN7tydq"
      }
    },
    {
      "cell_type": "code",
      "execution_count": null,
      "metadata": {
        "id": "t7xtboYj3F_s"
      },
      "outputs": [],
      "source": [
        "from sklearn.preprocessing import StandardScaler\n",
        "sc = StandardScaler()\n",
        "X_train = sc.fit_transform(X_train)\n",
        "X_test = sc.fit_transform(X_test)\n",
        "X_val = sc.fit_transform(X_val)"
      ]
    },
    {
      "cell_type": "markdown",
      "source": [
        "#Concatenate data of both the classes to to create train, validation and test set."
      ],
      "metadata": {
        "id": "EyShsKczt9_h"
      }
    },
    {
      "cell_type": "code",
      "execution_count": null,
      "metadata": {
        "id": "1DNSRiTS3Jzk"
      },
      "outputs": [],
      "source": [
        "y_train=pd.concat([pd_y_train,hc_y_train])\n",
        "y_test=pd.concat([pd_y_test,hc_y_test])\n",
        "y_val=pd.concat([pd_y_val,hc_y_val])"
      ]
    },
    {
      "cell_type": "code",
      "execution_count": null,
      "metadata": {
        "id": "KFuuP8aXn0G1",
        "colab": {
          "base_uri": "https://localhost:8080/"
        },
        "outputId": "eeb93786-13cb-4add-f192-3591cf8da965"
      },
      "outputs": [
        {
          "output_type": "execute_result",
          "data": {
            "text/plain": [
              "pandas.core.series.Series"
            ]
          },
          "metadata": {},
          "execution_count": 459
        }
      ],
      "source": [
        "type(y_test)"
      ]
    },
    {
      "cell_type": "code",
      "execution_count": null,
      "metadata": {
        "id": "3DvekR7XhfGU"
      },
      "outputs": [],
      "source": [
        "train_data=[X_train,X_test,X_val]\n",
        "train_label=[y_train,y_test,y_val]"
      ]
    },
    {
      "cell_type": "code",
      "execution_count": null,
      "metadata": {
        "id": "yJf_0WwChsxX",
        "colab": {
          "base_uri": "https://localhost:8080/"
        },
        "outputId": "5983c877-8068-488f-d1cd-db5530732473"
      },
      "outputs": [
        {
          "output_type": "execute_result",
          "data": {
            "text/plain": [
              "(19271, 1721)"
            ]
          },
          "metadata": {},
          "execution_count": 461
        }
      ],
      "source": [
        "train_data[0].shape"
      ]
    },
    {
      "cell_type": "code",
      "execution_count": null,
      "metadata": {
        "id": "T0eGBxsT3OiE",
        "colab": {
          "base_uri": "https://localhost:8080/"
        },
        "outputId": "0920cc96-c5ba-44cd-b1c0-dc2bc23e5c66"
      },
      "outputs": [
        {
          "output_type": "execute_result",
          "data": {
            "text/plain": [
              "(19271, 1721)"
            ]
          },
          "metadata": {},
          "execution_count": 462
        }
      ],
      "source": [
        "X_train.shape"
      ]
    },
    {
      "cell_type": "markdown",
      "source": [
        "#Function for calculating evaluation metrices (Accuracy, ROC AUC Score, Cohen Kappa Score, Confusion Matrix, Classification Report, Precision vs Recall Plot, ROC Curve) :"
      ],
      "metadata": {
        "id": "7rWzANW9uHR4"
      }
    },
    {
      "cell_type": "code",
      "execution_count": null,
      "metadata": {
        "id": "zjWPJoH9sITS"
      },
      "outputs": [],
      "source": [
        "import seaborn\n",
        "import tensorflow as tf\n",
        "from sklearn.metrics import classification_report\n",
        "from sklearn.metrics import cohen_kappa_score\n",
        "from sklearn.metrics import roc_curve, auc, roc_auc_score\n",
        "from sklearn.metrics import precision_recall_curve\n",
        "from sklearn.metrics import accuracy_score\n",
        "from sklearn.preprocessing import LabelBinarizer\n",
        "def model_evaluate(model, target, testX, testy):\n",
        "  y_pred = model.predict(testX)\n",
        "  y_pred=np.round_(y_pred)\n",
        "  # y_pred = np.argmax(y_pred, axis=1)\n",
        "  # y_test = np.argmax(testy, axis=1)\n",
        "  y_test=testy\n",
        "  # Confusion matrix\n",
        "  print('Confusion Matrix')\n",
        "\n",
        "  cm = tf.math.confusion_matrix(labels = y_test, predictions = y_pred)\n",
        "  # Calculate accuracy\n",
        "  cm_np = cm.numpy()\n",
        "  conf_acc = accuracy_score(y_test, y_pred) * 100\n",
        "  print(\"Accuracy for Test Data = \", conf_acc)\n",
        "\n",
        "  plt.figure(figsize = (12,8))\n",
        "  seaborn.heatmap(cm, annot=True, fmt='d')\n",
        "  plt.title(\"Confusion Matrix for Test Data\")\n",
        "  plt.xlabel('Predicted')\n",
        "  plt.ylabel('Expected')\n",
        "  plt.show()\n",
        "\n",
        "  # Classification Report\n",
        "  print('\\nClassification Report')\n",
        "  print(classification_report(y_test, y_pred))\n",
        "\n",
        "  # Cohen Kappa Score\n",
        "  print('\\nCohen Kappa Score')\n",
        "  print(cohen_kappa_score(y_test, y_pred))\n",
        "\n",
        "  # Precision vs Recall Curve\n",
        "  print('\\nPrecision vs Recall Curve')\n",
        "  fig, c_ax = plt.subplots(1,1, figsize = (12, 8))\n",
        "\n",
        "  y_test = tf.keras.utils.to_categorical(y_test)\n",
        "  y_pred = tf.keras.utils.to_categorical(y_pred)\n",
        "  n_classes = 2\n",
        "\n",
        "  precision = dict()\n",
        "  recall = dict()\n",
        "\n",
        "  for i in range(n_classes):\n",
        "    precision[i], recall[i], _ = precision_recall_curve(y_test[:, i],\n",
        "                                                          y_pred[:, i])\n",
        "    plt.plot(recall[i], precision[i], lw=2, label='class {}'.format(i))\n",
        "      \n",
        "  plt.xlabel(\"recall\")\n",
        "  plt.ylabel(\"precision\")\n",
        "  plt.legend(loc=\"best\")\n",
        "  plt.title(\"Precision vs. Recall curve\")\n",
        "  plt.show()\n",
        "\n",
        "  # ROC Curve\n",
        "  print('\\nROC Curve')\n",
        "  average = 'macro'\n",
        "  fig, c_ax = plt.subplots(1,1, figsize = (12, 8))\n",
        "  for (idx, c_label) in enumerate(target):\n",
        "      fpr, tpr, thresholds = roc_curve(y_test[:,idx].astype(int), y_pred[:,idx])\n",
        "      c_ax.plot(fpr, tpr, label = '%s (AUC:%0.2f)'  % (c_label, auc(fpr, tpr)))\n",
        "  c_ax.plot(fpr, fpr, 'b-', label = 'Random Guessing')\n",
        "  print('ROC AUC score:', roc_auc_score(y_test, y_pred, average=average))\n",
        "\n",
        "  c_ax.legend()\n",
        "  c_ax.set_xlabel('False Positive Rate')\n",
        "  c_ax.set_ylabel('True Positive Rate')\n",
        "  plt.title('ROC Curve')\n",
        "  plt.show()"
      ]
    },
    {
      "cell_type": "code",
      "execution_count": null,
      "metadata": {
        "id": "qEurG0_Yscqq"
      },
      "outputs": [],
      "source": [
        "y_val=y_val.reset_index(drop=True)"
      ]
    },
    {
      "cell_type": "code",
      "execution_count": null,
      "metadata": {
        "id": "R6Xlc5SWNcus"
      },
      "outputs": [],
      "source": [
        "y_train=y_train.reset_index(drop=True)"
      ]
    },
    {
      "cell_type": "code",
      "execution_count": null,
      "metadata": {
        "id": "F0eKQWmpsLnv"
      },
      "outputs": [],
      "source": [
        "# y_val"
      ]
    },
    {
      "cell_type": "markdown",
      "source": [
        "#Function to create Triplets (Anchor, Positive and Negative):"
      ],
      "metadata": {
        "id": "5BawJNIUuVoE"
      }
    },
    {
      "cell_type": "code",
      "execution_count": null,
      "metadata": {
        "id": "89aZz5i4Q_Z0"
      },
      "outputs": [],
      "source": [
        "import random\n",
        "def create_batch(X,y,batch_size=256):\n",
        "    # x_anchors = np.zeros((batch_size, 1722))\n",
        "    # x_positives = np.zeros((batch_size, 1722))\n",
        "    # x_negatives = np.zeros((batch_size, 1722))\n",
        "    data=[]\n",
        "    x_anchors,x_positives,x_negatives,labels=[],[],[],[]\n",
        "    for i in range(len(X)):\n",
        "        # We need to find an anchor, a positive example and a negative example\n",
        "        random_index = random.randint(0, X.shape[0] - 1)\n",
        "        # print(random_index)\n",
        "        x_anchor = X[random_index]\n",
        "        yp = y[random_index]\n",
        "        \n",
        "        indices_for_pos = np.squeeze(np.where(y == yp))\n",
        "        indices_for_neg = np.squeeze(np.where(y != yp))\n",
        "        # print(indices_for_pos,indices_for_neg)\n",
        "        x_positive = X[indices_for_pos[random.randint(0, len(indices_for_pos) - 1)]]\n",
        "        x_negative = X[indices_for_neg[random.randint(0, len(indices_for_neg) - 1)]]\n",
        "        \n",
        "        x_anchors += [x_anchor]\n",
        "        x_positives += [x_positive]\n",
        "        x_negatives += [x_negative]\n",
        "        data+=[[x_anchor, x_positive, x_negative]]\n",
        "    return np.array(data)"
      ]
    },
    {
      "cell_type": "markdown",
      "source": [
        "#Generating training and validation triplet set."
      ],
      "metadata": {
        "id": "mRtfMdEfIc0T"
      }
    },
    {
      "cell_type": "code",
      "execution_count": null,
      "metadata": {
        "id": "nT5ZfyjhhDEi"
      },
      "outputs": [],
      "source": [
        "#Create Train and Validation dataset. \n",
        "training_pairs= create_batch(X_train,y_train)\n",
        "val_pairs= create_batch(X_val,y_val,batch_size=128)"
      ]
    },
    {
      "cell_type": "code",
      "execution_count": null,
      "metadata": {
        "id": "B6sXomROtXw7",
        "colab": {
          "base_uri": "https://localhost:8080/"
        },
        "outputId": "9cb4833b-e5df-4dbb-bc39-c3a25322fb8a"
      },
      "outputs": [
        {
          "output_type": "execute_result",
          "data": {
            "text/plain": [
              "1721"
            ]
          },
          "metadata": {},
          "execution_count": 469
        }
      ],
      "source": [
        "len(val_pairs[0][1])"
      ]
    },
    {
      "cell_type": "markdown",
      "source": [
        "#Function to calculate distance between vectors."
      ],
      "metadata": {
        "id": "waElb-G2IgX1"
      }
    },
    {
      "cell_type": "code",
      "execution_count": null,
      "metadata": {
        "id": "G3MMTQ_GSVXS"
      },
      "outputs": [],
      "source": [
        "import tensorflow as tf\n",
        "# import keras\n",
        "import keras.backend as K\n",
        "def euclidean_distance(vects):\n",
        "    x, y = vects\n",
        "    sum_square = K.sum(K.square(x - y), axis=1, keepdims=True)\n",
        "    return K.sqrt(K.maximum(sum_square, K.epsilon()))\n",
        "\n",
        "\n",
        "def eucl_dist_output_shape(shapes):\n",
        "    shape1, shape2 = shapes\n",
        "    return (shape1[0], 1)"
      ]
    },
    {
      "cell_type": "code",
      "execution_count": null,
      "metadata": {
        "id": "rsJtR-FLtLEc",
        "colab": {
          "base_uri": "https://localhost:8080/"
        },
        "outputId": "349c7b14-ca67-460a-de1a-70a8790131cd"
      },
      "outputs": [
        {
          "output_type": "execute_result",
          "data": {
            "text/plain": [
              "(214, 126)"
            ]
          },
          "metadata": {},
          "execution_count": 471
        }
      ],
      "source": [
        "gait_pd_x.shape"
      ]
    },
    {
      "cell_type": "markdown",
      "source": [
        "#Import another set of required libraries."
      ],
      "metadata": {
        "id": "akC9T7qrIlK7"
      }
    },
    {
      "cell_type": "code",
      "execution_count": null,
      "metadata": {
        "id": "cUXN3H362c_g"
      },
      "outputs": [],
      "source": [
        "from keras.models import Model\n",
        "from keras.layers import Layer, Dropout, Conv2D, Dense, MaxPooling2D, Input, Flatten, Lambda\n",
        "import tensorflow as tf\n",
        "import keras\n",
        "from keras.models import Sequential"
      ]
    },
    {
      "cell_type": "code",
      "execution_count": null,
      "metadata": {
        "id": "S9dDEfZ2X5eH"
      },
      "outputs": [],
      "source": [
        "from keras.optimizers import RMSprop"
      ]
    },
    {
      "cell_type": "markdown",
      "source": [
        "#Loading the saved Gait Baseline Model."
      ],
      "metadata": {
        "id": "0np6dYs5Inek"
      }
    },
    {
      "cell_type": "code",
      "execution_count": null,
      "metadata": {
        "id": "gOm7bxANCgjT",
        "colab": {
          "base_uri": "https://localhost:8080/"
        },
        "outputId": "9944ba59-16d8-4d17-88a5-284f425d76e4"
      },
      "outputs": [
        {
          "output_type": "stream",
          "name": "stdout",
          "text": [
            "Model: \"sequential_12\"\n",
            "_________________________________________________________________\n",
            " Layer (type)                Output Shape              Param #   \n",
            "=================================================================\n",
            " first_base_dense (Dense)    (None, 16)                2032      \n",
            "                                                                 \n",
            " first_dropout (Dropout)     (None, 16)                0         \n",
            "                                                                 \n",
            " second_base_dense (Dense)   (None, 8)                 136       \n",
            "                                                                 \n",
            " second_dropout (Dropout)    (None, 8)                 0         \n",
            "                                                                 \n",
            " third_base_dense (Dense)    (None, 4)                 36        \n",
            "                                                                 \n",
            " dense_11 (Dense)            (None, 1)                 5         \n",
            "                                                                 \n",
            "=================================================================\n",
            "Total params: 2,209\n",
            "Trainable params: 2,209\n",
            "Non-trainable params: 0\n",
            "_________________________________________________________________\n",
            "None\n"
          ]
        }
      ],
      "source": [
        "Gait_model = tf.keras.models.load_model(\"/content/drive/MyDrive/Parkinsons_Model/Siamese_Gait_Model2.h5\")\n",
        "print(Gait_model.summary())"
      ]
    },
    {
      "cell_type": "code",
      "execution_count": null,
      "metadata": {
        "id": "1-1-bjl0RAC9"
      },
      "outputs": [],
      "source": [
        "def gait_base_branch():\n",
        "    # input = Input(shape=126, name=\"gait_base_input\")\n",
        "    # x = Flatten(name=\"flatten_input\")(input)\n",
        "    # x = Dense(16, activation='relu', name=\"first_base_dense\")(x)\n",
        "    # x = Dropout(0.3, name=\"first_dropout\")(x)\n",
        "    # x = Dense(8, activation='relu', name=\"second_base_dense\")(x)\n",
        "    # x = Dropout(0.3, name=\"second_dropout\")(x)\n",
        "    # x = Dense(4, activation='relu', name=\"third_base_dense\")(x)\n",
        "    Gait_model = tf.keras.models.load_model(\"/content/drive/MyDrive/Parkinsons_Model/Siamese_Gait_Model2.h5\")\n",
        "    new_model =Model(Gait_model.input, Gait_model.layers[-2].output)\n",
        "    #Returning a Model, with input and outputs, not just a group of layers. \n",
        "    return new_model"
      ]
    },
    {
      "cell_type": "markdown",
      "source": [
        "#Loading the saved PPMI Baseline Model."
      ],
      "metadata": {
        "id": "dNNxIZRLIpq5"
      }
    },
    {
      "cell_type": "code",
      "execution_count": null,
      "metadata": {
        "id": "OE5sYQ5LCoAl",
        "colab": {
          "base_uri": "https://localhost:8080/"
        },
        "outputId": "6878ba0f-95e9-4b47-bf5f-f53e4faaa52d"
      },
      "outputs": [
        {
          "output_type": "stream",
          "name": "stdout",
          "text": [
            "Model: \"sequential_2\"\n",
            "_________________________________________________________________\n",
            " Layer (type)                Output Shape              Param #   \n",
            "=================================================================\n",
            " first_base_dense (Dense)    (None, 128)               204288    \n",
            "                                                                 \n",
            " first_dropout (Dropout)     (None, 128)               0         \n",
            "                                                                 \n",
            " second_base_dense (Dense)   (None, 64)                8256      \n",
            "                                                                 \n",
            " second_dropout (Dropout)    (None, 64)                0         \n",
            "                                                                 \n",
            " third_base_dense (Dense)    (None, 32)                2080      \n",
            "                                                                 \n",
            " dense_2 (Dense)             (None, 1)                 33        \n",
            "                                                                 \n",
            "=================================================================\n",
            "Total params: 214,657\n",
            "Trainable params: 214,657\n",
            "Non-trainable params: 0\n",
            "_________________________________________________________________\n",
            "None\n"
          ]
        }
      ],
      "source": [
        "PPMI_model = tf.keras.models.load_model(\"/content/drive/MyDrive/Parkinsons_Model/Siamese_PPMI_Model2.h5\")\n",
        "print(PPMI_model.summary())"
      ]
    },
    {
      "cell_type": "code",
      "execution_count": null,
      "metadata": {
        "id": "ZFfU5VZsRZWy"
      },
      "outputs": [],
      "source": [
        "def ppmi_base_branch():\n",
        "    # input = Input(shape=1596, name=\"ppmi_base_input\")\n",
        "    # x = Flatten(name=\"flatten_input\")(input)\n",
        "    # x = Dense(128, activation='relu', name=\"first_base_dense\")(x)\n",
        "    # x = Dropout(0.5, name=\"first_dropout\")(x)\n",
        "    # x = Dense(64, activation='relu', name=\"second_base_dense\")(x)\n",
        "    # x = Dropout(0.5, name=\"second_dropout\")(x)\n",
        "    # x = Dense(32, activation='relu', name=\"third_base_dense\")(x)\n",
        "    PPMI_model = tf.keras.models.load_model(\"/content/drive/MyDrive/Parkinsons_Model/Siamese_PPMI_Model2.h5\")\n",
        "    new_model =Model(PPMI_model.input, PPMI_model.layers[-2].output)\n",
        "    #Returning a Model, with input and outputs, not just a group of layers. \n",
        "    return new_model"
      ]
    },
    {
      "cell_type": "markdown",
      "source": [
        "#Function to calculate accuracy."
      ],
      "metadata": {
        "id": "M9kIFvcTIspF"
      }
    },
    {
      "cell_type": "code",
      "execution_count": null,
      "metadata": {
        "id": "PWRxUdySR2oQ"
      },
      "outputs": [],
      "source": [
        "def compute_accuracy(predictions, labels):\n",
        "  # return labels[predictions.ravel() < 0.5].mean()\n",
        "  pred = predictions.ravel() < 0.5\n",
        "  return np.mean(pred == labels)"
      ]
    },
    {
      "cell_type": "markdown",
      "source": [
        "#Common Network architecture."
      ],
      "metadata": {
        "id": "dOQKYSStIzo5"
      }
    },
    {
      "cell_type": "code",
      "execution_count": null,
      "metadata": {
        "id": "BYGGTn_kRuqi"
      },
      "outputs": [],
      "source": [
        "def multi_modal_network(input_shape):\n",
        "   seq = Sequential()\n",
        "   seq.add(Dense(32, activation='relu', input_shape=(36,)))\n",
        "   seq.add(Dropout(0.5))\n",
        "  #  seq.add(Flatten())\n",
        "   seq.add(Dense(16, activation='relu'))\n",
        "   seq.add(Dropout(0.5))\n",
        "   seq.add(Dense(8, activation='relu'))\n",
        "   return seq"
      ]
    },
    {
      "cell_type": "markdown",
      "source": [
        "#Contrastive Loss function."
      ],
      "metadata": {
        "id": "h3x6QIGtI2JS"
      }
    },
    {
      "cell_type": "code",
      "execution_count": null,
      "metadata": {
        "id": "M34uHLkbSx9Y"
      },
      "outputs": [],
      "source": [
        "# def loss(margin):\n",
        "def contrastive_loss(y_true, y_pred):\n",
        "    square_pred = K.square(y_pred)\n",
        "    margin_square = K.square(K.maximum(1 - y_pred, 0))\n",
        "    return (y_true * square_pred + (1 - y_true) * margin_square)\n",
        "# return contrastive_loss"
      ]
    },
    {
      "cell_type": "code",
      "execution_count": null,
      "metadata": {
        "id": "5sIAAfSTClIc"
      },
      "outputs": [],
      "source": [
        "class L1_dist(Layer):\n",
        "    def __init__(self, **kwargs):\n",
        "        super().__init__()\n",
        "\n",
        "    def call(self, input_embed, val_embed):\n",
        "        sum_square = tf.math.reduce_sum(tf.math.square(input_embed - val_embed), axis=1, keepdims=True)\n",
        "        return tf.math.sqrt(tf.math.maximum(sum_square, tf.keras.backend.epsilon()))"
      ]
    },
    {
      "cell_type": "markdown",
      "source": [
        "#Triplet Loss function."
      ],
      "metadata": {
        "id": "GQnmLM8FI7xt"
      }
    },
    {
      "cell_type": "code",
      "execution_count": null,
      "metadata": {
        "id": "6e0GLqydWULx"
      },
      "outputs": [],
      "source": [
        "# alpha = 0.2\n",
        "# def triplet_loss(y_true, y_pred,emb_size):\n",
        "#     anchor, positive, negative = y_pred[:,:emb_size], y_pred[:,emb_size:2*emb_size], y_pred[:,2*emb_size:]\n",
        "#     positive_dist = tf.reduce_mean(tf.square(anchor - positive), axis=1)\n",
        "#     negative_dist = tf.reduce_mean(tf.square(anchor - negative), axis=1)\n",
        "#     return tf.maximum(positive_dist - negative_dist + alpha, 0.)\n",
        "def triplet_loss(x, alpha = 0.2):\n",
        "    # Triplet Loss function.\n",
        "    # print(type(x))\n",
        "    # print(len(x))\n",
        "    anchor,positive,negative = x[0],x[1],x[2]\n",
        "    # distance between the anchor and the positive\n",
        "    # ap_distance = tf.reduce_sum(tf.square(anchor - positive), -1)\n",
        "    # an_distance = tf.reduce_sum(tf.square(anchor - negative), -1)\n",
        "    # return (ap_distance, an_distance)\n",
        "    # loss = ap_distance - an_distance\n",
        "    # loss = tf.maximum(loss + 0.5, 0.0)\n",
        "    pos_dist = K.sum(K.square(anchor-positive),axis=1)\n",
        "    # # distance between the anchor and the negative\n",
        "    neg_dist = K.sum(K.square(anchor-negative),axis=1)\n",
        "    # # compute loss\n",
        "    basic_loss = pos_dist-neg_dist+alpha\n",
        "    loss = K.maximum(basic_loss,0.0)\n",
        "    # porbs=K.softmax([pos_dist,neg_dist],axis=0)\n",
        "    # return K.mean(K.abs(porbs[0])+K.abs(1.0-porbs[1]))\n",
        "    return loss"
      ]
    },
    {
      "cell_type": "markdown",
      "source": [
        "#Siamese Model:"
      ],
      "metadata": {
        "id": "bNxPZYj9I9Er"
      }
    },
    {
      "cell_type": "code",
      "execution_count": null,
      "metadata": {
        "id": "LNCcHKEUSUuG"
      },
      "outputs": [],
      "source": [
        "from keras.layers import Concatenate\n",
        "from keras.optimizers import Adam\n",
        "def siamese_model(input_dim_gait,input_dim_ppmi,input_concat_dim):\n",
        "  #  print(\"Hello1\")\n",
        "   gait_a = Input(shape=(126,))\n",
        "   gait_b = Input(shape=(126,))\n",
        "   gait_c = Input(shape=(126,))\n",
        "   ppmi_a = Input(shape=(1595,))\n",
        "   ppmi_b = Input(shape=(1595,))\n",
        "   ppmi_c = Input(shape=(1595,))\n",
        "   gait_network=gait_base_branch()\n",
        "  #  gait_network = gait_feat_network(input_dim_gait)\n",
        "   \n",
        "   feat_gait_a = gait_network(gait_a)\n",
        "   feat_gait_b = gait_network(gait_b)\n",
        "   feat_gait_c = gait_network(gait_c)\n",
        "   ppmi_network= ppmi_base_branch()\n",
        "  #  ppmi_network = ppmi_feat_network(input_dim_ppmi)\n",
        "   feat_ppmi_a = ppmi_network(ppmi_a)\n",
        "   feat_ppmi_b = ppmi_network(ppmi_b)\n",
        "   feat_ppmi_c = ppmi_network(ppmi_c)\n",
        "  #  print([feat_gait_a,feat_ppmi_a])\n",
        "   concat_a = Concatenate(axis=1)([feat_gait_a, feat_ppmi_a])\n",
        "   \n",
        "   concat_b = Concatenate(axis=1)([feat_gait_b, feat_ppmi_b])\n",
        "   concat_c = Concatenate(axis=1)([feat_gait_c, feat_ppmi_c])\n",
        "   base_network = multi_modal_network(1722)\n",
        "   feat_vecs_a = base_network(concat_a)\n",
        "   feat_vecs_b = base_network(concat_b)\n",
        "   feat_vecs_c = base_network(concat_c)\n",
        "  #  siamese_layer = L1_dist()\n",
        "  #  siamese_layer._name = 'distance'\n",
        "  #  distance = siamese_layer(feat_vecs_a, feat_vecs_b, feat_vecs_c)\n",
        "  #  loss = Lambda(triplet_loss)([A, P, N]) \n",
        "  #  model = Model(inputs=[input_1, input_2, input_3], outputs=loss)\n",
        "   distance = Lambda(triplet_loss)([feat_vecs_a ,feat_vecs_b,feat_vecs_c])\n",
        "  #  normal_layer = keras.layers.BatchNormalization()(distance)\n",
        "  #  distance2=Dropout(0.3)(distance)\n",
        "  #  prediction = Dense(1,activation='sigmoid')(distance)\n",
        "  #  print(\"Hello2\")\n",
        "  #  prediction = tf.keras.activations.sigmoid(distance)\n",
        "   model = Model(inputs=[gait_a, ppmi_a, gait_b,ppmi_b, gait_c,ppmi_c], outputs =  distance)\n",
        "   adam = Adam(0.0001)\n",
        "    \n",
        "   return adam,model,base_network"
      ]
    },
    {
      "cell_type": "code",
      "execution_count": null,
      "metadata": {
        "id": "nNIktHyaX7Sw",
        "colab": {
          "base_uri": "https://localhost:8080/"
        },
        "outputId": "0a64e0b5-1e70-4a1f-dd60-41e7f77b5048"
      },
      "outputs": [
        {
          "output_type": "execute_result",
          "data": {
            "text/plain": [
              "(19271, 3, 1721)"
            ]
          },
          "metadata": {},
          "execution_count": 484
        }
      ],
      "source": [
        "training_pairs.shape"
      ]
    },
    {
      "cell_type": "markdown",
      "source": [
        "#Identity Loss function and Model Summary."
      ],
      "metadata": {
        "id": "rvO9qwmAJGb-"
      }
    },
    {
      "cell_type": "code",
      "execution_count": null,
      "metadata": {
        "id": "GhSN8QrcShbk",
        "colab": {
          "base_uri": "https://localhost:8080/"
        },
        "outputId": "ccf815d3-4fe6-4f30-be29-d38eae45cc09"
      },
      "outputs": [
        {
          "output_type": "stream",
          "name": "stdout",
          "text": [
            "Model: \"model_19\"\n",
            "__________________________________________________________________________________________________\n",
            " Layer (type)                   Output Shape         Param #     Connected to                     \n",
            "==================================================================================================\n",
            " input_19 (InputLayer)          [(None, 126)]        0           []                               \n",
            "                                                                                                  \n",
            " input_22 (InputLayer)          [(None, 1595)]       0           []                               \n",
            "                                                                                                  \n",
            " input_20 (InputLayer)          [(None, 126)]        0           []                               \n",
            "                                                                                                  \n",
            " input_23 (InputLayer)          [(None, 1595)]       0           []                               \n",
            "                                                                                                  \n",
            " input_21 (InputLayer)          [(None, 126)]        0           []                               \n",
            "                                                                                                  \n",
            " input_24 (InputLayer)          [(None, 1595)]       0           []                               \n",
            "                                                                                                  \n",
            " model_17 (Functional)          (None, 4)            2204        ['input_19[0][0]',               \n",
            "                                                                  'input_20[0][0]',               \n",
            "                                                                  'input_21[0][0]']               \n",
            "                                                                                                  \n",
            " model_18 (Functional)          (None, 32)           214624      ['input_22[0][0]',               \n",
            "                                                                  'input_23[0][0]',               \n",
            "                                                                  'input_24[0][0]']               \n",
            "                                                                                                  \n",
            " concatenate_67821 (Concatenate  (None, 36)          0           ['model_17[0][0]',               \n",
            " )                                                                'model_18[0][0]']               \n",
            "                                                                                                  \n",
            " concatenate_67822 (Concatenate  (None, 36)          0           ['model_17[1][0]',               \n",
            " )                                                                'model_18[1][0]']               \n",
            "                                                                                                  \n",
            " concatenate_67823 (Concatenate  (None, 36)          0           ['model_17[2][0]',               \n",
            " )                                                                'model_18[2][0]']               \n",
            "                                                                                                  \n",
            " sequential_3 (Sequential)      (None, 8)            1848        ['concatenate_67821[0][0]',      \n",
            "                                                                  'concatenate_67822[0][0]',      \n",
            "                                                                  'concatenate_67823[0][0]']      \n",
            "                                                                                                  \n",
            " lambda_7803 (Lambda)           (None,)              0           ['sequential_3[0][0]',           \n",
            "                                                                  'sequential_3[1][0]',           \n",
            "                                                                  'sequential_3[2][0]']           \n",
            "                                                                                                  \n",
            "==================================================================================================\n",
            "Total params: 218,676\n",
            "Trainable params: 218,676\n",
            "Non-trainable params: 0\n",
            "__________________________________________________________________________________________________\n"
          ]
        }
      ],
      "source": [
        "# train_dir = \"train\"\n",
        "# test_dir = \"test\"\n",
        "\n",
        "def identity_loss(y_true, y_pred):\n",
        "    return K.mean(y_pred)\n",
        "from keras.optimizers import Adam\n",
        "batch_size = 64\n",
        "epochs = 30\n",
        "input_dim_gait = (126,)\n",
        "input_dim_ppmi = (1596,)\n",
        "input_concat_dim=(1722,)\n",
        "labels=np.ones(training_pairs.shape[0])\n",
        "val_labels=np.ones(val_pairs.shape[0])\n",
        "# img_a,aud_a,img_b,aud_b,labels = features.data_generate(train_dir)\n",
        "opt,model_siamese2,base_network = siamese_model(input_dim_gait,input_dim_ppmi,input_concat_dim)\n",
        "opt2=Adam(0.001)\n",
        "opt1=RMSprop(learning_rate=0.0001)\n",
        "model_siamese2.compile(loss=identity_loss,optimizer=opt1)\n",
        "model_siamese2.summary()\n"
      ]
    },
    {
      "cell_type": "markdown",
      "source": [
        "#Siamese Model overview."
      ],
      "metadata": {
        "id": "1sFowq6GJMUw"
      }
    },
    {
      "cell_type": "code",
      "execution_count": null,
      "metadata": {
        "id": "3gjWjfhzSkQO",
        "colab": {
          "base_uri": "https://localhost:8080/",
          "height": 345
        },
        "outputId": "e96f4f49-fadf-4f62-f92f-51d378205815"
      },
      "outputs": [
        {
          "output_type": "execute_result",
          "data": {
            "image/png": "[encoded data removed]",
            "text/plain": [
              "<IPython.core.display.Image object>"
            ]
          },
          "metadata": {},
          "execution_count": 486
        }
      ],
      "source": [
        "from keras.utils import plot_model\n",
        "tf.keras.utils.plot_model(model_siamese2, to_file='siamese_model2.png', show_shapes=True)"
      ]
    },
    {
      "cell_type": "markdown",
      "source": [
        "#Model Training:"
      ],
      "metadata": {
        "id": "ZA5wrX05JQQ4"
      }
    },
    {
      "cell_type": "code",
      "execution_count": null,
      "metadata": {
        "colab": {
          "base_uri": "https://localhost:8080/"
        },
        "id": "SSFpRZlfSmcf",
        "outputId": "b19eadd7-9043-4087-a72f-18b26c89a0ba"
      },
      "outputs": [
        {
          "output_type": "stream",
          "name": "stdout",
          "text": [
            "Epoch 1/30\n",
            "151/151 [==============================] - 8s 37ms/step - loss: 21.4237 - val_loss: 0.0363\n",
            "Epoch 2/30\n",
            "151/151 [==============================] - 3s 21ms/step - loss: 3.8379 - val_loss: 0.0857\n",
            "Epoch 3/30\n",
            "151/151 [==============================] - 3s 22ms/step - loss: 1.2267 - val_loss: 0.1791\n",
            "Epoch 4/30\n",
            "151/151 [==============================] - 4s 27ms/step - loss: 0.5088 - val_loss: 0.1972\n",
            "Epoch 5/30\n",
            "151/151 [==============================] - 4s 29ms/step - loss: 0.3014 - val_loss: 0.1991\n",
            "Epoch 6/30\n",
            "151/151 [==============================] - 3s 22ms/step - loss: 0.2313 - val_loss: 0.1997\n",
            "Epoch 7/30\n",
            "151/151 [==============================] - 3s 22ms/step - loss: 0.2086 - val_loss: 0.1998\n",
            "Epoch 8/30\n",
            "151/151 [==============================] - 4s 28ms/step - loss: 0.1937 - val_loss: 0.1996\n",
            "Epoch 9/30\n",
            "151/151 [==============================] - 4s 27ms/step - loss: 0.1869 - val_loss: 0.1997\n",
            "Epoch 10/30\n",
            "151/151 [==============================] - 4s 24ms/step - loss: 0.1838 - val_loss: 0.1993\n",
            "Epoch 11/30\n",
            "151/151 [==============================] - 3s 22ms/step - loss: 0.1781 - val_loss: 0.1987\n",
            "Epoch 12/30\n",
            "151/151 [==============================] - 5s 34ms/step - loss: 0.1750 - val_loss: 0.1970\n",
            "Epoch 13/30\n",
            "151/151 [==============================] - 3s 23ms/step - loss: 0.1734 - val_loss: 0.1949\n",
            "Epoch 14/30\n",
            "151/151 [==============================] - 3s 22ms/step - loss: 0.1692 - val_loss: 0.1924\n",
            "Epoch 15/30\n",
            "151/151 [==============================] - 4s 25ms/step - loss: 0.1619 - val_loss: 0.1922\n",
            "Epoch 16/30\n",
            "151/151 [==============================] - 5s 31ms/step - loss: 0.1592 - val_loss: 0.1923\n",
            "Epoch 17/30\n",
            "151/151 [==============================] - 3s 21ms/step - loss: 0.1568 - val_loss: 0.1899\n",
            "Epoch 18/30\n",
            "151/151 [==============================] - 3s 21ms/step - loss: 0.1545 - val_loss: 0.1882\n",
            "Epoch 19/30\n",
            "151/151 [==============================] - 4s 24ms/step - loss: 0.1516 - val_loss: 0.1887\n",
            "Epoch 20/30\n",
            "151/151 [==============================] - 5s 31ms/step - loss: 0.1477 - val_loss: 0.1866\n",
            "Epoch 21/30\n",
            "151/151 [==============================] - 3s 22ms/step - loss: 0.1413 - val_loss: 0.1775\n",
            "Epoch 22/30\n",
            "151/151 [==============================] - 3s 22ms/step - loss: 0.1398 - val_loss: 0.1723\n",
            "Epoch 23/30\n",
            "151/151 [==============================] - 4s 28ms/step - loss: 0.1355 - val_loss: 0.1676\n",
            "Epoch 24/30\n",
            "151/151 [==============================] - 4s 27ms/step - loss: 0.1305 - val_loss: 0.1586\n",
            "Epoch 25/30\n",
            "151/151 [==============================] - 3s 22ms/step - loss: 0.1267 - val_loss: 0.1547\n",
            "Epoch 26/30\n",
            "151/151 [==============================] - 3s 21ms/step - loss: 0.1228 - val_loss: 0.1366\n",
            "Epoch 27/30\n",
            "151/151 [==============================] - 5s 30ms/step - loss: 0.1194 - val_loss: 0.1311\n",
            "Epoch 28/30\n",
            "151/151 [==============================] - 4s 25ms/step - loss: 0.1172 - val_loss: 0.1199\n",
            "Epoch 29/30\n",
            "151/151 [==============================] - 3s 22ms/step - loss: 0.1104 - val_loss: 0.1041\n",
            "Epoch 30/30\n",
            "151/151 [==============================] - 3s 22ms/step - loss: 0.1076 - val_loss: 0.0820\n"
          ]
        }
      ],
      "source": [
        "from keras.callbacks import EarlyStopping\n",
        "es = EarlyStopping(monitor='val_loss', mode='min', verbose=1)\n",
        "history=model_siamese2.fit([training_pairs[:,0,:126],training_pairs[:,0,126:],training_pairs[:,1,:126],training_pairs[:,1,126:], training_pairs[:,2,:126],training_pairs[:,2,126:]],labels, validation_data = ([val_pairs[:, 0,:126],val_pairs[:, 0,126:],val_pairs[:, 1,:126], val_pairs[:, 1,126:], val_pairs[:, 2,:126], val_pairs[:, 2,126:]], val_labels),batch_size=128, verbose=1, epochs=30)"
      ]
    },
    {
      "cell_type": "code",
      "execution_count": null,
      "metadata": {
        "id": "XoEAh1sLUYJ2"
      },
      "outputs": [],
      "source": [
        "def compute_accuracy(y_true, y_pred):\n",
        "    pred = y_pred.ravel() < 0.5\n",
        "    return np.mean(pred == y_true)"
      ]
    },
    {
      "cell_type": "code",
      "execution_count": null,
      "metadata": {
        "id": "S2xyuPkgU8b6"
      },
      "outputs": [],
      "source": [
        "def plot_graphs(history, string):\n",
        "  plt.plot(history.history[string])\n",
        "  plt.plot(history.history['val_'+string])\n",
        "  plt.xlabel(\"Epochs\")\n",
        "  plt.ylabel(string)\n",
        "  plt.legend([string, 'val_'+string])\n",
        "  plt.title('Training and Validation ' + string)\n",
        "  plt.show()"
      ]
    },
    {
      "cell_type": "markdown",
      "source": [
        "#Loss and Accuracy Plot for training and validation data."
      ],
      "metadata": {
        "id": "i1yA9ooaJVgh"
      }
    },
    {
      "cell_type": "code",
      "execution_count": null,
      "metadata": {
        "colab": {
          "base_uri": "https://localhost:8080/",
          "height": 472
        },
        "id": "e0xvpp9IUi6W",
        "outputId": "00237ac1-f123-4242-c848-e1a2776d7b6f"
      },
      "outputs": [
        {
          "output_type": "display_data",
          "data": {
            "text/plain": [
              "<Figure size 640x480 with 1 Axes>"
            ],
            "image/png": "[encoded data removed]"
          },
          "metadata": {}
        }
      ],
      "source": [
        "# plot_graphs(history, \"accuracy\")\n",
        "plot_graphs(history, \"loss\")"
      ]
    },
    {
      "cell_type": "code",
      "execution_count": null,
      "metadata": {
        "id": "5GiPXa2uY45z"
      },
      "outputs": [],
      "source": [
        "# model_siamese2.save(\"/content/drive/MyDrive/Parkinsons_Model/triplet_loss_model01.tf\")"
      ]
    },
    {
      "cell_type": "code",
      "execution_count": null,
      "metadata": {
        "id": "ip1B6912kvcj"
      },
      "outputs": [],
      "source": [
        "# triplet_model = tf.keras.models.load_model(\"/content/drive/MyDrive/Parkinsons_Model/triplet_loss_model01.tf\",custom_objects={'identity_loss':                   \n",
        "# identity_loss})"
      ]
    },
    {
      "cell_type": "code",
      "execution_count": null,
      "metadata": {
        "id": "4doPerXplPJx"
      },
      "outputs": [],
      "source": [
        "# triplet_model.summary()"
      ]
    },
    {
      "cell_type": "code",
      "execution_count": null,
      "metadata": {
        "id": "PCq7kldRqKMa"
      },
      "outputs": [],
      "source": [
        "# embedding=model_siamese2.embedding()"
      ]
    },
    {
      "cell_type": "code",
      "execution_count": null,
      "metadata": {
        "id": "h2UlZbL3qNka"
      },
      "outputs": [],
      "source": [
        "embedding=base_network"
      ]
    },
    {
      "cell_type": "code",
      "execution_count": null,
      "metadata": {
        "id": "jCMBNsgUQEhq"
      },
      "outputs": [],
      "source": [
        "y_test_new=y_test.reset_index(drop=True)"
      ]
    },
    {
      "cell_type": "code",
      "execution_count": null,
      "metadata": {
        "colab": {
          "base_uri": "https://localhost:8080/"
        },
        "id": "zEvnI23drIG5",
        "outputId": "a400bc60-accc-43db-b307-9c29ce1d93a7"
      },
      "outputs": [
        {
          "output_type": "execute_result",
          "data": {
            "text/plain": [
              "pandas.core.series.Series"
            ]
          },
          "metadata": {},
          "execution_count": 497
        }
      ],
      "source": [
        "type(y_test_new)"
      ]
    },
    {
      "cell_type": "markdown",
      "source": [
        "#Creating Triplet set on Test set data:"
      ],
      "metadata": {
        "id": "kQl0Djl9LANB"
      }
    },
    {
      "cell_type": "code",
      "execution_count": null,
      "metadata": {
        "id": "MPuYxP5sPlVQ"
      },
      "outputs": [],
      "source": [
        "test_pairs = create_batch(X_test,y_test_new)"
      ]
    },
    {
      "cell_type": "code",
      "execution_count": null,
      "metadata": {
        "id": "DEebCtNuQWei"
      },
      "outputs": [],
      "source": [
        "anchor,positive,negative=test_pairs[:,0],test_pairs[:,1],test_pairs[:,2]"
      ]
    },
    {
      "cell_type": "code",
      "execution_count": null,
      "metadata": {
        "id": "jECtOXXzVH1l"
      },
      "outputs": [],
      "source": [
        "gait_network=gait_base_branch()\n",
        "ppmi_network=ppmi_base_branch()\n",
        "concat_anchor= Concatenate(axis=1)([gait_network(test_pairs[:,0,:126]),ppmi_network(test_pairs[:,0,126:])])\n",
        "concat_positive = Concatenate(axis=1)([gait_network(test_pairs[:,1,:126]),ppmi_network(test_pairs[:,1,126:])])\n",
        "concat_negative = Concatenate(axis=1)([gait_network(test_pairs[:,2,:126]),ppmi_network(test_pairs[:,2,126:])])"
      ]
    },
    {
      "cell_type": "markdown",
      "source": [
        "#Embeddings on test set triplets."
      ],
      "metadata": {
        "id": "eUOECu_5LHzy"
      }
    },
    {
      "cell_type": "code",
      "execution_count": null,
      "metadata": {
        "id": "LK3Wdj8IPdaZ"
      },
      "outputs": [],
      "source": [
        "anchor_embedding, positive_embedding, negative_embedding = (\n",
        "    embedding(concat_anchor),\n",
        "    embedding(concat_positive),\n",
        "    embedding(concat_negative),\n",
        ")"
      ]
    },
    {
      "cell_type": "code",
      "execution_count": null,
      "metadata": {
        "id": "IoIEMQ57WDGn"
      },
      "outputs": [],
      "source": [
        "from keras import metrics"
      ]
    },
    {
      "cell_type": "markdown",
      "source": [
        "#Check for Similarity metric between anchor, positive and negative."
      ],
      "metadata": {
        "id": "HWeIS18CLLmr"
      }
    },
    {
      "cell_type": "code",
      "execution_count": null,
      "metadata": {
        "colab": {
          "base_uri": "https://localhost:8080/"
        },
        "id": "7wQBMWASV4IG",
        "outputId": "f5b0cb83-655d-41da-e2fb-86b46daff80e"
      },
      "outputs": [
        {
          "output_type": "stream",
          "name": "stdout",
          "text": [
            "Positive similarity: 0.89618707\n"
          ]
        }
      ],
      "source": [
        "cosine_similarity = metrics.CosineSimilarity()\n",
        "positive_similarity = cosine_similarity(anchor_embedding, positive_embedding)\n",
        "\n",
        "print(\"Positive similarity:\", positive_similarity.numpy())\n",
        "\n"
      ]
    },
    {
      "cell_type": "code",
      "execution_count": null,
      "metadata": {
        "colab": {
          "base_uri": "https://localhost:8080/"
        },
        "id": "2sR9k-j4XCpU",
        "outputId": "19fca24e-6dc1-4a91-fe72-76f26c10b285"
      },
      "outputs": [
        {
          "output_type": "stream",
          "name": "stdout",
          "text": [
            "Negative similarity 0.8809877\n"
          ]
        }
      ],
      "source": [
        "cosine_similarity = metrics.CosineSimilarity()\n",
        "negative_similarity = cosine_similarity(anchor_embedding, negative_embedding)\n",
        "\n",
        "print(\"Negative similarity\", negative_similarity.numpy())"
      ]
    },
    {
      "cell_type": "code",
      "execution_count": null,
      "metadata": {
        "colab": {
          "base_uri": "https://localhost:8080/"
        },
        "id": "hdnM4HDpXGle",
        "outputId": "00cbf9e4-14bd-4be1-e85b-97103ea5613b"
      },
      "outputs": [
        {
          "output_type": "execute_result",
          "data": {
            "text/plain": [
              "1.0"
            ]
          },
          "metadata": {},
          "execution_count": 505
        }
      ],
      "source": [
        "cosine_similarity = metrics.CosineSimilarity()\n",
        "\n",
        "same = cosine_similarity(anchor_embedding, anchor_embedding)\n",
        "same.numpy()"
      ]
    },
    {
      "cell_type": "markdown",
      "source": [
        "#Function for checking inter embedding distance."
      ],
      "metadata": {
        "id": "XFMtibEVLQvF"
      }
    },
    {
      "cell_type": "code",
      "execution_count": null,
      "metadata": {
        "id": "UJopixLKeagW"
      },
      "outputs": [],
      "source": [
        "# multi_model.predict(X_test_multi)\n",
        "import tensorflow as tf\n",
        "def postitve_negative(x, alpha = 0.2):\n",
        "    anchor,positive,negative = x[0],x[1],x[2]\n",
        "    pos_dist = tf.reduce_sum(tf.square(anchor-positive),-1)\n",
        "    neg_dist = tf.reduce_sum(tf.square(anchor-negative),-1)\n",
        "    # pos_dist = K.sum(K.square(anchor-positive),-1)\n",
        "    # neg_dist = K.sum(K.square(anchor-negative),-1)\n",
        "    # basic_loss = pos_dist-neg_dist+alpha\n",
        "    # loss = K.maximum(basic_loss,0.0)\n",
        "    return pos_dist,neg_dist"
      ]
    },
    {
      "cell_type": "markdown",
      "source": [
        "#Saving Trained Siamese Model."
      ],
      "metadata": {
        "id": "I419jNsKL_dC"
      }
    },
    {
      "cell_type": "code",
      "source": [
        "# embedding.save(\"/content/drive/MyDrive/Parkinsons_Model/Siamese_Multi_Model68.h5\")"
      ],
      "metadata": {
        "id": "brbSWx2zSWmb",
        "colab": {
          "base_uri": "https://localhost:8080/"
        },
        "outputId": "4b84f07c-9f14-4a42-cff8-50f0686e5f20"
      },
      "execution_count": null,
      "outputs": [
        {
          "output_type": "stream",
          "name": "stderr",
          "text": [
            "WARNING:tensorflow:Compiled the loaded model, but the compiled metrics have yet to be built. `model.compile_metrics` will be empty until you train or evaluate the model.\n"
          ]
        }
      ]
    },
    {
      "cell_type": "markdown",
      "source": [
        "#Loading the model."
      ],
      "metadata": {
        "id": "SUqvr0UtS5vc"
      }
    },
    {
      "cell_type": "code",
      "source": [
        "embedding=tf.keras.models.load_model(\"/content/drive/MyDrive/Parkinsons_Model/Siamese_Multi_Model68.h5\",compile=False)"
      ],
      "metadata": {
        "id": "x0brs7qnTJgq"
      },
      "execution_count": null,
      "outputs": []
    },
    {
      "cell_type": "markdown",
      "metadata": {
        "id": "xW13uMC0XlVA"
      },
      "source": [
        "#PPMI individual data test:"
      ]
    },
    {
      "cell_type": "code",
      "source": [
        "np.random.seed(30)"
      ],
      "metadata": {
        "id": "VNDMd8LBHQEI"
      },
      "execution_count": null,
      "outputs": []
    },
    {
      "cell_type": "code",
      "execution_count": null,
      "metadata": {
        "id": "kL7fd9qllxjC"
      },
      "outputs": [],
      "source": [
        "# type(ppmi_pd_x_test)\n",
        "ppmi_data=pd.concat([ppmi_pd_x_test])"
      ]
    },
    {
      "cell_type": "code",
      "execution_count": null,
      "metadata": {
        "id": "XyDk86bGkQe-",
        "colab": {
          "base_uri": "https://localhost:8080/"
        },
        "outputId": "34c2f18f-a922-4285-8532-360e5c569d45"
      },
      "outputs": [
        {
          "output_type": "execute_result",
          "data": {
            "text/plain": [
              "(74, 1595)"
            ]
          },
          "metadata": {},
          "execution_count": 558
        }
      ],
      "source": [
        "ppmi_pd_x_test.shape"
      ]
    },
    {
      "cell_type": "code",
      "source": [
        "ppmi_hc_x_test.shape"
      ],
      "metadata": {
        "colab": {
          "base_uri": "https://localhost:8080/"
        },
        "id": "WCNGNa1xseKB",
        "outputId": "4dc21854-3cc1-4967-8a67-4981f5b85f62"
      },
      "execution_count": null,
      "outputs": [
        {
          "output_type": "execute_result",
          "data": {
            "text/plain": [
              "(39, 1595)"
            ]
          },
          "metadata": {},
          "execution_count": 559
        }
      ]
    },
    {
      "cell_type": "code",
      "execution_count": null,
      "metadata": {
        "id": "MfqdwN2sXk2W"
      },
      "outputs": [],
      "source": [
        "# k=5\n",
        "# res_pred_ppmi=[]\n",
        "# for i in range(ppmi_data.shape[0]):\n",
        "#   positive = gait_pd_x_train.sample(n=k,replace=False)\n",
        "#   negative = gait_hc_x_train.sample(n=k,replace=False)\n",
        "#   z=[positive,negative]\n",
        "#   ty=pd.concat(z)\n",
        "#   da=ty.merge(ppmi_data.iloc[[i]],how='cross')\n",
        "#   # da=da.to_numpy()\n",
        "#   # da=sc.fit_transform(da)\n",
        "#   res_pred_ppmi.append(da)\n",
        "# res_pred_ppmi=np.concatenate(res_pred_ppmi,axis=0)"
      ]
    },
    {
      "cell_type": "code",
      "source": [
        "# res_pred_ppmi.reset_index(drop=True)\n",
        "# res_pred_ppmi"
      ],
      "metadata": {
        "id": "zYUXTg7VOFtT"
      },
      "execution_count": null,
      "outputs": []
    },
    {
      "cell_type": "code",
      "execution_count": null,
      "metadata": {
        "id": "6Vk0DjYcyXaN"
      },
      "outputs": [],
      "source": [
        "# res_pred_ppmi=sc.fit_transform(res_pred_ppmi)\n",
        "# res_pred_ppmi"
      ]
    },
    {
      "cell_type": "code",
      "source": [
        "type(hc_x_train)"
      ],
      "metadata": {
        "colab": {
          "base_uri": "https://localhost:8080/"
        },
        "id": "-6u5lh-cX38b",
        "outputId": "e1c8728e-eb92-4831-f089-e0219df2d32e"
      },
      "execution_count": null,
      "outputs": [
        {
          "output_type": "execute_result",
          "data": {
            "text/plain": [
              "pandas.core.frame.DataFrame"
            ]
          },
          "metadata": {},
          "execution_count": 563
        }
      ]
    },
    {
      "cell_type": "markdown",
      "source": [
        "#Creating sample test sample against each PPMI positive test set data and evaluating distance of anchor test sample embedding with positive and nageative embeddings of combined Gait and PPMI train set sample."
      ],
      "metadata": {
        "id": "_PVqb10sMLUl"
      }
    },
    {
      "cell_type": "code",
      "source": [
        "res_ppmi_simi=[]\n",
        "# cosine_similarity = metrics.CosineSimilarity()\n",
        "x_anchors,x_positives,x_negatives,labels=[],[],[],[]\n",
        "for m in range(ppmi_data.shape[0]):\n",
        "    k=5\n",
        "    res_pred_ppmi=[]\n",
        "    positive = gait_pd_x_train.sample(n=k,replace=True)\n",
        "    negative = gait_hc_x_train.sample(n=k,replace=True)\n",
        "    z=[positive,negative]\n",
        "    ty=pd.concat(z)\n",
        "    da=ty.merge(ppmi_data.iloc[[m]],how='cross')\n",
        "    res_pred_ppmi.append(da)\n",
        "    res_pred_ppmi=np.concatenate(res_pred_ppmi,axis=0)\n",
        "    # res_pred_ppmi=sc.fit_transform(res_pred_ppmi)\n",
        "    # We need to find an anchor, a positive example and a negative example\n",
        "    positive = pd_x_train.sample(n=5,replace=True)\n",
        "    negative = hc_x_train.sample(n=5,replace=True)\n",
        "    # positive=sc.fit_transform(positive)\n",
        "    # negative=sc.fit_transform(negative)\n",
        "    # print(type(positive))\n",
        "    # print(random_index)\n",
        "    \n",
        "    # print(type(positive.iloc[2].values))\n",
        "    data=[]\n",
        "    z=k*2\n",
        "    for i in range(z):\n",
        "      sk=[]\n",
        "      for j in range(5):\n",
        "        x_anchor = res_pred_ppmi[i]\n",
        "        data=[[x_anchor, positive.iloc[j].values, negative.iloc[j].values]]\n",
        "        # data=[[x_anchor, positive[j], negative[j]]]\n",
        "        data=np.array(data)\n",
        "        concat_anchor= Concatenate(axis=1)([gait_network(data[:,0,:126]),ppmi_network(data[:,0,126:])])\n",
        "        concat_positive = Concatenate(axis=1)([gait_network(data[:,1,:126]),ppmi_network(data[:,1,126:])])\n",
        "        concat_negative = Concatenate(axis=1)([gait_network(data[:,2,:126]),ppmi_network(data[:,2,126:])])\n",
        "\n",
        "        anchor_embedding, positive_embedding, negative_embedding = (\n",
        "            embedding(concat_anchor),\n",
        "            embedding(concat_positive),\n",
        "            embedding(concat_negative),\n",
        "        )\n",
        "        positive_similarity = cosine_similarity(anchor_embedding, positive_embedding)\n",
        "        negative_similarity = cosine_similarity(anchor_embedding, negative_embedding)\n",
        "        same = cosine_similarity(anchor_embedding, anchor_embedding)\n",
        "        # positive_similarity,negative_similarity=Lambda(postitve_negative)([anchor_embedding ,positive_embedding,negative_embedding])\n",
        "        sk.append([positive_similarity,negative_similarity,same])\n",
        "      res_ppmi_simi.append(sk)\n",
        "    # same.numpy()\n",
        "    # data=np.array(data)"
      ],
      "metadata": {
        "id": "mj5tCbFQNosn"
      },
      "execution_count": null,
      "outputs": []
    },
    {
      "cell_type": "code",
      "source": [
        "# len(res_ppmi_simi[0])"
      ],
      "metadata": {
        "id": "6VtJzrExQNN-"
      },
      "execution_count": null,
      "outputs": []
    },
    {
      "cell_type": "markdown",
      "source": [
        "#Cheking lebel against each test set."
      ],
      "metadata": {
        "id": "4kk08aYFMYV1"
      }
    },
    {
      "cell_type": "code",
      "execution_count": null,
      "metadata": {
        "id": "CiJkwnwqIqbl"
      },
      "outputs": [],
      "source": [
        "# res_ppmi_simi\n",
        "pred_ppmi_test=[]\n",
        "for i in res_ppmi_simi:\n",
        "  pl=[]\n",
        "  for j in i:\n",
        "    if(j[0]<j[1]): pl.append(0)\n",
        "    else: pl.append(1)\n",
        "  pred_ppmi_test.append(pl)"
      ]
    },
    {
      "cell_type": "code",
      "source": [
        "# pred_ppmi_test[1125]\n",
        "import statistics\n",
        "from collections import Counter\n",
        "from statistics import mode\n",
        "pred_ppmi_test2=[]\n",
        "for i in pred_ppmi_test:\n",
        "  pred_ppmi_test2.append(mode(i))\n",
        "len(pred_ppmi_test2)"
      ],
      "metadata": {
        "colab": {
          "base_uri": "https://localhost:8080/"
        },
        "id": "nn1INfAJgpQX",
        "outputId": "fff115af-93b6-4956-80bb-8f792938a9f7"
      },
      "execution_count": null,
      "outputs": [
        {
          "output_type": "execute_result",
          "data": {
            "text/plain": [
              "740"
            ]
          },
          "metadata": {},
          "execution_count": 567
        }
      ]
    },
    {
      "cell_type": "code",
      "source": [
        "def divide_chunks(l, n):\n",
        "    # looping till length l\n",
        "    for i in range(0, len(l), n):\n",
        "        yield l[i:i + n]\n",
        "pred_ppmi_test2=list(divide_chunks(pred_ppmi_test2,k*2))"
      ],
      "metadata": {
        "id": "U9X2_kjYlRUk"
      },
      "execution_count": null,
      "outputs": []
    },
    {
      "cell_type": "code",
      "source": [
        "# len(pred_ppmi_test2)"
      ],
      "metadata": {
        "id": "Af8HwmyPBX-M"
      },
      "execution_count": null,
      "outputs": []
    },
    {
      "cell_type": "code",
      "source": [
        "pred_ppmi_test3=[]\n",
        "for i in pred_ppmi_test2:\n",
        "  pred_ppmi_test3.append(mode(i))\n",
        "Counter(pred_ppmi_test3)"
      ],
      "metadata": {
        "colab": {
          "base_uri": "https://localhost:8080/"
        },
        "id": "e9HaqG3DlZs5",
        "outputId": "bc1e9d04-c830-4c1f-831a-24ad92851fe1"
      },
      "execution_count": null,
      "outputs": [
        {
          "output_type": "execute_result",
          "data": {
            "text/plain": [
              "Counter({1: 74})"
            ]
          },
          "metadata": {},
          "execution_count": 570
        }
      ]
    },
    {
      "cell_type": "code",
      "source": [
        "# pred_ppmi_test3"
      ],
      "metadata": {
        "id": "n_jYgCjL_YWH"
      },
      "execution_count": null,
      "outputs": []
    },
    {
      "cell_type": "markdown",
      "source": [
        "#Creating sample label against test set of PPMI data."
      ],
      "metadata": {
        "id": "IzBLavy3MeDr"
      }
    },
    {
      "cell_type": "code",
      "source": [
        "y_test_new=[1]*ppmi_pd_x_test.shape[0]\n",
        "# y_test_new.extend([1]*ppmi_pd_x_test.shape[0])\n",
        "y_test_new=pd.Series(y_test_new)"
      ],
      "metadata": {
        "id": "A1b7JXaQxO3D"
      },
      "execution_count": null,
      "outputs": []
    },
    {
      "cell_type": "code",
      "source": [
        "y_test_predicted=pd.Series(pred_ppmi_test3)"
      ],
      "metadata": {
        "id": "GPS59VJ0xo-C"
      },
      "execution_count": null,
      "outputs": []
    },
    {
      "cell_type": "code",
      "source": [
        "y_pd_predicted=y_test_predicted"
      ],
      "metadata": {
        "id": "fYtC1ia73KpF"
      },
      "execution_count": null,
      "outputs": []
    },
    {
      "cell_type": "code",
      "source": [
        "y_pd_predicted"
      ],
      "metadata": {
        "colab": {
          "base_uri": "https://localhost:8080/"
        },
        "id": "eka_wzYQ3yVU",
        "outputId": "9a7bb4a8-aa9d-458a-837d-4ecfecea39e2"
      },
      "execution_count": null,
      "outputs": [
        {
          "output_type": "execute_result",
          "data": {
            "text/plain": [
              "0     1\n",
              "1     1\n",
              "2     1\n",
              "3     1\n",
              "4     1\n",
              "     ..\n",
              "69    1\n",
              "70    1\n",
              "71    1\n",
              "72    1\n",
              "73    1\n",
              "Length: 74, dtype: int64"
            ]
          },
          "metadata": {},
          "execution_count": 575
        }
      ]
    },
    {
      "cell_type": "markdown",
      "source": [
        "#Function for calculating evaluation metrices (Accuracy, ROC AUC Score, Cohen Kappa Score, Confusion Matrix, Classification Report, Precision vs Recall Plot, ROC Curve) :"
      ],
      "metadata": {
        "id": "iMC9CnmPLaQt"
      }
    },
    {
      "cell_type": "code",
      "source": [
        "def test_model_evaluate(target, predy, testy):\n",
        "  y_pred = predy.to_numpy()\n",
        "  \n",
        "  # y_pred=y_pred.ravel() > 0.5\n",
        "  # print(collections.Counter(y_pred))\n",
        "  # y_pred = np.argmax(y_pred, axis=1)\n",
        "  # print(np.shape(y_pred),testy.shape)\n",
        "  y_test = testy\n",
        "\n",
        "  # Confusion matrix\n",
        "  print('Confusion Matrix')\n",
        "\n",
        "  cm = tf.math.confusion_matrix(labels = y_test, predictions = y_pred)\n",
        "  # Calculate accuracy\n",
        "  cm_np = cm.numpy()\n",
        "  conf_acc = accuracy_score(y_test, y_pred) * 100\n",
        "  print(\"Accuracy for Test Data = \", conf_acc)\n",
        "\n",
        "  plt.figure(figsize = (6,4))\n",
        "  seaborn.heatmap(cm, annot=True, fmt='d')\n",
        "  plt.title(\"Confusion Matrix for Test Data\")\n",
        "  plt.xlabel('Predicted')\n",
        "  plt.ylabel('Expected')\n",
        "  plt.show()\n",
        "\n",
        "  # Classification Report\n",
        "  print('\\nClassification Report')\n",
        "  print(classification_report(y_test, y_pred))\n",
        "\n",
        "  # Cohen Kappa Score\n",
        "  print('\\nCohen Kappa Score')\n",
        "  print(cohen_kappa_score(y_test, y_pred))\n",
        "\n",
        "  # Precision vs Recall Curve\n",
        "  print('\\nPrecision vs Recall Curve')\n",
        "  fig, c_ax = plt.subplots(1,1, figsize = (6, 4))\n",
        "\n",
        "  y_test = tf.keras.utils.to_categorical(y_test)\n",
        "  y_pred = tf.keras.utils.to_categorical(y_pred)\n",
        "  n_classes = 2\n",
        "\n",
        "  precision = dict()\n",
        "  recall = dict()\n",
        "\n",
        "  for i in range(n_classes):\n",
        "    precision[i], recall[i], _ = precision_recall_curve(y_test[:, i],\n",
        "                                                          y_pred[:, i])\n",
        "    plt.plot(recall[i], precision[i], lw=2, label='class {}'.format(i))\n",
        "      \n",
        "  plt.xlabel(\"recall\")\n",
        "  plt.ylabel(\"precision\")\n",
        "  plt.legend(loc=\"best\")\n",
        "  plt.title(\"Precision vs. Recall curve\")\n",
        "  plt.show()\n",
        "\n",
        "  # ROC Curve\n",
        "  print('\\nROC Curve')\n",
        "  average = 'macro'\n",
        "  fig, c_ax = plt.subplots(1,1, figsize = (6, 4))\n",
        "  for (idx, c_label) in enumerate(target):\n",
        "      fpr, tpr, thresholds = roc_curve(y_test[:,idx].astype(int), y_pred[:,idx])\n",
        "      c_ax.plot(fpr, tpr, label = '%s (AUC:%0.2f)'  % (c_label, auc(fpr, tpr)))\n",
        "  c_ax.plot(fpr, fpr, 'b-', label = 'Random Guessing')\n",
        "  print('ROC AUC score:', roc_auc_score(y_test, y_pred, average=average))\n",
        "\n",
        "  c_ax.legend()\n",
        "  c_ax.set_xlabel('False Positive Rate')\n",
        "  c_ax.set_ylabel('True Positive Rate')\n",
        "  plt.title('ROC Curve')\n",
        "  plt.show()"
      ],
      "metadata": {
        "id": "JrDp5W1pxxD9"
      },
      "execution_count": null,
      "outputs": []
    },
    {
      "cell_type": "code",
      "source": [
        "# test_model_evaluate([0,1],y_test_predicted,y_test_new)"
      ],
      "metadata": {
        "id": "m6phiORKyON3"
      },
      "execution_count": null,
      "outputs": []
    },
    {
      "cell_type": "markdown",
      "source": [
        "#Creating sample test sample against each PPMI negative test set data and evaluating distance of anchor test sample embedding with positive and nageative embeddings of combined Gait and PPMI train set sample."
      ],
      "metadata": {
        "id": "vGv-88m6M-MA"
      }
    },
    {
      "cell_type": "code",
      "source": [
        "ppmi_data=pd.concat([ppmi_hc_x_test])\n",
        "res_ppmi_simi=[]\n",
        "# cosine_similarity = metrics.CosineSimilarity()\n",
        "x_anchors,x_positives,x_negatives,labels=[],[],[],[]\n",
        "for m in range(ppmi_data.shape[0]):\n",
        "    k=5\n",
        "    res_pred_ppmi=[]\n",
        "    positive = gait_pd_x_train.sample(n=k,replace=True)\n",
        "    negative = gait_hc_x_train.sample(n=k,replace=True)\n",
        "    z=[positive,negative]\n",
        "    ty=pd.concat(z)\n",
        "    da=ty.merge(ppmi_data.iloc[[m]],how='cross')\n",
        "    res_pred_ppmi.append(da)\n",
        "    res_pred_ppmi=np.concatenate(res_pred_ppmi,axis=0)\n",
        "    res_pred_ppmi=sc.fit_transform(res_pred_ppmi)\n",
        "    # We need to find an anchor, a positive example and a negative example\n",
        "    positive = pd_x_train.sample(n=5,replace=True)\n",
        "    negative = hc_x_train.sample(n=5,replace=True)\n",
        "    positive=sc.fit_transform(positive)\n",
        "    negative=sc.fit_transform(negative)\n",
        "    # print(type(positive))\n",
        "    # print(random_index)\n",
        "    \n",
        "    # print(type(positive.iloc[2].values))\n",
        "    data=[]\n",
        "    z=k*2\n",
        "    for i in range(z):\n",
        "      sk=[]\n",
        "      for j in range(5):\n",
        "        x_anchor = res_pred_ppmi[i]\n",
        "        # data=[[x_anchor, positive.iloc[j].values, negative.iloc[j].values]]\n",
        "        data=[[x_anchor, positive[j], negative[j]]]\n",
        "        data=np.array(data)\n",
        "        concat_anchor= Concatenate(axis=1)([gait_network(data[:,0,:126]),ppmi_network(data[:,0,126:])])\n",
        "        concat_positive = Concatenate(axis=1)([gait_network(data[:,1,:126]),ppmi_network(data[:,1,126:])])\n",
        "        concat_negative = Concatenate(axis=1)([gait_network(data[:,2,:126]),ppmi_network(data[:,2,126:])])\n",
        "\n",
        "        anchor_embedding, positive_embedding, negative_embedding = (\n",
        "            embedding(concat_anchor),\n",
        "            embedding(concat_positive),\n",
        "            embedding(concat_negative),\n",
        "        )\n",
        "        # positive_similarity = cosine_similarity(anchor_embedding, positive_embedding)\n",
        "        # negative_similarity = cosine_similarity(anchor_embedding, negative_embedding)\n",
        "        # same = cosine_similarity(anchor_embedding, anchor_embedding)\n",
        "        positive_similarity,negative_similarity=Lambda(postitve_negative)([anchor_embedding ,positive_embedding,negative_embedding])\n",
        "        sk.append([positive_similarity,negative_similarity,same])\n",
        "      res_ppmi_simi.append(sk)\n",
        "    # same.numpy()\n",
        "    # data=np.array(data)\n",
        "\n"
      ],
      "metadata": {
        "id": "GlR6kxN3G5As"
      },
      "execution_count": null,
      "outputs": []
    },
    {
      "cell_type": "markdown",
      "source": [
        "#Cheking lebel against each test set."
      ],
      "metadata": {
        "id": "GRi6CDQUNQGL"
      }
    },
    {
      "cell_type": "code",
      "source": [
        "pred_ppmi_test=[]\n",
        "for i in res_ppmi_simi:\n",
        "  pl=[]\n",
        "  for j in i:\n",
        "    if(j[0]<j[1]): pl.append(1)\n",
        "    else: pl.append(0)\n",
        "  pred_ppmi_test.append(pl)\n",
        "pred_ppmi_test2=[]\n",
        "for i in pred_ppmi_test:\n",
        "  pred_ppmi_test2.append(mode(i))\n",
        "len(pred_ppmi_test2)\n"
      ],
      "metadata": {
        "id": "5ZDpa9muG8yS",
        "colab": {
          "base_uri": "https://localhost:8080/"
        },
        "outputId": "2615a95b-5582-407b-bbc1-efbd39deaa05"
      },
      "execution_count": null,
      "outputs": [
        {
          "output_type": "execute_result",
          "data": {
            "text/plain": [
              "390"
            ]
          },
          "metadata": {},
          "execution_count": 579
        }
      ]
    },
    {
      "cell_type": "code",
      "source": [
        "pred_ppmi_test2=list(divide_chunks(pred_ppmi_test2,k*2))\n",
        "pred_ppmi_test3=[]\n",
        "for i in pred_ppmi_test2:\n",
        "  pred_ppmi_test3.append(mode(i))\n",
        "Counter(pred_ppmi_test3)"
      ],
      "metadata": {
        "id": "7FZEYCCkHA4g",
        "colab": {
          "base_uri": "https://localhost:8080/"
        },
        "outputId": "18000193-6704-4ff6-c0c8-62529e63b5ca"
      },
      "execution_count": null,
      "outputs": [
        {
          "output_type": "execute_result",
          "data": {
            "text/plain": [
              "Counter({0: 38, 1: 1})"
            ]
          },
          "metadata": {},
          "execution_count": 580
        }
      ]
    },
    {
      "cell_type": "markdown",
      "source": [
        "#Creating sample label against test set of positive and negative PPMI data and combining all predicted data of PPMI test sample"
      ],
      "metadata": {
        "id": "svZgkPlqNWZf"
      }
    },
    {
      "cell_type": "code",
      "source": [
        "y_test_new=[0]*ppmi_hc_x_test.shape[0]\n",
        "y_test_new.extend([1]*ppmi_pd_x_test.shape[0])\n",
        "y_test_new=pd.Series(y_test_new)\n",
        "y_test_predicted=pd.Series(pred_ppmi_test3)\n",
        "y_test_predicted=pd.concat([y_test_predicted,y_pd_predicted])"
      ],
      "metadata": {
        "id": "TSPD8gzZHEYV"
      },
      "execution_count": null,
      "outputs": []
    },
    {
      "cell_type": "code",
      "source": [
        "Counter(y_test_predicted)"
      ],
      "metadata": {
        "colab": {
          "base_uri": "https://localhost:8080/"
        },
        "id": "xqJKI4Vt5iot",
        "outputId": "32cc9833-9384-4f83-b70a-4c0567a504df"
      },
      "execution_count": null,
      "outputs": [
        {
          "output_type": "execute_result",
          "data": {
            "text/plain": [
              "Counter({0: 38, 1: 75})"
            ]
          },
          "metadata": {},
          "execution_count": 582
        }
      ]
    },
    {
      "cell_type": "code",
      "source": [
        "# y_test_predicted"
      ],
      "metadata": {
        "id": "GXDo7cAY3iYG"
      },
      "execution_count": null,
      "outputs": []
    },
    {
      "cell_type": "markdown",
      "source": [
        "#Results of all the evaluation metrices."
      ],
      "metadata": {
        "id": "R6MmBv9VNpB-"
      }
    },
    {
      "cell_type": "code",
      "source": [
        "test_model_evaluate([0,1],y_test_predicted,y_test_new)"
      ],
      "metadata": {
        "id": "RNi8pemKHGNC",
        "colab": {
          "base_uri": "https://localhost:8080/",
          "height": 1000
        },
        "outputId": "449bd622-77aa-41b6-cbf6-69e20725e8b3"
      },
      "execution_count": null,
      "outputs": [
        {
          "output_type": "stream",
          "name": "stdout",
          "text": [
            "Confusion Matrix\n",
            "Accuracy for Test Data =  99.11504424778761\n"
          ]
        },
        {
          "output_type": "display_data",
          "data": {
            "text/plain": [
              "<Figure size 600x400 with 2 Axes>"
            ],
            "image/png": "[encoded data removed]"
          },
          "metadata": {}
        },
        {
          "output_type": "stream",
          "name": "stdout",
          "text": [
            "\n",
            "Classification Report\n",
            "              precision    recall  f1-score   support\n",
            "\n",
            "           0       1.00      0.97      0.99        39\n",
            "           1       0.99      1.00      0.99        74\n",
            "\n",
            "    accuracy                           0.99       113\n",
            "   macro avg       0.99      0.99      0.99       113\n",
            "weighted avg       0.99      0.99      0.99       113\n",
            "\n",
            "\n",
            "Cohen Kappa Score\n",
            "0.9803032944047412\n",
            "\n",
            "Precision vs Recall Curve\n"
          ]
        },
        {
          "output_type": "display_data",
          "data": {
            "text/plain": [
              "<Figure size 600x400 with 1 Axes>"
            ],
            "image/png": "[encoded data removed]"
          },
          "metadata": {}
        },
        {
          "output_type": "stream",
          "name": "stdout",
          "text": [
            "\n",
            "ROC Curve\n",
            "ROC AUC score: 0.9871794871794872\n"
          ]
        },
        {
          "output_type": "display_data",
          "data": {
            "text/plain": [
              "<Figure size 600x400 with 1 Axes>"
            ],
            "image/png": "[encoded data removed]"
          },
          "metadata": {}
        }
      ]
    }
  ],
  "metadata": {
    "colab": {
      "provenance": []
    },
    "gpuClass": "standard",
    "kernelspec": {
      "display_name": "Python 3",
      "name": "python3"
    },
    "language_info": {
      "name": "python"
    }
  },
  "nbformat": 4,
  "nbformat_minor": 0
}