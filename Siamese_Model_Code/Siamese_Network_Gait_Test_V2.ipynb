{
  "cells": [
    {
      "cell_type": "markdown",
      "source": [
        "#Import required libraries:"
      ],
      "metadata": {
        "id": "3bEOfukYYS0O"
      }
    },
    {
      "cell_type": "code",
      "execution_count": 289,
      "metadata": {
        "id": "Nw_Lo0wG1lE4"
      },
      "outputs": [],
      "source": [
        "import numpy as np\n",
        "import matplotlib.pyplot as plt\n",
        "import pandas as pd\n",
        "# np.random.seed(0) "
      ]
    },
    {
      "cell_type": "markdown",
      "source": [
        "#Load preprocessed PPMI and Gait Datasets:"
      ],
      "metadata": {
        "id": "PYwkp0L5YVpA"
      }
    },
    {
      "cell_type": "code",
      "execution_count": 290,
      "metadata": {
        "id": "5apCCR1q2DSm"
      },
      "outputs": [],
      "source": [
        "gait_hc=pd.read_csv('/content/drive/MyDrive/Parkinsons_Model/Gait_HC.csv')\n",
        "gait_pd=pd.read_csv('/content/drive/MyDrive/Parkinsons_Model/Gait_PD.csv')\n",
        "ppmi_hc=pd.read_csv('/content/drive/MyDrive/Parkinsons_Model/PPMI_HC.csv')\n",
        "ppmi_pd=pd.read_csv('/content/drive/MyDrive/Parkinsons_Model/PPMI_PD.csv')"
      ]
    },
    {
      "cell_type": "markdown",
      "source": [
        "#Drop \"Patient No.\" column from the dataset."
      ],
      "metadata": {
        "id": "v8rQbOjLYat0"
      }
    },
    {
      "cell_type": "code",
      "execution_count": 291,
      "metadata": {
        "id": "smn0q0Ma2PQt",
        "colab": {
          "base_uri": "https://localhost:8080/",
          "height": 317
        },
        "outputId": "4d275bb1-8720-477c-cfb5-8333c152bfee"
      },
      "outputs": [
        {
          "output_type": "execute_result",
          "data": {
            "text/plain": [
              "   ('NP1COG', 'BL')  ('NP1COG', 'V02')  ('NP1COG', 'V04')  ('NP1COG', 'V06')  \\\n",
              "0              0.00               0.00               0.25                0.0   \n",
              "1              0.25               0.25               0.25                0.5   \n",
              "2              0.00               0.00               0.00                0.0   \n",
              "3              0.25               0.25               0.00                0.0   \n",
              "4              0.00               0.00               0.00                0.0   \n",
              "\n",
              "   ('NP1COG', 'V08')  ('NP1COG', 'V10')  ('NP1COG', 'V12')  ('NP1HALL', 'BL')  \\\n",
              "0               0.00               0.00               0.25                0.0   \n",
              "1               0.25               0.25               0.50                0.0   \n",
              "2               0.00               0.00               0.25                0.0   \n",
              "3               0.25               0.00               0.25                0.0   \n",
              "4               0.00               0.00               0.00                0.0   \n",
              "\n",
              "   ('NP1HALL', 'V02')  ('NP1HALL', 'V04')  ...  ('SDMTOTAL', 'V08')  \\\n",
              "0                 0.0                0.00  ...             0.470588   \n",
              "1                 0.0                0.00  ...             0.431373   \n",
              "2                 0.0                0.00  ...             0.480392   \n",
              "3                 0.0                0.25  ...             0.490196   \n",
              "4                 0.0                0.00  ...             0.431373   \n",
              "\n",
              "   ('SDMTOTAL', 'V10')  ('SDMTOTAL', 'V12')  ('JLO_TOTRAW', 'BL')  \\\n",
              "0             0.470588             0.441176              1.000000   \n",
              "1             0.421569             0.372549              0.866667   \n",
              "2             0.411765             0.421569              0.866667   \n",
              "3             0.607843             0.539216              0.666667   \n",
              "4             0.401961             0.372549              0.866667   \n",
              "\n",
              "   ('JLO_TOTRAW', 'V04')  ('JLO_TOTRAW', 'V06')  ('JLO_TOTRAW', 'V08')  \\\n",
              "0               0.800000               1.000000               0.866667   \n",
              "1               0.800000               0.866667               0.733333   \n",
              "2               0.866667               0.933333               0.866667   \n",
              "3               0.866667               0.866667               0.866667   \n",
              "4               0.666667               0.833333               1.000000   \n",
              "\n",
              "   ('JLO_TOTRAW', 'V10')  ('JLO_TOTRAW', 'V12')  ENROLL_CAT  \n",
              "0               0.933333               1.000000          PD  \n",
              "1               1.000000               0.866667          PD  \n",
              "2               1.000000               0.800000          PD  \n",
              "3               0.800000               0.933333          PD  \n",
              "4               0.833333               0.666667          PD  \n",
              "\n",
              "[5 rows x 1596 columns]"
            ],
            "text/html": [
              "\n",
              "  <div id=\"df-5c4f08e5-f5cc-481d-a47a-a4cf24914d02\">\n",
              "    <div class=\"colab-df-container\">\n",
              "      <div>\n",
              "<style scoped>\n",
              "    .dataframe tbody tr th:only-of-type {\n",
              "        vertical-align: middle;\n",
              "    }\n",
              "\n",
              "    .dataframe tbody tr th {\n",
              "        vertical-align: top;\n",
              "    }\n",
              "\n",
              "    .dataframe thead th {\n",
              "        text-align: right;\n",
              "    }\n",
              "</style>\n",
              "<table border=\"1\" class=\"dataframe\">\n",
              "  <thead>\n",
              "    <tr style=\"text-align: right;\">\n",
              "      <th></th>\n",
              "      <th>('NP1COG', 'BL')</th>\n",
              "      <th>('NP1COG', 'V02')</th>\n",
              "      <th>('NP1COG', 'V04')</th>\n",
              "      <th>('NP1COG', 'V06')</th>\n",
              "      <th>('NP1COG', 'V08')</th>\n",
              "      <th>('NP1COG', 'V10')</th>\n",
              "      <th>('NP1COG', 'V12')</th>\n",
              "      <th>('NP1HALL', 'BL')</th>\n",
              "      <th>('NP1HALL', 'V02')</th>\n",
              "      <th>('NP1HALL', 'V04')</th>\n",
              "      <th>...</th>\n",
              "      <th>('SDMTOTAL', 'V08')</th>\n",
              "      <th>('SDMTOTAL', 'V10')</th>\n",
              "      <th>('SDMTOTAL', 'V12')</th>\n",
              "      <th>('JLO_TOTRAW', 'BL')</th>\n",
              "      <th>('JLO_TOTRAW', 'V04')</th>\n",
              "      <th>('JLO_TOTRAW', 'V06')</th>\n",
              "      <th>('JLO_TOTRAW', 'V08')</th>\n",
              "      <th>('JLO_TOTRAW', 'V10')</th>\n",
              "      <th>('JLO_TOTRAW', 'V12')</th>\n",
              "      <th>ENROLL_CAT</th>\n",
              "    </tr>\n",
              "  </thead>\n",
              "  <tbody>\n",
              "    <tr>\n",
              "      <th>0</th>\n",
              "      <td>0.00</td>\n",
              "      <td>0.00</td>\n",
              "      <td>0.25</td>\n",
              "      <td>0.0</td>\n",
              "      <td>0.00</td>\n",
              "      <td>0.00</td>\n",
              "      <td>0.25</td>\n",
              "      <td>0.0</td>\n",
              "      <td>0.0</td>\n",
              "      <td>0.00</td>\n",
              "      <td>...</td>\n",
              "      <td>0.470588</td>\n",
              "      <td>0.470588</td>\n",
              "      <td>0.441176</td>\n",
              "      <td>1.000000</td>\n",
              "      <td>0.800000</td>\n",
              "      <td>1.000000</td>\n",
              "      <td>0.866667</td>\n",
              "      <td>0.933333</td>\n",
              "      <td>1.000000</td>\n",
              "      <td>PD</td>\n",
              "    </tr>\n",
              "    <tr>\n",
              "      <th>1</th>\n",
              "      <td>0.25</td>\n",
              "      <td>0.25</td>\n",
              "      <td>0.25</td>\n",
              "      <td>0.5</td>\n",
              "      <td>0.25</td>\n",
              "      <td>0.25</td>\n",
              "      <td>0.50</td>\n",
              "      <td>0.0</td>\n",
              "      <td>0.0</td>\n",
              "      <td>0.00</td>\n",
              "      <td>...</td>\n",
              "      <td>0.431373</td>\n",
              "      <td>0.421569</td>\n",
              "      <td>0.372549</td>\n",
              "      <td>0.866667</td>\n",
              "      <td>0.800000</td>\n",
              "      <td>0.866667</td>\n",
              "      <td>0.733333</td>\n",
              "      <td>1.000000</td>\n",
              "      <td>0.866667</td>\n",
              "      <td>PD</td>\n",
              "    </tr>\n",
              "    <tr>\n",
              "      <th>2</th>\n",
              "      <td>0.00</td>\n",
              "      <td>0.00</td>\n",
              "      <td>0.00</td>\n",
              "      <td>0.0</td>\n",
              "      <td>0.00</td>\n",
              "      <td>0.00</td>\n",
              "      <td>0.25</td>\n",
              "      <td>0.0</td>\n",
              "      <td>0.0</td>\n",
              "      <td>0.00</td>\n",
              "      <td>...</td>\n",
              "      <td>0.480392</td>\n",
              "      <td>0.411765</td>\n",
              "      <td>0.421569</td>\n",
              "      <td>0.866667</td>\n",
              "      <td>0.866667</td>\n",
              "      <td>0.933333</td>\n",
              "      <td>0.866667</td>\n",
              "      <td>1.000000</td>\n",
              "      <td>0.800000</td>\n",
              "      <td>PD</td>\n",
              "    </tr>\n",
              "    <tr>\n",
              "      <th>3</th>\n",
              "      <td>0.25</td>\n",
              "      <td>0.25</td>\n",
              "      <td>0.00</td>\n",
              "      <td>0.0</td>\n",
              "      <td>0.25</td>\n",
              "      <td>0.00</td>\n",
              "      <td>0.25</td>\n",
              "      <td>0.0</td>\n",
              "      <td>0.0</td>\n",
              "      <td>0.25</td>\n",
              "      <td>...</td>\n",
              "      <td>0.490196</td>\n",
              "      <td>0.607843</td>\n",
              "      <td>0.539216</td>\n",
              "      <td>0.666667</td>\n",
              "      <td>0.866667</td>\n",
              "      <td>0.866667</td>\n",
              "      <td>0.866667</td>\n",
              "      <td>0.800000</td>\n",
              "      <td>0.933333</td>\n",
              "      <td>PD</td>\n",
              "    </tr>\n",
              "    <tr>\n",
              "      <th>4</th>\n",
              "      <td>0.00</td>\n",
              "      <td>0.00</td>\n",
              "      <td>0.00</td>\n",
              "      <td>0.0</td>\n",
              "      <td>0.00</td>\n",
              "      <td>0.00</td>\n",
              "      <td>0.00</td>\n",
              "      <td>0.0</td>\n",
              "      <td>0.0</td>\n",
              "      <td>0.00</td>\n",
              "      <td>...</td>\n",
              "      <td>0.431373</td>\n",
              "      <td>0.401961</td>\n",
              "      <td>0.372549</td>\n",
              "      <td>0.866667</td>\n",
              "      <td>0.666667</td>\n",
              "      <td>0.833333</td>\n",
              "      <td>1.000000</td>\n",
              "      <td>0.833333</td>\n",
              "      <td>0.666667</td>\n",
              "      <td>PD</td>\n",
              "    </tr>\n",
              "  </tbody>\n",
              "</table>\n",
              "<p>5 rows × 1596 columns</p>\n",
              "</div>\n",
              "      <button class=\"colab-df-convert\" onclick=\"convertToInteractive('df-5c4f08e5-f5cc-481d-a47a-a4cf24914d02')\"\n",
              "              title=\"Convert this dataframe to an interactive table.\"\n",
              "              style=\"display:none;\">\n",
              "        \n",
              "  <svg xmlns=\"http://www.w3.org/2000/svg\" height=\"24px\"viewBox=\"0 0 24 24\"\n",
              "       width=\"24px\">\n",
              "    <path d=\"M0 0h24v24H0V0z\" fill=\"none\"/>\n",
              "    <path d=\"M18.56 5.44l.94 2.06.94-2.06 2.06-.94-2.06-.94-.94-2.06-.94 2.06-2.06.94zm-11 1L8.5 8.5l.94-2.06 2.06-.94-2.06-.94L8.5 2.5l-.94 2.06-2.06.94zm10 10l.94 2.06.94-2.06 2.06-.94-2.06-.94-.94-2.06-.94 2.06-2.06.94z\"/><path d=\"M17.41 7.96l-1.37-1.37c-.4-.4-.92-.59-1.43-.59-.52 0-1.04.2-1.43.59L10.3 9.45l-7.72 7.72c-.78.78-.78 2.05 0 2.83L4 21.41c.39.39.9.59 1.41.59.51 0 1.02-.2 1.41-.59l7.78-7.78 2.81-2.81c.8-.78.8-2.07 0-2.86zM5.41 20L4 18.59l7.72-7.72 1.47 1.35L5.41 20z\"/>\n",
              "  </svg>\n",
              "      </button>\n",
              "      \n",
              "  <style>\n",
              "    .colab-df-container {\n",
              "      display:flex;\n",
              "      flex-wrap:wrap;\n",
              "      gap: 12px;\n",
              "    }\n",
              "\n",
              "    .colab-df-convert {\n",
              "      background-color: #E8F0FE;\n",
              "      border: none;\n",
              "      border-radius: 50%;\n",
              "      cursor: pointer;\n",
              "      display: none;\n",
              "      fill: #1967D2;\n",
              "      height: 32px;\n",
              "      padding: 0 0 0 0;\n",
              "      width: 32px;\n",
              "    }\n",
              "\n",
              "    .colab-df-convert:hover {\n",
              "      background-color: #E2EBFA;\n",
              "      box-shadow: 0px 1px 2px rgba(60, 64, 67, 0.3), 0px 1px 3px 1px rgba(60, 64, 67, 0.15);\n",
              "      fill: #174EA6;\n",
              "    }\n",
              "\n",
              "    [theme=dark] .colab-df-convert {\n",
              "      background-color: #3B4455;\n",
              "      fill: #D2E3FC;\n",
              "    }\n",
              "\n",
              "    [theme=dark] .colab-df-convert:hover {\n",
              "      background-color: #434B5C;\n",
              "      box-shadow: 0px 1px 3px 1px rgba(0, 0, 0, 0.15);\n",
              "      filter: drop-shadow(0px 1px 2px rgba(0, 0, 0, 0.3));\n",
              "      fill: #FFFFFF;\n",
              "    }\n",
              "  </style>\n",
              "\n",
              "      <script>\n",
              "        const buttonEl =\n",
              "          document.querySelector('#df-5c4f08e5-f5cc-481d-a47a-a4cf24914d02 button.colab-df-convert');\n",
              "        buttonEl.style.display =\n",
              "          google.colab.kernel.accessAllowed ? 'block' : 'none';\n",
              "\n",
              "        async function convertToInteractive(key) {\n",
              "          const element = document.querySelector('#df-5c4f08e5-f5cc-481d-a47a-a4cf24914d02');\n",
              "          const dataTable =\n",
              "            await google.colab.kernel.invokeFunction('convertToInteractive',\n",
              "                                                     [key], {});\n",
              "          if (!dataTable) return;\n",
              "\n",
              "          const docLinkHtml = 'Like what you see? Visit the ' +\n",
              "            '<a target=\"_blank\" href=https://colab.research.google.com/notebooks/data_table.ipynb>data table notebook</a>'\n",
              "            + ' to learn more about interactive tables.';\n",
              "          element.innerHTML = '';\n",
              "          dataTable['output_type'] = 'display_data';\n",
              "          await google.colab.output.renderOutput(dataTable, element);\n",
              "          const docLink = document.createElement('div');\n",
              "          docLink.innerHTML = docLinkHtml;\n",
              "          element.appendChild(docLink);\n",
              "        }\n",
              "      </script>\n",
              "    </div>\n",
              "  </div>\n",
              "  "
            ]
          },
          "metadata": {},
          "execution_count": 291
        }
      ],
      "source": [
        "ppmi_hc = ppmi_hc.drop('PATNO', axis=1)\n",
        "ppmi_pd = ppmi_pd.drop('PATNO', axis=1)\n",
        "ppmi_pd.head()"
      ]
    },
    {
      "cell_type": "markdown",
      "source": [
        "#Replace categorical value with binary number."
      ],
      "metadata": {
        "id": "I-i2_-faYhg-"
      }
    },
    {
      "cell_type": "code",
      "execution_count": 292,
      "metadata": {
        "id": "1tIZZIUD2RRl"
      },
      "outputs": [],
      "source": [
        "ppmi_hc['ENROLL_CAT'] = ppmi_hc['ENROLL_CAT'].replace('HC',0)\n",
        "ppmi_pd['ENROLL_CAT'] = ppmi_pd['ENROLL_CAT'].replace('PD',1)"
      ]
    },
    {
      "cell_type": "code",
      "execution_count": 293,
      "metadata": {
        "id": "Rprj6hul2TH1",
        "colab": {
          "base_uri": "https://localhost:8080/",
          "height": 505
        },
        "outputId": "c240efc0-83f6-4d31-b147-3b250b8821dd"
      },
      "outputs": [
        {
          "output_type": "execute_result",
          "data": {
            "text/plain": [
              "     ('NP1COG', 'BL')  ('NP1COG', 'V02')  ('NP1COG', 'V04')  \\\n",
              "0                0.00              0.000               0.25   \n",
              "1                0.25              0.250               0.25   \n",
              "2                0.00              0.000               0.00   \n",
              "3                0.25              0.250               0.00   \n",
              "4                0.00              0.000               0.00   \n",
              "..                ...                ...                ...   \n",
              "289              0.00              0.000               0.00   \n",
              "290              0.00              0.000               0.00   \n",
              "291              0.00              0.000               0.00   \n",
              "292              0.00              0.000               0.00   \n",
              "293              0.25              0.375               0.50   \n",
              "\n",
              "     ('NP1COG', 'V06')  ('NP1COG', 'V08')  ('NP1COG', 'V10')  \\\n",
              "0                  0.0               0.00               0.00   \n",
              "1                  0.5               0.25               0.25   \n",
              "2                  0.0               0.00               0.00   \n",
              "3                  0.0               0.25               0.00   \n",
              "4                  0.0               0.00               0.00   \n",
              "..                 ...                ...                ...   \n",
              "289                0.0               0.00               0.00   \n",
              "290                0.0               0.00               0.25   \n",
              "291                0.0               0.00               0.00   \n",
              "292                0.0               0.00               0.00   \n",
              "293                0.5               0.50               0.50   \n",
              "\n",
              "     ('NP1COG', 'V12')  ('NP1HALL', 'BL')  ('NP1HALL', 'V02')  \\\n",
              "0                 0.25                0.0                 0.0   \n",
              "1                 0.50                0.0                 0.0   \n",
              "2                 0.25                0.0                 0.0   \n",
              "3                 0.25                0.0                 0.0   \n",
              "4                 0.00                0.0                 0.0   \n",
              "..                 ...                ...                 ...   \n",
              "289               0.00                0.0                 0.0   \n",
              "290               0.25                0.0                 0.0   \n",
              "291               0.25                0.0                 0.0   \n",
              "292               0.25                0.0                 0.0   \n",
              "293               0.50                0.0                 0.0   \n",
              "\n",
              "     ('NP1HALL', 'V04')  ...  ('SDMTOTAL', 'V08')  ('SDMTOTAL', 'V10')  \\\n",
              "0                  0.00  ...             0.470588             0.470588   \n",
              "1                  0.00  ...             0.431373             0.421569   \n",
              "2                  0.00  ...             0.480392             0.411765   \n",
              "3                  0.25  ...             0.490196             0.607843   \n",
              "4                  0.00  ...             0.431373             0.401961   \n",
              "..                  ...  ...                  ...                  ...   \n",
              "289                0.00  ...             0.313725             0.470588   \n",
              "290                0.00  ...             0.480392             0.480392   \n",
              "291                0.00  ...             0.460784             0.382353   \n",
              "292                0.00  ...             0.519608             0.480392   \n",
              "293                0.00  ...             0.398693             0.385621   \n",
              "\n",
              "     ('SDMTOTAL', 'V12')  ('JLO_TOTRAW', 'BL')  ('JLO_TOTRAW', 'V04')  \\\n",
              "0               0.441176              1.000000               0.800000   \n",
              "1               0.372549              0.866667               0.800000   \n",
              "2               0.421569              0.866667               0.866667   \n",
              "3               0.539216              0.666667               0.866667   \n",
              "4               0.372549              0.866667               0.666667   \n",
              "..                   ...                   ...                    ...   \n",
              "289             0.500000              0.933333               0.866667   \n",
              "290             0.411765              0.933333               0.666667   \n",
              "291             0.500000              1.000000               0.866667   \n",
              "292             0.578431              0.733333               0.533333   \n",
              "293             0.372549              1.000000               0.733333   \n",
              "\n",
              "     ('JLO_TOTRAW', 'V06')  ('JLO_TOTRAW', 'V08')  ('JLO_TOTRAW', 'V10')  \\\n",
              "0                 1.000000               0.866667               0.933333   \n",
              "1                 0.866667               0.733333               1.000000   \n",
              "2                 0.933333               0.866667               1.000000   \n",
              "3                 0.866667               0.866667               0.800000   \n",
              "4                 0.833333               1.000000               0.833333   \n",
              "..                     ...                    ...                    ...   \n",
              "289               0.733333               0.733333               0.733333   \n",
              "290               0.866667               0.866667               0.600000   \n",
              "291               1.000000               1.000000               1.000000   \n",
              "292               0.800000               0.466667               0.733333   \n",
              "293               0.800000               0.733333               0.666667   \n",
              "\n",
              "     ('JLO_TOTRAW', 'V12')  ENROLL_CAT  \n",
              "0                 1.000000           1  \n",
              "1                 0.866667           1  \n",
              "2                 0.800000           1  \n",
              "3                 0.933333           1  \n",
              "4                 0.666667           1  \n",
              "..                     ...         ...  \n",
              "289               0.866667           1  \n",
              "290               0.733333           1  \n",
              "291               1.000000           1  \n",
              "292               0.800000           1  \n",
              "293               0.600000           1  \n",
              "\n",
              "[294 rows x 1596 columns]"
            ],
            "text/html": [
              "\n",
              "  <div id=\"df-b36223f0-a28a-4b0e-8f20-3621a72d6585\">\n",
              "    <div class=\"colab-df-container\">\n",
              "      <div>\n",
              "<style scoped>\n",
              "    .dataframe tbody tr th:only-of-type {\n",
              "        vertical-align: middle;\n",
              "    }\n",
              "\n",
              "    .dataframe tbody tr th {\n",
              "        vertical-align: top;\n",
              "    }\n",
              "\n",
              "    .dataframe thead th {\n",
              "        text-align: right;\n",
              "    }\n",
              "</style>\n",
              "<table border=\"1\" class=\"dataframe\">\n",
              "  <thead>\n",
              "    <tr style=\"text-align: right;\">\n",
              "      <th></th>\n",
              "      <th>('NP1COG', 'BL')</th>\n",
              "      <th>('NP1COG', 'V02')</th>\n",
              "      <th>('NP1COG', 'V04')</th>\n",
              "      <th>('NP1COG', 'V06')</th>\n",
              "      <th>('NP1COG', 'V08')</th>\n",
              "      <th>('NP1COG', 'V10')</th>\n",
              "      <th>('NP1COG', 'V12')</th>\n",
              "      <th>('NP1HALL', 'BL')</th>\n",
              "      <th>('NP1HALL', 'V02')</th>\n",
              "      <th>('NP1HALL', 'V04')</th>\n",
              "      <th>...</th>\n",
              "      <th>('SDMTOTAL', 'V08')</th>\n",
              "      <th>('SDMTOTAL', 'V10')</th>\n",
              "      <th>('SDMTOTAL', 'V12')</th>\n",
              "      <th>('JLO_TOTRAW', 'BL')</th>\n",
              "      <th>('JLO_TOTRAW', 'V04')</th>\n",
              "      <th>('JLO_TOTRAW', 'V06')</th>\n",
              "      <th>('JLO_TOTRAW', 'V08')</th>\n",
              "      <th>('JLO_TOTRAW', 'V10')</th>\n",
              "      <th>('JLO_TOTRAW', 'V12')</th>\n",
              "      <th>ENROLL_CAT</th>\n",
              "    </tr>\n",
              "  </thead>\n",
              "  <tbody>\n",
              "    <tr>\n",
              "      <th>0</th>\n",
              "      <td>0.00</td>\n",
              "      <td>0.000</td>\n",
              "      <td>0.25</td>\n",
              "      <td>0.0</td>\n",
              "      <td>0.00</td>\n",
              "      <td>0.00</td>\n",
              "      <td>0.25</td>\n",
              "      <td>0.0</td>\n",
              "      <td>0.0</td>\n",
              "      <td>0.00</td>\n",
              "      <td>...</td>\n",
              "      <td>0.470588</td>\n",
              "      <td>0.470588</td>\n",
              "      <td>0.441176</td>\n",
              "      <td>1.000000</td>\n",
              "      <td>0.800000</td>\n",
              "      <td>1.000000</td>\n",
              "      <td>0.866667</td>\n",
              "      <td>0.933333</td>\n",
              "      <td>1.000000</td>\n",
              "      <td>1</td>\n",
              "    </tr>\n",
              "    <tr>\n",
              "      <th>1</th>\n",
              "      <td>0.25</td>\n",
              "      <td>0.250</td>\n",
              "      <td>0.25</td>\n",
              "      <td>0.5</td>\n",
              "      <td>0.25</td>\n",
              "      <td>0.25</td>\n",
              "      <td>0.50</td>\n",
              "      <td>0.0</td>\n",
              "      <td>0.0</td>\n",
              "      <td>0.00</td>\n",
              "      <td>...</td>\n",
              "      <td>0.431373</td>\n",
              "      <td>0.421569</td>\n",
              "      <td>0.372549</td>\n",
              "      <td>0.866667</td>\n",
              "      <td>0.800000</td>\n",
              "      <td>0.866667</td>\n",
              "      <td>0.733333</td>\n",
              "      <td>1.000000</td>\n",
              "      <td>0.866667</td>\n",
              "      <td>1</td>\n",
              "    </tr>\n",
              "    <tr>\n",
              "      <th>2</th>\n",
              "      <td>0.00</td>\n",
              "      <td>0.000</td>\n",
              "      <td>0.00</td>\n",
              "      <td>0.0</td>\n",
              "      <td>0.00</td>\n",
              "      <td>0.00</td>\n",
              "      <td>0.25</td>\n",
              "      <td>0.0</td>\n",
              "      <td>0.0</td>\n",
              "      <td>0.00</td>\n",
              "      <td>...</td>\n",
              "      <td>0.480392</td>\n",
              "      <td>0.411765</td>\n",
              "      <td>0.421569</td>\n",
              "      <td>0.866667</td>\n",
              "      <td>0.866667</td>\n",
              "      <td>0.933333</td>\n",
              "      <td>0.866667</td>\n",
              "      <td>1.000000</td>\n",
              "      <td>0.800000</td>\n",
              "      <td>1</td>\n",
              "    </tr>\n",
              "    <tr>\n",
              "      <th>3</th>\n",
              "      <td>0.25</td>\n",
              "      <td>0.250</td>\n",
              "      <td>0.00</td>\n",
              "      <td>0.0</td>\n",
              "      <td>0.25</td>\n",
              "      <td>0.00</td>\n",
              "      <td>0.25</td>\n",
              "      <td>0.0</td>\n",
              "      <td>0.0</td>\n",
              "      <td>0.25</td>\n",
              "      <td>...</td>\n",
              "      <td>0.490196</td>\n",
              "      <td>0.607843</td>\n",
              "      <td>0.539216</td>\n",
              "      <td>0.666667</td>\n",
              "      <td>0.866667</td>\n",
              "      <td>0.866667</td>\n",
              "      <td>0.866667</td>\n",
              "      <td>0.800000</td>\n",
              "      <td>0.933333</td>\n",
              "      <td>1</td>\n",
              "    </tr>\n",
              "    <tr>\n",
              "      <th>4</th>\n",
              "      <td>0.00</td>\n",
              "      <td>0.000</td>\n",
              "      <td>0.00</td>\n",
              "      <td>0.0</td>\n",
              "      <td>0.00</td>\n",
              "      <td>0.00</td>\n",
              "      <td>0.00</td>\n",
              "      <td>0.0</td>\n",
              "      <td>0.0</td>\n",
              "      <td>0.00</td>\n",
              "      <td>...</td>\n",
              "      <td>0.431373</td>\n",
              "      <td>0.401961</td>\n",
              "      <td>0.372549</td>\n",
              "      <td>0.866667</td>\n",
              "      <td>0.666667</td>\n",
              "      <td>0.833333</td>\n",
              "      <td>1.000000</td>\n",
              "      <td>0.833333</td>\n",
              "      <td>0.666667</td>\n",
              "      <td>1</td>\n",
              "    </tr>\n",
              "    <tr>\n",
              "      <th>...</th>\n",
              "      <td>...</td>\n",
              "      <td>...</td>\n",
              "      <td>...</td>\n",
              "      <td>...</td>\n",
              "      <td>...</td>\n",
              "      <td>...</td>\n",
              "      <td>...</td>\n",
              "      <td>...</td>\n",
              "      <td>...</td>\n",
              "      <td>...</td>\n",
              "      <td>...</td>\n",
              "      <td>...</td>\n",
              "      <td>...</td>\n",
              "      <td>...</td>\n",
              "      <td>...</td>\n",
              "      <td>...</td>\n",
              "      <td>...</td>\n",
              "      <td>...</td>\n",
              "      <td>...</td>\n",
              "      <td>...</td>\n",
              "      <td>...</td>\n",
              "    </tr>\n",
              "    <tr>\n",
              "      <th>289</th>\n",
              "      <td>0.00</td>\n",
              "      <td>0.000</td>\n",
              "      <td>0.00</td>\n",
              "      <td>0.0</td>\n",
              "      <td>0.00</td>\n",
              "      <td>0.00</td>\n",
              "      <td>0.00</td>\n",
              "      <td>0.0</td>\n",
              "      <td>0.0</td>\n",
              "      <td>0.00</td>\n",
              "      <td>...</td>\n",
              "      <td>0.313725</td>\n",
              "      <td>0.470588</td>\n",
              "      <td>0.500000</td>\n",
              "      <td>0.933333</td>\n",
              "      <td>0.866667</td>\n",
              "      <td>0.733333</td>\n",
              "      <td>0.733333</td>\n",
              "      <td>0.733333</td>\n",
              "      <td>0.866667</td>\n",
              "      <td>1</td>\n",
              "    </tr>\n",
              "    <tr>\n",
              "      <th>290</th>\n",
              "      <td>0.00</td>\n",
              "      <td>0.000</td>\n",
              "      <td>0.00</td>\n",
              "      <td>0.0</td>\n",
              "      <td>0.00</td>\n",
              "      <td>0.25</td>\n",
              "      <td>0.25</td>\n",
              "      <td>0.0</td>\n",
              "      <td>0.0</td>\n",
              "      <td>0.00</td>\n",
              "      <td>...</td>\n",
              "      <td>0.480392</td>\n",
              "      <td>0.480392</td>\n",
              "      <td>0.411765</td>\n",
              "      <td>0.933333</td>\n",
              "      <td>0.666667</td>\n",
              "      <td>0.866667</td>\n",
              "      <td>0.866667</td>\n",
              "      <td>0.600000</td>\n",
              "      <td>0.733333</td>\n",
              "      <td>1</td>\n",
              "    </tr>\n",
              "    <tr>\n",
              "      <th>291</th>\n",
              "      <td>0.00</td>\n",
              "      <td>0.000</td>\n",
              "      <td>0.00</td>\n",
              "      <td>0.0</td>\n",
              "      <td>0.00</td>\n",
              "      <td>0.00</td>\n",
              "      <td>0.25</td>\n",
              "      <td>0.0</td>\n",
              "      <td>0.0</td>\n",
              "      <td>0.00</td>\n",
              "      <td>...</td>\n",
              "      <td>0.460784</td>\n",
              "      <td>0.382353</td>\n",
              "      <td>0.500000</td>\n",
              "      <td>1.000000</td>\n",
              "      <td>0.866667</td>\n",
              "      <td>1.000000</td>\n",
              "      <td>1.000000</td>\n",
              "      <td>1.000000</td>\n",
              "      <td>1.000000</td>\n",
              "      <td>1</td>\n",
              "    </tr>\n",
              "    <tr>\n",
              "      <th>292</th>\n",
              "      <td>0.00</td>\n",
              "      <td>0.000</td>\n",
              "      <td>0.00</td>\n",
              "      <td>0.0</td>\n",
              "      <td>0.00</td>\n",
              "      <td>0.00</td>\n",
              "      <td>0.25</td>\n",
              "      <td>0.0</td>\n",
              "      <td>0.0</td>\n",
              "      <td>0.00</td>\n",
              "      <td>...</td>\n",
              "      <td>0.519608</td>\n",
              "      <td>0.480392</td>\n",
              "      <td>0.578431</td>\n",
              "      <td>0.733333</td>\n",
              "      <td>0.533333</td>\n",
              "      <td>0.800000</td>\n",
              "      <td>0.466667</td>\n",
              "      <td>0.733333</td>\n",
              "      <td>0.800000</td>\n",
              "      <td>1</td>\n",
              "    </tr>\n",
              "    <tr>\n",
              "      <th>293</th>\n",
              "      <td>0.25</td>\n",
              "      <td>0.375</td>\n",
              "      <td>0.50</td>\n",
              "      <td>0.5</td>\n",
              "      <td>0.50</td>\n",
              "      <td>0.50</td>\n",
              "      <td>0.50</td>\n",
              "      <td>0.0</td>\n",
              "      <td>0.0</td>\n",
              "      <td>0.00</td>\n",
              "      <td>...</td>\n",
              "      <td>0.398693</td>\n",
              "      <td>0.385621</td>\n",
              "      <td>0.372549</td>\n",
              "      <td>1.000000</td>\n",
              "      <td>0.733333</td>\n",
              "      <td>0.800000</td>\n",
              "      <td>0.733333</td>\n",
              "      <td>0.666667</td>\n",
              "      <td>0.600000</td>\n",
              "      <td>1</td>\n",
              "    </tr>\n",
              "  </tbody>\n",
              "</table>\n",
              "<p>294 rows × 1596 columns</p>\n",
              "</div>\n",
              "      <button class=\"colab-df-convert\" onclick=\"convertToInteractive('df-b36223f0-a28a-4b0e-8f20-3621a72d6585')\"\n",
              "              title=\"Convert this dataframe to an interactive table.\"\n",
              "              style=\"display:none;\">\n",
              "        \n",
              "  <svg xmlns=\"http://www.w3.org/2000/svg\" height=\"24px\"viewBox=\"0 0 24 24\"\n",
              "       width=\"24px\">\n",
              "    <path d=\"M0 0h24v24H0V0z\" fill=\"none\"/>\n",
              "    <path d=\"M18.56 5.44l.94 2.06.94-2.06 2.06-.94-2.06-.94-.94-2.06-.94 2.06-2.06.94zm-11 1L8.5 8.5l.94-2.06 2.06-.94-2.06-.94L8.5 2.5l-.94 2.06-2.06.94zm10 10l.94 2.06.94-2.06 2.06-.94-2.06-.94-.94-2.06-.94 2.06-2.06.94z\"/><path d=\"M17.41 7.96l-1.37-1.37c-.4-.4-.92-.59-1.43-.59-.52 0-1.04.2-1.43.59L10.3 9.45l-7.72 7.72c-.78.78-.78 2.05 0 2.83L4 21.41c.39.39.9.59 1.41.59.51 0 1.02-.2 1.41-.59l7.78-7.78 2.81-2.81c.8-.78.8-2.07 0-2.86zM5.41 20L4 18.59l7.72-7.72 1.47 1.35L5.41 20z\"/>\n",
              "  </svg>\n",
              "      </button>\n",
              "      \n",
              "  <style>\n",
              "    .colab-df-container {\n",
              "      display:flex;\n",
              "      flex-wrap:wrap;\n",
              "      gap: 12px;\n",
              "    }\n",
              "\n",
              "    .colab-df-convert {\n",
              "      background-color: #E8F0FE;\n",
              "      border: none;\n",
              "      border-radius: 50%;\n",
              "      cursor: pointer;\n",
              "      display: none;\n",
              "      fill: #1967D2;\n",
              "      height: 32px;\n",
              "      padding: 0 0 0 0;\n",
              "      width: 32px;\n",
              "    }\n",
              "\n",
              "    .colab-df-convert:hover {\n",
              "      background-color: #E2EBFA;\n",
              "      box-shadow: 0px 1px 2px rgba(60, 64, 67, 0.3), 0px 1px 3px 1px rgba(60, 64, 67, 0.15);\n",
              "      fill: #174EA6;\n",
              "    }\n",
              "\n",
              "    [theme=dark] .colab-df-convert {\n",
              "      background-color: #3B4455;\n",
              "      fill: #D2E3FC;\n",
              "    }\n",
              "\n",
              "    [theme=dark] .colab-df-convert:hover {\n",
              "      background-color: #434B5C;\n",
              "      box-shadow: 0px 1px 3px 1px rgba(0, 0, 0, 0.15);\n",
              "      filter: drop-shadow(0px 1px 2px rgba(0, 0, 0, 0.3));\n",
              "      fill: #FFFFFF;\n",
              "    }\n",
              "  </style>\n",
              "\n",
              "      <script>\n",
              "        const buttonEl =\n",
              "          document.querySelector('#df-b36223f0-a28a-4b0e-8f20-3621a72d6585 button.colab-df-convert');\n",
              "        buttonEl.style.display =\n",
              "          google.colab.kernel.accessAllowed ? 'block' : 'none';\n",
              "\n",
              "        async function convertToInteractive(key) {\n",
              "          const element = document.querySelector('#df-b36223f0-a28a-4b0e-8f20-3621a72d6585');\n",
              "          const dataTable =\n",
              "            await google.colab.kernel.invokeFunction('convertToInteractive',\n",
              "                                                     [key], {});\n",
              "          if (!dataTable) return;\n",
              "\n",
              "          const docLinkHtml = 'Like what you see? Visit the ' +\n",
              "            '<a target=\"_blank\" href=https://colab.research.google.com/notebooks/data_table.ipynb>data table notebook</a>'\n",
              "            + ' to learn more about interactive tables.';\n",
              "          element.innerHTML = '';\n",
              "          dataTable['output_type'] = 'display_data';\n",
              "          await google.colab.output.renderOutput(dataTable, element);\n",
              "          const docLink = document.createElement('div');\n",
              "          docLink.innerHTML = docLinkHtml;\n",
              "          element.appendChild(docLink);\n",
              "        }\n",
              "      </script>\n",
              "    </div>\n",
              "  </div>\n",
              "  "
            ]
          },
          "metadata": {},
          "execution_count": 293
        }
      ],
      "source": [
        "ppmi_pd"
      ]
    },
    {
      "cell_type": "markdown",
      "source": [
        "#Separate labels form features in each datasets."
      ],
      "metadata": {
        "id": "o6o8uiGzYlbg"
      }
    },
    {
      "cell_type": "code",
      "execution_count": 294,
      "metadata": {
        "id": "T811tSsy2Uk9"
      },
      "outputs": [],
      "source": [
        "ppmi_pd_x=ppmi_pd.drop(['ENROLL_CAT'],axis=1)\n",
        "ppmi_hc_x=ppmi_hc.drop(['ENROLL_CAT'],axis=1)\n",
        "ppmi_pd_y=ppmi_pd.ENROLL_CAT\n",
        "ppmi_hc_y=ppmi_hc.ENROLL_CAT\n",
        "gait_pd_x=gait_pd.drop(['Label'],axis=1)\n",
        "gait_hc_x=gait_hc.drop(['Label'],axis=1)\n",
        "gait_pd_y=gait_pd.Label\n",
        "gait_hc_y=gait_hc.Label"
      ]
    },
    {
      "cell_type": "code",
      "execution_count": 295,
      "metadata": {
        "id": "uvuA_5wT2Wvl",
        "colab": {
          "base_uri": "https://localhost:8080/",
          "height": 505
        },
        "outputId": "ae464d5f-1419-434b-8ecb-42f5d5c7468c"
      },
      "outputs": [
        {
          "output_type": "execute_result",
          "data": {
            "text/plain": [
              "     ('NP1COG', 'BL')  ('NP1COG', 'V02')  ('NP1COG', 'V04')  \\\n",
              "0                0.25              0.125                0.0   \n",
              "1                0.00              0.000                0.0   \n",
              "2                0.00              0.000                0.0   \n",
              "3                0.00              0.000                0.0   \n",
              "4                0.00              0.000                0.0   \n",
              "..                ...                ...                ...   \n",
              "149              0.00              0.000                0.0   \n",
              "150              0.00              0.000                0.0   \n",
              "151              0.00              0.000                0.0   \n",
              "152              0.00              0.000                0.0   \n",
              "153              0.00              0.000                0.0   \n",
              "\n",
              "     ('NP1COG', 'V06')  ('NP1COG', 'V08')  ('NP1COG', 'V10')  \\\n",
              "0                 0.25               0.25               0.00   \n",
              "1                 0.00               0.25               0.00   \n",
              "2                 0.00               0.00               0.25   \n",
              "3                 0.00               0.00               0.00   \n",
              "4                 0.00               0.00               0.00   \n",
              "..                 ...                ...                ...   \n",
              "149               0.00               0.00               0.00   \n",
              "150               0.00               0.00               0.00   \n",
              "151               0.00               0.00               0.00   \n",
              "152               0.00               0.00               0.00   \n",
              "153               0.00               0.00               0.00   \n",
              "\n",
              "     ('NP1COG', 'V12')  ('NP1HALL', 'BL')  ('NP1HALL', 'V02')  \\\n",
              "0                 0.25                0.0                 0.0   \n",
              "1                 0.00                0.0                 0.0   \n",
              "2                 0.00                0.0                 0.0   \n",
              "3                 0.00                0.0                 0.0   \n",
              "4                 0.00                0.0                 0.0   \n",
              "..                 ...                ...                 ...   \n",
              "149               0.00                0.0                 0.0   \n",
              "150               0.00                0.0                 0.0   \n",
              "151               0.00                0.0                 0.0   \n",
              "152               0.00                0.0                 0.0   \n",
              "153               0.00                0.0                 0.0   \n",
              "\n",
              "     ('NP1HALL', 'V04')  ...  ('SDMTOTAL', 'V06')  ('SDMTOTAL', 'V08')  \\\n",
              "0                   0.0  ...             0.500000             0.519608   \n",
              "1                   0.0  ...             0.490196             0.450980   \n",
              "2                   0.0  ...             0.343137             0.323529   \n",
              "3                   0.0  ...             0.421569             0.428105   \n",
              "4                   0.0  ...             0.343137             0.382353   \n",
              "..                  ...  ...                  ...                  ...   \n",
              "149                 0.0  ...             0.450980             0.490196   \n",
              "150                 0.0  ...             0.460784             0.696078   \n",
              "151                 0.0  ...             0.323529             0.421569   \n",
              "152                 0.0  ...             0.490196             0.392157   \n",
              "153                 0.0  ...             0.401961             0.392157   \n",
              "\n",
              "     ('SDMTOTAL', 'V10')  ('SDMTOTAL', 'V12')  ('JLO_TOTRAW', 'BL')  \\\n",
              "0               0.500000             0.519608              1.000000   \n",
              "1               0.519608             0.500000              0.866667   \n",
              "2               0.362745             0.343137              0.800000   \n",
              "3               0.434641             0.441176              0.733333   \n",
              "4               0.362745             0.323529              1.000000   \n",
              "..                   ...                  ...                   ...   \n",
              "149             0.509804             0.421569              1.000000   \n",
              "150             0.480392             0.441176              0.933333   \n",
              "151             0.372549             0.382353              0.800000   \n",
              "152             0.401961             0.421569              0.866667   \n",
              "153             0.401961             0.372549              0.800000   \n",
              "\n",
              "     ('JLO_TOTRAW', 'V04')  ('JLO_TOTRAW', 'V06')  ('JLO_TOTRAW', 'V08')  \\\n",
              "0                 1.000000               0.933333               0.866667   \n",
              "1                 0.866667               1.000000               0.933333   \n",
              "2                 0.800000               0.800000               0.600000   \n",
              "3                 0.333333               0.866667               0.888889   \n",
              "4                 0.933333               0.933333               0.733333   \n",
              "..                     ...                    ...                    ...   \n",
              "149               1.000000               1.000000               1.000000   \n",
              "150               0.933333               0.933333               0.933333   \n",
              "151               0.866667               0.933333               0.666667   \n",
              "152               1.000000               0.733333               0.933333   \n",
              "153               0.733333               0.866667               0.800000   \n",
              "\n",
              "     ('JLO_TOTRAW', 'V10')  ('JLO_TOTRAW', 'V12')  \n",
              "0                 0.933333               1.000000  \n",
              "1                 1.000000               1.000000  \n",
              "2                 0.933333               0.666667  \n",
              "3                 0.911111               0.933333  \n",
              "4                 0.800000               0.733333  \n",
              "..                     ...                    ...  \n",
              "149               0.933333               0.933333  \n",
              "150               0.933333               0.933333  \n",
              "151               0.733333               0.866667  \n",
              "152               0.733333               0.933333  \n",
              "153               0.933333               0.733333  \n",
              "\n",
              "[154 rows x 1595 columns]"
            ],
            "text/html": [
              "\n",
              "  <div id=\"df-7d415793-cb22-47a7-8159-ef7dba1a0b33\">\n",
              "    <div class=\"colab-df-container\">\n",
              "      <div>\n",
              "<style scoped>\n",
              "    .dataframe tbody tr th:only-of-type {\n",
              "        vertical-align: middle;\n",
              "    }\n",
              "\n",
              "    .dataframe tbody tr th {\n",
              "        vertical-align: top;\n",
              "    }\n",
              "\n",
              "    .dataframe thead th {\n",
              "        text-align: right;\n",
              "    }\n",
              "</style>\n",
              "<table border=\"1\" class=\"dataframe\">\n",
              "  <thead>\n",
              "    <tr style=\"text-align: right;\">\n",
              "      <th></th>\n",
              "      <th>('NP1COG', 'BL')</th>\n",
              "      <th>('NP1COG', 'V02')</th>\n",
              "      <th>('NP1COG', 'V04')</th>\n",
              "      <th>('NP1COG', 'V06')</th>\n",
              "      <th>('NP1COG', 'V08')</th>\n",
              "      <th>('NP1COG', 'V10')</th>\n",
              "      <th>('NP1COG', 'V12')</th>\n",
              "      <th>('NP1HALL', 'BL')</th>\n",
              "      <th>('NP1HALL', 'V02')</th>\n",
              "      <th>('NP1HALL', 'V04')</th>\n",
              "      <th>...</th>\n",
              "      <th>('SDMTOTAL', 'V06')</th>\n",
              "      <th>('SDMTOTAL', 'V08')</th>\n",
              "      <th>('SDMTOTAL', 'V10')</th>\n",
              "      <th>('SDMTOTAL', 'V12')</th>\n",
              "      <th>('JLO_TOTRAW', 'BL')</th>\n",
              "      <th>('JLO_TOTRAW', 'V04')</th>\n",
              "      <th>('JLO_TOTRAW', 'V06')</th>\n",
              "      <th>('JLO_TOTRAW', 'V08')</th>\n",
              "      <th>('JLO_TOTRAW', 'V10')</th>\n",
              "      <th>('JLO_TOTRAW', 'V12')</th>\n",
              "    </tr>\n",
              "  </thead>\n",
              "  <tbody>\n",
              "    <tr>\n",
              "      <th>0</th>\n",
              "      <td>0.25</td>\n",
              "      <td>0.125</td>\n",
              "      <td>0.0</td>\n",
              "      <td>0.25</td>\n",
              "      <td>0.25</td>\n",
              "      <td>0.00</td>\n",
              "      <td>0.25</td>\n",
              "      <td>0.0</td>\n",
              "      <td>0.0</td>\n",
              "      <td>0.0</td>\n",
              "      <td>...</td>\n",
              "      <td>0.500000</td>\n",
              "      <td>0.519608</td>\n",
              "      <td>0.500000</td>\n",
              "      <td>0.519608</td>\n",
              "      <td>1.000000</td>\n",
              "      <td>1.000000</td>\n",
              "      <td>0.933333</td>\n",
              "      <td>0.866667</td>\n",
              "      <td>0.933333</td>\n",
              "      <td>1.000000</td>\n",
              "    </tr>\n",
              "    <tr>\n",
              "      <th>1</th>\n",
              "      <td>0.00</td>\n",
              "      <td>0.000</td>\n",
              "      <td>0.0</td>\n",
              "      <td>0.00</td>\n",
              "      <td>0.25</td>\n",
              "      <td>0.00</td>\n",
              "      <td>0.00</td>\n",
              "      <td>0.0</td>\n",
              "      <td>0.0</td>\n",
              "      <td>0.0</td>\n",
              "      <td>...</td>\n",
              "      <td>0.490196</td>\n",
              "      <td>0.450980</td>\n",
              "      <td>0.519608</td>\n",
              "      <td>0.500000</td>\n",
              "      <td>0.866667</td>\n",
              "      <td>0.866667</td>\n",
              "      <td>1.000000</td>\n",
              "      <td>0.933333</td>\n",
              "      <td>1.000000</td>\n",
              "      <td>1.000000</td>\n",
              "    </tr>\n",
              "    <tr>\n",
              "      <th>2</th>\n",
              "      <td>0.00</td>\n",
              "      <td>0.000</td>\n",
              "      <td>0.0</td>\n",
              "      <td>0.00</td>\n",
              "      <td>0.00</td>\n",
              "      <td>0.25</td>\n",
              "      <td>0.00</td>\n",
              "      <td>0.0</td>\n",
              "      <td>0.0</td>\n",
              "      <td>0.0</td>\n",
              "      <td>...</td>\n",
              "      <td>0.343137</td>\n",
              "      <td>0.323529</td>\n",
              "      <td>0.362745</td>\n",
              "      <td>0.343137</td>\n",
              "      <td>0.800000</td>\n",
              "      <td>0.800000</td>\n",
              "      <td>0.800000</td>\n",
              "      <td>0.600000</td>\n",
              "      <td>0.933333</td>\n",
              "      <td>0.666667</td>\n",
              "    </tr>\n",
              "    <tr>\n",
              "      <th>3</th>\n",
              "      <td>0.00</td>\n",
              "      <td>0.000</td>\n",
              "      <td>0.0</td>\n",
              "      <td>0.00</td>\n",
              "      <td>0.00</td>\n",
              "      <td>0.00</td>\n",
              "      <td>0.00</td>\n",
              "      <td>0.0</td>\n",
              "      <td>0.0</td>\n",
              "      <td>0.0</td>\n",
              "      <td>...</td>\n",
              "      <td>0.421569</td>\n",
              "      <td>0.428105</td>\n",
              "      <td>0.434641</td>\n",
              "      <td>0.441176</td>\n",
              "      <td>0.733333</td>\n",
              "      <td>0.333333</td>\n",
              "      <td>0.866667</td>\n",
              "      <td>0.888889</td>\n",
              "      <td>0.911111</td>\n",
              "      <td>0.933333</td>\n",
              "    </tr>\n",
              "    <tr>\n",
              "      <th>4</th>\n",
              "      <td>0.00</td>\n",
              "      <td>0.000</td>\n",
              "      <td>0.0</td>\n",
              "      <td>0.00</td>\n",
              "      <td>0.00</td>\n",
              "      <td>0.00</td>\n",
              "      <td>0.00</td>\n",
              "      <td>0.0</td>\n",
              "      <td>0.0</td>\n",
              "      <td>0.0</td>\n",
              "      <td>...</td>\n",
              "      <td>0.343137</td>\n",
              "      <td>0.382353</td>\n",
              "      <td>0.362745</td>\n",
              "      <td>0.323529</td>\n",
              "      <td>1.000000</td>\n",
              "      <td>0.933333</td>\n",
              "      <td>0.933333</td>\n",
              "      <td>0.733333</td>\n",
              "      <td>0.800000</td>\n",
              "      <td>0.733333</td>\n",
              "    </tr>\n",
              "    <tr>\n",
              "      <th>...</th>\n",
              "      <td>...</td>\n",
              "      <td>...</td>\n",
              "      <td>...</td>\n",
              "      <td>...</td>\n",
              "      <td>...</td>\n",
              "      <td>...</td>\n",
              "      <td>...</td>\n",
              "      <td>...</td>\n",
              "      <td>...</td>\n",
              "      <td>...</td>\n",
              "      <td>...</td>\n",
              "      <td>...</td>\n",
              "      <td>...</td>\n",
              "      <td>...</td>\n",
              "      <td>...</td>\n",
              "      <td>...</td>\n",
              "      <td>...</td>\n",
              "      <td>...</td>\n",
              "      <td>...</td>\n",
              "      <td>...</td>\n",
              "      <td>...</td>\n",
              "    </tr>\n",
              "    <tr>\n",
              "      <th>149</th>\n",
              "      <td>0.00</td>\n",
              "      <td>0.000</td>\n",
              "      <td>0.0</td>\n",
              "      <td>0.00</td>\n",
              "      <td>0.00</td>\n",
              "      <td>0.00</td>\n",
              "      <td>0.00</td>\n",
              "      <td>0.0</td>\n",
              "      <td>0.0</td>\n",
              "      <td>0.0</td>\n",
              "      <td>...</td>\n",
              "      <td>0.450980</td>\n",
              "      <td>0.490196</td>\n",
              "      <td>0.509804</td>\n",
              "      <td>0.421569</td>\n",
              "      <td>1.000000</td>\n",
              "      <td>1.000000</td>\n",
              "      <td>1.000000</td>\n",
              "      <td>1.000000</td>\n",
              "      <td>0.933333</td>\n",
              "      <td>0.933333</td>\n",
              "    </tr>\n",
              "    <tr>\n",
              "      <th>150</th>\n",
              "      <td>0.00</td>\n",
              "      <td>0.000</td>\n",
              "      <td>0.0</td>\n",
              "      <td>0.00</td>\n",
              "      <td>0.00</td>\n",
              "      <td>0.00</td>\n",
              "      <td>0.00</td>\n",
              "      <td>0.0</td>\n",
              "      <td>0.0</td>\n",
              "      <td>0.0</td>\n",
              "      <td>...</td>\n",
              "      <td>0.460784</td>\n",
              "      <td>0.696078</td>\n",
              "      <td>0.480392</td>\n",
              "      <td>0.441176</td>\n",
              "      <td>0.933333</td>\n",
              "      <td>0.933333</td>\n",
              "      <td>0.933333</td>\n",
              "      <td>0.933333</td>\n",
              "      <td>0.933333</td>\n",
              "      <td>0.933333</td>\n",
              "    </tr>\n",
              "    <tr>\n",
              "      <th>151</th>\n",
              "      <td>0.00</td>\n",
              "      <td>0.000</td>\n",
              "      <td>0.0</td>\n",
              "      <td>0.00</td>\n",
              "      <td>0.00</td>\n",
              "      <td>0.00</td>\n",
              "      <td>0.00</td>\n",
              "      <td>0.0</td>\n",
              "      <td>0.0</td>\n",
              "      <td>0.0</td>\n",
              "      <td>...</td>\n",
              "      <td>0.323529</td>\n",
              "      <td>0.421569</td>\n",
              "      <td>0.372549</td>\n",
              "      <td>0.382353</td>\n",
              "      <td>0.800000</td>\n",
              "      <td>0.866667</td>\n",
              "      <td>0.933333</td>\n",
              "      <td>0.666667</td>\n",
              "      <td>0.733333</td>\n",
              "      <td>0.866667</td>\n",
              "    </tr>\n",
              "    <tr>\n",
              "      <th>152</th>\n",
              "      <td>0.00</td>\n",
              "      <td>0.000</td>\n",
              "      <td>0.0</td>\n",
              "      <td>0.00</td>\n",
              "      <td>0.00</td>\n",
              "      <td>0.00</td>\n",
              "      <td>0.00</td>\n",
              "      <td>0.0</td>\n",
              "      <td>0.0</td>\n",
              "      <td>0.0</td>\n",
              "      <td>...</td>\n",
              "      <td>0.490196</td>\n",
              "      <td>0.392157</td>\n",
              "      <td>0.401961</td>\n",
              "      <td>0.421569</td>\n",
              "      <td>0.866667</td>\n",
              "      <td>1.000000</td>\n",
              "      <td>0.733333</td>\n",
              "      <td>0.933333</td>\n",
              "      <td>0.733333</td>\n",
              "      <td>0.933333</td>\n",
              "    </tr>\n",
              "    <tr>\n",
              "      <th>153</th>\n",
              "      <td>0.00</td>\n",
              "      <td>0.000</td>\n",
              "      <td>0.0</td>\n",
              "      <td>0.00</td>\n",
              "      <td>0.00</td>\n",
              "      <td>0.00</td>\n",
              "      <td>0.00</td>\n",
              "      <td>0.0</td>\n",
              "      <td>0.0</td>\n",
              "      <td>0.0</td>\n",
              "      <td>...</td>\n",
              "      <td>0.401961</td>\n",
              "      <td>0.392157</td>\n",
              "      <td>0.401961</td>\n",
              "      <td>0.372549</td>\n",
              "      <td>0.800000</td>\n",
              "      <td>0.733333</td>\n",
              "      <td>0.866667</td>\n",
              "      <td>0.800000</td>\n",
              "      <td>0.933333</td>\n",
              "      <td>0.733333</td>\n",
              "    </tr>\n",
              "  </tbody>\n",
              "</table>\n",
              "<p>154 rows × 1595 columns</p>\n",
              "</div>\n",
              "      <button class=\"colab-df-convert\" onclick=\"convertToInteractive('df-7d415793-cb22-47a7-8159-ef7dba1a0b33')\"\n",
              "              title=\"Convert this dataframe to an interactive table.\"\n",
              "              style=\"display:none;\">\n",
              "        \n",
              "  <svg xmlns=\"http://www.w3.org/2000/svg\" height=\"24px\"viewBox=\"0 0 24 24\"\n",
              "       width=\"24px\">\n",
              "    <path d=\"M0 0h24v24H0V0z\" fill=\"none\"/>\n",
              "    <path d=\"M18.56 5.44l.94 2.06.94-2.06 2.06-.94-2.06-.94-.94-2.06-.94 2.06-2.06.94zm-11 1L8.5 8.5l.94-2.06 2.06-.94-2.06-.94L8.5 2.5l-.94 2.06-2.06.94zm10 10l.94 2.06.94-2.06 2.06-.94-2.06-.94-.94-2.06-.94 2.06-2.06.94z\"/><path d=\"M17.41 7.96l-1.37-1.37c-.4-.4-.92-.59-1.43-.59-.52 0-1.04.2-1.43.59L10.3 9.45l-7.72 7.72c-.78.78-.78 2.05 0 2.83L4 21.41c.39.39.9.59 1.41.59.51 0 1.02-.2 1.41-.59l7.78-7.78 2.81-2.81c.8-.78.8-2.07 0-2.86zM5.41 20L4 18.59l7.72-7.72 1.47 1.35L5.41 20z\"/>\n",
              "  </svg>\n",
              "      </button>\n",
              "      \n",
              "  <style>\n",
              "    .colab-df-container {\n",
              "      display:flex;\n",
              "      flex-wrap:wrap;\n",
              "      gap: 12px;\n",
              "    }\n",
              "\n",
              "    .colab-df-convert {\n",
              "      background-color: #E8F0FE;\n",
              "      border: none;\n",
              "      border-radius: 50%;\n",
              "      cursor: pointer;\n",
              "      display: none;\n",
              "      fill: #1967D2;\n",
              "      height: 32px;\n",
              "      padding: 0 0 0 0;\n",
              "      width: 32px;\n",
              "    }\n",
              "\n",
              "    .colab-df-convert:hover {\n",
              "      background-color: #E2EBFA;\n",
              "      box-shadow: 0px 1px 2px rgba(60, 64, 67, 0.3), 0px 1px 3px 1px rgba(60, 64, 67, 0.15);\n",
              "      fill: #174EA6;\n",
              "    }\n",
              "\n",
              "    [theme=dark] .colab-df-convert {\n",
              "      background-color: #3B4455;\n",
              "      fill: #D2E3FC;\n",
              "    }\n",
              "\n",
              "    [theme=dark] .colab-df-convert:hover {\n",
              "      background-color: #434B5C;\n",
              "      box-shadow: 0px 1px 3px 1px rgba(0, 0, 0, 0.15);\n",
              "      filter: drop-shadow(0px 1px 2px rgba(0, 0, 0, 0.3));\n",
              "      fill: #FFFFFF;\n",
              "    }\n",
              "  </style>\n",
              "\n",
              "      <script>\n",
              "        const buttonEl =\n",
              "          document.querySelector('#df-7d415793-cb22-47a7-8159-ef7dba1a0b33 button.colab-df-convert');\n",
              "        buttonEl.style.display =\n",
              "          google.colab.kernel.accessAllowed ? 'block' : 'none';\n",
              "\n",
              "        async function convertToInteractive(key) {\n",
              "          const element = document.querySelector('#df-7d415793-cb22-47a7-8159-ef7dba1a0b33');\n",
              "          const dataTable =\n",
              "            await google.colab.kernel.invokeFunction('convertToInteractive',\n",
              "                                                     [key], {});\n",
              "          if (!dataTable) return;\n",
              "\n",
              "          const docLinkHtml = 'Like what you see? Visit the ' +\n",
              "            '<a target=\"_blank\" href=https://colab.research.google.com/notebooks/data_table.ipynb>data table notebook</a>'\n",
              "            + ' to learn more about interactive tables.';\n",
              "          element.innerHTML = '';\n",
              "          dataTable['output_type'] = 'display_data';\n",
              "          await google.colab.output.renderOutput(dataTable, element);\n",
              "          const docLink = document.createElement('div');\n",
              "          docLink.innerHTML = docLinkHtml;\n",
              "          element.appendChild(docLink);\n",
              "        }\n",
              "      </script>\n",
              "    </div>\n",
              "  </div>\n",
              "  "
            ]
          },
          "metadata": {},
          "execution_count": 295
        }
      ],
      "source": [
        "ppmi_hc_x"
      ]
    },
    {
      "cell_type": "code",
      "execution_count": 296,
      "metadata": {
        "id": "kcAnd4Fi1bsG"
      },
      "outputs": [],
      "source": [
        "# np.random.seed(30)"
      ]
    },
    {
      "cell_type": "markdown",
      "source": [
        "#Split dataset for training, validation and testing purpose."
      ],
      "metadata": {
        "id": "3b9Oyla_YryX"
      }
    },
    {
      "cell_type": "code",
      "execution_count": 297,
      "metadata": {
        "id": "ELurMs7C2YaE"
      },
      "outputs": [],
      "source": [
        "from sklearn.model_selection import train_test_split\n",
        "ppmi_pd_x_train, ppmi_pd_x_test, ppmi_pd_y_train, ppmi_pd_y_test = train_test_split(ppmi_pd_x, ppmi_pd_y, test_size = 0.50,random_state=30)\n",
        "ppmi_hc_x_train, ppmi_hc_x_test, ppmi_hc_y_train, ppmi_hc_y_test = train_test_split(ppmi_hc_x, ppmi_hc_y, test_size = 0.50,random_state=30)\n",
        "gait_pd_x_train, gait_pd_x_test, gait_pd_y_train, gait_pd_y_test = train_test_split(gait_pd_x, gait_pd_y, test_size = 0.50,random_state=30)\n",
        "gait_hc_x_train, gait_hc_x_test, gait_hc_y_train, gait_hc_y_test = train_test_split(gait_hc_x, gait_hc_y, test_size = 0.50,random_state=30)"
      ]
    },
    {
      "cell_type": "code",
      "execution_count": 298,
      "metadata": {
        "id": "aZafa4kd20dU"
      },
      "outputs": [],
      "source": [
        "ppmi_pd_x_val, ppmi_pd_x_test, ppmi_pd_y_val, ppmi_pd_y_test = train_test_split(ppmi_pd_x_test, ppmi_pd_y_test, test_size = 0.50,random_state=30)\n",
        "ppmi_hc_x_val, ppmi_hc_x_test, ppmi_hc_y_val, ppmi_hc_y_test = train_test_split(ppmi_hc_x_test, ppmi_hc_y_test, test_size = 0.50,random_state=30)\n",
        "gait_pd_x_val, gait_pd_x_test, gait_pd_y_val, gait_pd_y_test = train_test_split(gait_pd_x_test, gait_pd_y_test, test_size = 0.50,random_state=30)\n",
        "gait_hc_x_val, gait_hc_x_test, gait_hc_y_val, gait_hc_y_test = train_test_split(gait_hc_x_test, gait_hc_y_test, test_size = 0.50,random_state=30)"
      ]
    },
    {
      "cell_type": "code",
      "execution_count": 299,
      "metadata": {
        "id": "H7LGu5RT23Kl",
        "colab": {
          "base_uri": "https://localhost:8080/"
        },
        "outputId": "eccbed46-150e-4578-bf29-d1193227ec5f"
      },
      "outputs": [
        {
          "output_type": "execute_result",
          "data": {
            "text/plain": [
              "pandas.core.series.Series"
            ]
          },
          "metadata": {},
          "execution_count": 299
        }
      ],
      "source": [
        "type(ppmi_pd_y_val)"
      ]
    },
    {
      "cell_type": "markdown",
      "source": [
        "#Cross Multiplying samples of intra class data of PPMI and Gait Datasets."
      ],
      "metadata": {
        "id": "Q0r4J_ukYvzg"
      }
    },
    {
      "cell_type": "code",
      "execution_count": 300,
      "metadata": {
        "id": "chpjydnl249E"
      },
      "outputs": [],
      "source": [
        "pd_x_train=gait_pd_x_train.merge(ppmi_pd_x_train, how='cross')\n",
        "pd_x_val=gait_pd_x_val.merge(ppmi_pd_x_val, how='cross')\n",
        "pd_x_test=gait_pd_x_test.merge(ppmi_pd_x_test, how='cross')\n",
        "hc_x_train=gait_hc_x_train.merge(ppmi_hc_x_train, how='cross')\n",
        "hc_x_val=gait_hc_x_val.merge(ppmi_hc_x_val, how='cross')\n",
        "hc_x_test=gait_hc_x_test.merge(ppmi_hc_x_test, how='cross')"
      ]
    },
    {
      "cell_type": "code",
      "execution_count": 301,
      "metadata": {
        "id": "poKCVA_g26wU"
      },
      "outputs": [],
      "source": [
        "pd_y_train=gait_pd_y_train.to_frame().merge(ppmi_pd_y_train.to_frame(), how='cross')\n",
        "pd_y_val=gait_pd_y_val.to_frame().merge(ppmi_pd_y_val.to_frame(), how='cross')\n",
        "pd_y_test=gait_pd_y_test.to_frame().merge(ppmi_pd_y_test.to_frame(), how='cross')\n",
        "hc_y_train=gait_hc_y_train.to_frame().merge(ppmi_hc_y_train.to_frame(), how='cross')\n",
        "hc_y_val=gait_hc_y_val.to_frame().merge(ppmi_hc_y_val.to_frame(), how='cross')\n",
        "hc_y_test=gait_hc_y_test.to_frame().merge(ppmi_hc_y_test.to_frame(), how='cross')"
      ]
    },
    {
      "cell_type": "markdown",
      "source": [
        "#Extract labels from both the datasets."
      ],
      "metadata": {
        "id": "hZ1gatfLtZaN"
      }
    },
    {
      "cell_type": "code",
      "execution_count": 302,
      "metadata": {
        "id": "Yluz2Ans28ls"
      },
      "outputs": [],
      "source": [
        "pd_y_train=pd_y_train.Label\n",
        "pd_y_val=pd_y_val.Label\n",
        "pd_y_test=pd_y_test.Label\n",
        "hc_y_train=hc_y_train.Label\n",
        "hc_y_val=hc_y_val.Label\n",
        "hc_y_test=hc_y_test.Label"
      ]
    },
    {
      "cell_type": "code",
      "execution_count": 303,
      "metadata": {
        "id": "3-eFAXjU2-Ys",
        "colab": {
          "base_uri": "https://localhost:8080/"
        },
        "outputId": "1b95a9ee-b8cf-45e8-ae5d-184933abf356"
      },
      "outputs": [
        {
          "output_type": "execute_result",
          "data": {
            "text/plain": [
              "(15729,)"
            ]
          },
          "metadata": {},
          "execution_count": 303
        }
      ],
      "source": [
        "pd_y_train.shape"
      ]
    },
    {
      "cell_type": "markdown",
      "source": [
        "#Concatenate data of both the classes to create train, validation and test set."
      ],
      "metadata": {
        "id": "QmFNMpxfarCA"
      }
    },
    {
      "cell_type": "code",
      "execution_count": 304,
      "metadata": {
        "id": "Y_SOTbv62_9s"
      },
      "outputs": [],
      "source": [
        "X_train = [pd_x_train, hc_x_train]\n",
        "X_train=pd.concat(X_train)\n",
        "X_test = [pd_x_test, hc_x_test]\n",
        "X_test=pd.concat(X_test)\n",
        "X_val = [pd_x_val, hc_x_val]\n",
        "X_val=pd.concat(X_val)"
      ]
    },
    {
      "cell_type": "code",
      "execution_count": 305,
      "metadata": {
        "id": "W2xx633q3CJM"
      },
      "outputs": [],
      "source": [
        "X_train = [pd_x_train, hc_x_train]\n",
        "X_train=pd.concat(X_train)\n",
        "X_test = [pd_x_test, hc_x_test]\n",
        "X_test=pd.concat(X_test)\n",
        "X_val = [pd_x_val, hc_x_val]\n",
        "X_val=pd.concat(X_val)"
      ]
    },
    {
      "cell_type": "markdown",
      "source": [
        "#Standardize those features :"
      ],
      "metadata": {
        "id": "bQMWZsRLa2Fz"
      }
    },
    {
      "cell_type": "code",
      "execution_count": 306,
      "metadata": {
        "id": "t7xtboYj3F_s"
      },
      "outputs": [],
      "source": [
        "from sklearn.preprocessing import StandardScaler\n",
        "sc = StandardScaler()\n",
        "X_train = sc.fit_transform(X_train)\n",
        "X_test = sc.fit_transform(X_test)\n",
        "X_val = sc.fit_transform(X_val)"
      ]
    },
    {
      "cell_type": "markdown",
      "source": [
        "#Concatenate data of both the classes to to create train, validation and test set."
      ],
      "metadata": {
        "id": "nPp2pqbFa6cI"
      }
    },
    {
      "cell_type": "code",
      "execution_count": 307,
      "metadata": {
        "id": "1DNSRiTS3Jzk"
      },
      "outputs": [],
      "source": [
        "y_train=pd.concat([pd_y_train,hc_y_train])\n",
        "y_test=pd.concat([pd_y_test,hc_y_test])\n",
        "y_val=pd.concat([pd_y_val,hc_y_val])"
      ]
    },
    {
      "cell_type": "code",
      "execution_count": 308,
      "metadata": {
        "id": "KFuuP8aXn0G1",
        "colab": {
          "base_uri": "https://localhost:8080/"
        },
        "outputId": "21984411-b461-4cae-e596-3e072b6640c2"
      },
      "outputs": [
        {
          "output_type": "execute_result",
          "data": {
            "text/plain": [
              "pandas.core.series.Series"
            ]
          },
          "metadata": {},
          "execution_count": 308
        }
      ],
      "source": [
        "type(y_test)"
      ]
    },
    {
      "cell_type": "code",
      "execution_count": 309,
      "metadata": {
        "id": "3DvekR7XhfGU"
      },
      "outputs": [],
      "source": [
        "train_data=[X_train,X_test,X_val]\n",
        "train_label=[y_train,y_test,y_val]"
      ]
    },
    {
      "cell_type": "code",
      "execution_count": 310,
      "metadata": {
        "id": "yJf_0WwChsxX",
        "colab": {
          "base_uri": "https://localhost:8080/"
        },
        "outputId": "4a5c3338-a007-41ca-ca50-258ca75011be"
      },
      "outputs": [
        {
          "output_type": "execute_result",
          "data": {
            "text/plain": [
              "(19271, 1721)"
            ]
          },
          "metadata": {},
          "execution_count": 310
        }
      ],
      "source": [
        "train_data[0].shape"
      ]
    },
    {
      "cell_type": "code",
      "execution_count": 311,
      "metadata": {
        "id": "T0eGBxsT3OiE",
        "colab": {
          "base_uri": "https://localhost:8080/"
        },
        "outputId": "d2afc73c-e9d4-4a2a-e623-3bd4a040f649"
      },
      "outputs": [
        {
          "output_type": "execute_result",
          "data": {
            "text/plain": [
              "(19271, 1721)"
            ]
          },
          "metadata": {},
          "execution_count": 311
        }
      ],
      "source": [
        "X_train.shape"
      ]
    },
    {
      "cell_type": "markdown",
      "source": [
        "#Function for calculating evaluation metrices (Accuracy, ROC AUC Score, Cohen Kappa Score, Confusion Matrix, Classification Report, Precision vs Recall Plot, ROC Curve) :"
      ],
      "metadata": {
        "id": "6jngVfMtbNc-"
      }
    },
    {
      "cell_type": "code",
      "execution_count": 312,
      "metadata": {
        "id": "zjWPJoH9sITS"
      },
      "outputs": [],
      "source": [
        "import seaborn\n",
        "import tensorflow as tf\n",
        "from sklearn.metrics import classification_report\n",
        "from sklearn.metrics import cohen_kappa_score\n",
        "from sklearn.metrics import roc_curve, auc, roc_auc_score\n",
        "from sklearn.metrics import precision_recall_curve\n",
        "from sklearn.metrics import accuracy_score\n",
        "from sklearn.preprocessing import LabelBinarizer\n",
        "def model_evaluate(model, target, testX, testy):\n",
        "  y_pred = model.predict(testX)\n",
        "  y_pred=np.round_(y_pred)\n",
        "  # y_pred = np.argmax(y_pred, axis=1)\n",
        "  # y_test = np.argmax(testy, axis=1)\n",
        "  y_test=testy\n",
        "  # Confusion matrix\n",
        "  print('Confusion Matrix')\n",
        "\n",
        "  cm = tf.math.confusion_matrix(labels = y_test, predictions = y_pred)\n",
        "  # Calculate accuracy\n",
        "  cm_np = cm.numpy()\n",
        "  conf_acc = accuracy_score(y_test, y_pred) * 100\n",
        "  print(\"Accuracy for Test Data = \", conf_acc)\n",
        "\n",
        "  plt.figure(figsize = (12,8))\n",
        "  seaborn.heatmap(cm, annot=True, fmt='d')\n",
        "  plt.title(\"Confusion Matrix for Test Data\")\n",
        "  plt.xlabel('Predicted')\n",
        "  plt.ylabel('Expected')\n",
        "  plt.show()\n",
        "\n",
        "  # Classification Report\n",
        "  print('\\nClassification Report')\n",
        "  print(classification_report(y_test, y_pred))\n",
        "\n",
        "  # Cohen Kappa Score\n",
        "  print('\\nCohen Kappa Score')\n",
        "  print(cohen_kappa_score(y_test, y_pred))\n",
        "\n",
        "  # Precision vs Recall Curve\n",
        "  print('\\nPrecision vs Recall Curve')\n",
        "  fig, c_ax = plt.subplots(1,1, figsize = (12, 8))\n",
        "\n",
        "  y_test = tf.keras.utils.to_categorical(y_test)\n",
        "  y_pred = tf.keras.utils.to_categorical(y_pred)\n",
        "  n_classes = 2\n",
        "\n",
        "  precision = dict()\n",
        "  recall = dict()\n",
        "\n",
        "  for i in range(n_classes):\n",
        "    precision[i], recall[i], _ = precision_recall_curve(y_test[:, i],\n",
        "                                                          y_pred[:, i])\n",
        "    plt.plot(recall[i], precision[i], lw=2, label='class {}'.format(i))\n",
        "      \n",
        "  plt.xlabel(\"recall\")\n",
        "  plt.ylabel(\"precision\")\n",
        "  plt.legend(loc=\"best\")\n",
        "  plt.title(\"Precision vs. Recall curve\")\n",
        "  plt.show()\n",
        "\n",
        "  # ROC Curve\n",
        "  print('\\nROC Curve')\n",
        "  average = 'macro'\n",
        "  fig, c_ax = plt.subplots(1,1, figsize = (12, 8))\n",
        "  for (idx, c_label) in enumerate(target):\n",
        "      fpr, tpr, thresholds = roc_curve(y_test[:,idx].astype(int), y_pred[:,idx])\n",
        "      c_ax.plot(fpr, tpr, label = '%s (AUC:%0.2f)'  % (c_label, auc(fpr, tpr)))\n",
        "  c_ax.plot(fpr, fpr, 'b-', label = 'Random Guessing')\n",
        "  print('ROC AUC score:', roc_auc_score(y_test, y_pred, average=average))\n",
        "\n",
        "  c_ax.legend()\n",
        "  c_ax.set_xlabel('False Positive Rate')\n",
        "  c_ax.set_ylabel('True Positive Rate')\n",
        "  plt.title('ROC Curve')\n",
        "  plt.show()"
      ]
    },
    {
      "cell_type": "code",
      "execution_count": 313,
      "metadata": {
        "id": "qEurG0_Yscqq"
      },
      "outputs": [],
      "source": [
        "y_val=y_val.reset_index(drop=True)"
      ]
    },
    {
      "cell_type": "code",
      "execution_count": 314,
      "metadata": {
        "id": "R6Xlc5SWNcus"
      },
      "outputs": [],
      "source": [
        "y_train=y_train.reset_index(drop=True)"
      ]
    },
    {
      "cell_type": "code",
      "execution_count": 315,
      "metadata": {
        "id": "F0eKQWmpsLnv"
      },
      "outputs": [],
      "source": [
        "# y_val"
      ]
    },
    {
      "cell_type": "markdown",
      "source": [
        "#Function to create Triplets (Anchor, Positive and Negative):"
      ],
      "metadata": {
        "id": "j0usXOK7bUHF"
      }
    },
    {
      "cell_type": "code",
      "execution_count": 316,
      "metadata": {
        "id": "89aZz5i4Q_Z0"
      },
      "outputs": [],
      "source": [
        "import random\n",
        "def create_batch(X,y,batch_size=256):\n",
        "    # x_anchors = np.zeros((batch_size, 1722))\n",
        "    # x_positives = np.zeros((batch_size, 1722))\n",
        "    # x_negatives = np.zeros((batch_size, 1722))\n",
        "    data=[]\n",
        "    x_anchors,x_positives,x_negatives,labels=[],[],[],[]\n",
        "    for i in range(len(X)):\n",
        "        # We need to find an anchor, a positive example and a negative example\n",
        "        random_index = random.randint(0, X.shape[0] - 1)\n",
        "        # print(random_index)\n",
        "        x_anchor = X[random_index]\n",
        "        yp = y[random_index]\n",
        "        \n",
        "        indices_for_pos = np.squeeze(np.where(y == yp))\n",
        "        indices_for_neg = np.squeeze(np.where(y != yp))\n",
        "        # print(indices_for_pos,indices_for_neg)\n",
        "        x_positive = X[indices_for_pos[random.randint(0, len(indices_for_pos) - 1)]]\n",
        "        x_negative = X[indices_for_neg[random.randint(0, len(indices_for_neg) - 1)]]\n",
        "        \n",
        "        x_anchors += [x_anchor]\n",
        "        x_positives += [x_positive]\n",
        "        x_negatives += [x_negative]\n",
        "        data+=[[x_anchor, x_positive, x_negative]]\n",
        "    return np.array(data)"
      ]
    },
    {
      "cell_type": "markdown",
      "source": [
        "#Generating training and validation triplet set."
      ],
      "metadata": {
        "id": "iuKvkedXbfAV"
      }
    },
    {
      "cell_type": "code",
      "execution_count": 317,
      "metadata": {
        "id": "nT5ZfyjhhDEi"
      },
      "outputs": [],
      "source": [
        "#Create Train and Validation dataset. \n",
        "training_pairs= create_batch(X_train,y_train)\n",
        "val_pairs= create_batch(X_val,y_val,batch_size=128)"
      ]
    },
    {
      "cell_type": "code",
      "execution_count": 318,
      "metadata": {
        "id": "B6sXomROtXw7",
        "colab": {
          "base_uri": "https://localhost:8080/"
        },
        "outputId": "ae2aa449-c279-4d47-83f2-040df0f4e82d"
      },
      "outputs": [
        {
          "output_type": "execute_result",
          "data": {
            "text/plain": [
              "1721"
            ]
          },
          "metadata": {},
          "execution_count": 318
        }
      ],
      "source": [
        "len(val_pairs[0][1])"
      ]
    },
    {
      "cell_type": "markdown",
      "source": [
        "#Function to calculate distance between vectors."
      ],
      "metadata": {
        "id": "y8Q_q-44boV_"
      }
    },
    {
      "cell_type": "code",
      "execution_count": 319,
      "metadata": {
        "id": "G3MMTQ_GSVXS"
      },
      "outputs": [],
      "source": [
        "import tensorflow as tf\n",
        "# import keras\n",
        "import keras.backend as K\n",
        "def euclidean_distance(vects):\n",
        "    x, y = vects\n",
        "    sum_square = K.sum(K.square(x - y), axis=1, keepdims=True)\n",
        "    return K.sqrt(K.maximum(sum_square, K.epsilon()))\n",
        "\n",
        "\n",
        "def eucl_dist_output_shape(shapes):\n",
        "    shape1, shape2 = shapes\n",
        "    return (shape1[0], 1)"
      ]
    },
    {
      "cell_type": "code",
      "execution_count": 320,
      "metadata": {
        "id": "rsJtR-FLtLEc",
        "colab": {
          "base_uri": "https://localhost:8080/"
        },
        "outputId": "ff6287c8-68aa-431d-a3fc-bc6c3a3419ca"
      },
      "outputs": [
        {
          "output_type": "execute_result",
          "data": {
            "text/plain": [
              "(214, 126)"
            ]
          },
          "metadata": {},
          "execution_count": 320
        }
      ],
      "source": [
        "gait_pd_x.shape"
      ]
    },
    {
      "cell_type": "markdown",
      "source": [
        "#Import another set of required libraries."
      ],
      "metadata": {
        "id": "SJmGlVAYbtof"
      }
    },
    {
      "cell_type": "code",
      "execution_count": 321,
      "metadata": {
        "id": "cUXN3H362c_g"
      },
      "outputs": [],
      "source": [
        "from keras.models import Model\n",
        "from keras.layers import Layer, Dropout, Conv2D, Dense, MaxPooling2D, Input, Flatten, Lambda\n",
        "import tensorflow as tf\n",
        "import keras\n",
        "from keras.models import Sequential"
      ]
    },
    {
      "cell_type": "code",
      "execution_count": 322,
      "metadata": {
        "id": "S9dDEfZ2X5eH"
      },
      "outputs": [],
      "source": [
        "from keras.optimizers import RMSprop"
      ]
    },
    {
      "cell_type": "markdown",
      "source": [
        "#Loading the saved Gait Baseline Model."
      ],
      "metadata": {
        "id": "Gk-P37eKZiwf"
      }
    },
    {
      "cell_type": "code",
      "execution_count": 323,
      "metadata": {
        "id": "gOm7bxANCgjT",
        "colab": {
          "base_uri": "https://localhost:8080/"
        },
        "outputId": "d5ced726-b46f-4615-9244-332e38e61361"
      },
      "outputs": [
        {
          "output_type": "stream",
          "name": "stdout",
          "text": [
            "Model: \"sequential_12\"\n",
            "_________________________________________________________________\n",
            " Layer (type)                Output Shape              Param #   \n",
            "=================================================================\n",
            " first_base_dense (Dense)    (None, 16)                2032      \n",
            "                                                                 \n",
            " first_dropout (Dropout)     (None, 16)                0         \n",
            "                                                                 \n",
            " second_base_dense (Dense)   (None, 8)                 136       \n",
            "                                                                 \n",
            " second_dropout (Dropout)    (None, 8)                 0         \n",
            "                                                                 \n",
            " third_base_dense (Dense)    (None, 4)                 36        \n",
            "                                                                 \n",
            " dense_11 (Dense)            (None, 1)                 5         \n",
            "                                                                 \n",
            "=================================================================\n",
            "Total params: 2,209\n",
            "Trainable params: 2,209\n",
            "Non-trainable params: 0\n",
            "_________________________________________________________________\n",
            "None\n"
          ]
        }
      ],
      "source": [
        "Gait_model = tf.keras.models.load_model(\"/content/drive/MyDrive/Parkinsons_Model/Siamese_Gait_Model2.h5\")\n",
        "print(Gait_model.summary())"
      ]
    },
    {
      "cell_type": "code",
      "execution_count": 324,
      "metadata": {
        "id": "1-1-bjl0RAC9"
      },
      "outputs": [],
      "source": [
        "def gait_base_branch():\n",
        "    # input = Input(shape=126, name=\"gait_base_input\")\n",
        "    # x = Flatten(name=\"flatten_input\")(input)\n",
        "    # x = Dense(16, activation='relu', name=\"first_base_dense\")(x)\n",
        "    # x = Dropout(0.3, name=\"first_dropout\")(x)\n",
        "    # x = Dense(8, activation='relu', name=\"second_base_dense\")(x)\n",
        "    # x = Dropout(0.3, name=\"second_dropout\")(x)\n",
        "    # x = Dense(4, activation='relu', name=\"third_base_dense\")(x)\n",
        "    Gait_model = tf.keras.models.load_model(\"/content/drive/MyDrive/Parkinsons_Model/Siamese_Gait_Model2.h5\")\n",
        "    new_model =Model(Gait_model.input, Gait_model.layers[-2].output)\n",
        "    #Returning a Model, with input and outputs, not just a group of layers. \n",
        "    return new_model"
      ]
    },
    {
      "cell_type": "markdown",
      "source": [
        "#Loading the saved PPMI Baseline Model. "
      ],
      "metadata": {
        "id": "0Ocqi3CaZ9B5"
      }
    },
    {
      "cell_type": "code",
      "execution_count": 325,
      "metadata": {
        "id": "OE5sYQ5LCoAl",
        "colab": {
          "base_uri": "https://localhost:8080/"
        },
        "outputId": "b6146058-530e-4c80-a049-2d97b91d08e9"
      },
      "outputs": [
        {
          "output_type": "stream",
          "name": "stdout",
          "text": [
            "Model: \"sequential_2\"\n",
            "_________________________________________________________________\n",
            " Layer (type)                Output Shape              Param #   \n",
            "=================================================================\n",
            " first_base_dense (Dense)    (None, 128)               204288    \n",
            "                                                                 \n",
            " first_dropout (Dropout)     (None, 128)               0         \n",
            "                                                                 \n",
            " second_base_dense (Dense)   (None, 64)                8256      \n",
            "                                                                 \n",
            " second_dropout (Dropout)    (None, 64)                0         \n",
            "                                                                 \n",
            " third_base_dense (Dense)    (None, 32)                2080      \n",
            "                                                                 \n",
            " dense_2 (Dense)             (None, 1)                 33        \n",
            "                                                                 \n",
            "=================================================================\n",
            "Total params: 214,657\n",
            "Trainable params: 214,657\n",
            "Non-trainable params: 0\n",
            "_________________________________________________________________\n",
            "None\n"
          ]
        }
      ],
      "source": [
        "PPMI_model = tf.keras.models.load_model(\"/content/drive/MyDrive/Parkinsons_Model/Siamese_PPMI_Model2.h5\")\n",
        "print(PPMI_model.summary())"
      ]
    },
    {
      "cell_type": "code",
      "execution_count": 326,
      "metadata": {
        "id": "ZFfU5VZsRZWy"
      },
      "outputs": [],
      "source": [
        "def ppmi_base_branch():\n",
        "    # input = Input(shape=1596, name=\"ppmi_base_input\")\n",
        "    # x = Flatten(name=\"flatten_input\")(input)\n",
        "    # x = Dense(128, activation='relu', name=\"first_base_dense\")(x)\n",
        "    # x = Dropout(0.5, name=\"first_dropout\")(x)\n",
        "    # x = Dense(64, activation='relu', name=\"second_base_dense\")(x)\n",
        "    # x = Dropout(0.5, name=\"second_dropout\")(x)\n",
        "    # x = Dense(32, activation='relu', name=\"third_base_dense\")(x)\n",
        "    PPMI_model = tf.keras.models.load_model(\"/content/drive/MyDrive/Parkinsons_Model/Siamese_PPMI_Model2.h5\")\n",
        "    new_model =Model(PPMI_model.input, PPMI_model.layers[-2].output)\n",
        "    #Returning a Model, with input and outputs, not just a group of layers. \n",
        "    return new_model"
      ]
    },
    {
      "cell_type": "markdown",
      "source": [
        "#Function to calculate accuracy."
      ],
      "metadata": {
        "id": "20MEzFuPaLAk"
      }
    },
    {
      "cell_type": "code",
      "execution_count": 327,
      "metadata": {
        "id": "PWRxUdySR2oQ"
      },
      "outputs": [],
      "source": [
        "def compute_accuracy(predictions, labels):\n",
        "  # return labels[predictions.ravel() < 0.5].mean()\n",
        "  pred = predictions.ravel() < 0.5\n",
        "  return np.mean(pred == labels)"
      ]
    },
    {
      "cell_type": "markdown",
      "source": [
        "#Common Network architecture."
      ],
      "metadata": {
        "id": "2AQluFjSaQGI"
      }
    },
    {
      "cell_type": "code",
      "execution_count": 328,
      "metadata": {
        "id": "BYGGTn_kRuqi"
      },
      "outputs": [],
      "source": [
        "def multi_modal_network(input_shape):\n",
        "   seq = Sequential()\n",
        "   seq.add(Dense(32, activation='relu', input_shape=(36,)))\n",
        "   seq.add(Dropout(0.5))\n",
        "  #  seq.add(Flatten())\n",
        "   seq.add(Dense(16, activation='relu'))\n",
        "   seq.add(Dropout(0.5))\n",
        "   seq.add(Dense(8, activation='relu'))\n",
        "   return seq"
      ]
    },
    {
      "cell_type": "code",
      "execution_count": 329,
      "metadata": {
        "id": "5sIAAfSTClIc"
      },
      "outputs": [],
      "source": [
        "class L1_dist(Layer):\n",
        "    def __init__(self, **kwargs):\n",
        "        super().__init__()\n",
        "\n",
        "    def call(self, input_embed, val_embed):\n",
        "        sum_square = tf.math.reduce_sum(tf.math.square(input_embed - val_embed), axis=1, keepdims=True)\n",
        "        return tf.math.sqrt(tf.math.maximum(sum_square, tf.keras.backend.epsilon()))"
      ]
    },
    {
      "cell_type": "markdown",
      "source": [
        "#Triplet Loss function."
      ],
      "metadata": {
        "id": "W2_XxO6pdPMf"
      }
    },
    {
      "cell_type": "code",
      "execution_count": 330,
      "metadata": {
        "id": "6e0GLqydWULx"
      },
      "outputs": [],
      "source": [
        "def triplet_loss(x, alpha = 0.2):\n",
        "    anchor,positive,negative = x[0],x[1],x[2]\n",
        "    # distance between the anchor and the positive\n",
        "    pos_dist = K.sum(K.square(anchor-positive),axis=1)\n",
        "    # # distance between the anchor and the negative\n",
        "    neg_dist = K.sum(K.square(anchor-negative),axis=1)\n",
        "    # # compute loss\n",
        "    basic_loss = pos_dist-neg_dist+alpha\n",
        "    loss = K.maximum(basic_loss,0.0)\n",
        "    return loss"
      ]
    },
    {
      "cell_type": "markdown",
      "source": [
        "#Siamese Model:"
      ],
      "metadata": {
        "id": "RPuYhLPSdTy7"
      }
    },
    {
      "cell_type": "code",
      "execution_count": 331,
      "metadata": {
        "id": "LNCcHKEUSUuG"
      },
      "outputs": [],
      "source": [
        "from keras.layers import Concatenate\n",
        "from keras.optimizers import Adam\n",
        "tf.random.set_seed(30)\n",
        "def siamese_model(input_dim_gait,input_dim_ppmi,input_concat_dim):\n",
        "  #  print(\"Hello1\")\n",
        "   gait_a = Input(shape=input_dim_gait)\n",
        "   gait_b = Input(shape=input_dim_gait)\n",
        "   gait_c = Input(shape=input_dim_gait)\n",
        "   ppmi_a = Input(shape=input_dim_ppmi)\n",
        "   ppmi_b = Input(shape=input_dim_ppmi)\n",
        "   ppmi_c = Input(shape=input_dim_ppmi)\n",
        "   gait_network=gait_base_branch()\n",
        "  #  gait_network = gait_feat_network(input_dim_gait)\n",
        "   \n",
        "   feat_gait_a = gait_network(gait_a)\n",
        "   feat_gait_b = gait_network(gait_b)\n",
        "   feat_gait_c = gait_network(gait_c)\n",
        "   ppmi_network= ppmi_base_branch()\n",
        "  #  ppmi_network = ppmi_feat_network(input_dim_ppmi)\n",
        "   feat_ppmi_a = ppmi_network(ppmi_a)\n",
        "   feat_ppmi_b = ppmi_network(ppmi_b)\n",
        "   feat_ppmi_c = ppmi_network(ppmi_c)\n",
        "  #  print([feat_gait_a,feat_ppmi_a])\n",
        "   concat_a = Concatenate(axis=1)([feat_gait_a, feat_ppmi_a])\n",
        "   \n",
        "   concat_b = Concatenate(axis=1)([feat_gait_b, feat_ppmi_b])\n",
        "   concat_c = Concatenate(axis=1)([feat_gait_c, feat_ppmi_c])\n",
        "   base_network = multi_modal_network(input_concat_dim)\n",
        "   feat_vecs_a = base_network(concat_a)\n",
        "   feat_vecs_b = base_network(concat_b)\n",
        "   feat_vecs_c = base_network(concat_c)\n",
        "\n",
        "   distance = Lambda(triplet_loss)([feat_vecs_a ,feat_vecs_b,feat_vecs_c])\n",
        "\n",
        "   model = Model(inputs=[gait_a, ppmi_a, gait_b,ppmi_b, gait_c,ppmi_c], outputs =  distance)\n",
        "    \n",
        "   return model,base_network"
      ]
    },
    {
      "cell_type": "code",
      "execution_count": 332,
      "metadata": {
        "id": "nNIktHyaX7Sw",
        "colab": {
          "base_uri": "https://localhost:8080/"
        },
        "outputId": "b454fdb4-2b62-4a2d-f99c-2bd299e10871"
      },
      "outputs": [
        {
          "output_type": "execute_result",
          "data": {
            "text/plain": [
              "(19271, 3, 1721)"
            ]
          },
          "metadata": {},
          "execution_count": 332
        }
      ],
      "source": [
        "training_pairs.shape"
      ]
    },
    {
      "cell_type": "markdown",
      "source": [
        "#Identity Loss function."
      ],
      "metadata": {
        "id": "lWTmXaRtdcMe"
      }
    },
    {
      "cell_type": "code",
      "execution_count": 333,
      "metadata": {
        "id": "GhSN8QrcShbk",
        "colab": {
          "base_uri": "https://localhost:8080/"
        },
        "outputId": "66371572-1de0-4ee9-8ebd-44928cc00999"
      },
      "outputs": [
        {
          "output_type": "stream",
          "name": "stdout",
          "text": [
            "Model: \"model_17\"\n",
            "__________________________________________________________________________________________________\n",
            " Layer (type)                   Output Shape         Param #     Connected to                     \n",
            "==================================================================================================\n",
            " input_19 (InputLayer)          [(None, 126)]        0           []                               \n",
            "                                                                                                  \n",
            " input_22 (InputLayer)          [(None, 1595)]       0           []                               \n",
            "                                                                                                  \n",
            " input_20 (InputLayer)          [(None, 126)]        0           []                               \n",
            "                                                                                                  \n",
            " input_23 (InputLayer)          [(None, 1595)]       0           []                               \n",
            "                                                                                                  \n",
            " input_21 (InputLayer)          [(None, 126)]        0           []                               \n",
            "                                                                                                  \n",
            " input_24 (InputLayer)          [(None, 1595)]       0           []                               \n",
            "                                                                                                  \n",
            " model_15 (Functional)          (None, 4)            2204        ['input_19[0][0]',               \n",
            "                                                                  'input_20[0][0]',               \n",
            "                                                                  'input_21[0][0]']               \n",
            "                                                                                                  \n",
            " model_16 (Functional)          (None, 32)           214624      ['input_22[0][0]',               \n",
            "                                                                  'input_23[0][0]',               \n",
            "                                                                  'input_24[0][0]']               \n",
            "                                                                                                  \n",
            " concatenate_58968 (Concatenate  (None, 36)          0           ['model_15[0][0]',               \n",
            " )                                                                'model_16[0][0]']               \n",
            "                                                                                                  \n",
            " concatenate_58969 (Concatenate  (None, 36)          0           ['model_15[1][0]',               \n",
            " )                                                                'model_16[1][0]']               \n",
            "                                                                                                  \n",
            " concatenate_58970 (Concatenate  (None, 36)          0           ['model_15[2][0]',               \n",
            " )                                                                'model_16[2][0]']               \n",
            "                                                                                                  \n",
            " sequential_3 (Sequential)      (None, 8)            1848        ['concatenate_58968[0][0]',      \n",
            "                                                                  'concatenate_58969[0][0]',      \n",
            "                                                                  'concatenate_58970[0][0]']      \n",
            "                                                                                                  \n",
            " lambda_3453 (Lambda)           (None,)              0           ['sequential_3[0][0]',           \n",
            "                                                                  'sequential_3[1][0]',           \n",
            "                                                                  'sequential_3[2][0]']           \n",
            "                                                                                                  \n",
            "==================================================================================================\n",
            "Total params: 218,676\n",
            "Trainable params: 218,676\n",
            "Non-trainable params: 0\n",
            "__________________________________________________________________________________________________\n"
          ]
        }
      ],
      "source": [
        "def identity_loss(y_true, y_pred):\n",
        "    return K.mean(y_pred)\n",
        "from keras.optimizers import Adam\n",
        "input_dim_gait = (126,)\n",
        "input_dim_ppmi = (1595,)\n",
        "input_concat_dim=(1721,)\n",
        "labels=np.ones(training_pairs.shape[0])\n",
        "val_labels=np.ones(val_pairs.shape[0])\n",
        "model_siamese2,base_network = siamese_model(input_dim_gait,input_dim_ppmi,input_concat_dim)\n",
        "opt2=Adam(0.001)\n",
        "opt1=RMSprop(learning_rate=0.0001)\n",
        "model_siamese2.compile(loss=identity_loss,optimizer=opt1)\n",
        "model_siamese2.summary()\n"
      ]
    },
    {
      "cell_type": "markdown",
      "source": [
        "#Siamese Model overview."
      ],
      "metadata": {
        "id": "3PO7ThU2dhZi"
      }
    },
    {
      "cell_type": "code",
      "execution_count": 334,
      "metadata": {
        "id": "3gjWjfhzSkQO",
        "colab": {
          "base_uri": "https://localhost:8080/",
          "height": 345
        },
        "outputId": "5e269b40-f159-428e-f194-58df1de00835"
      },
      "outputs": [
        {
          "output_type": "execute_result",
          "data": {
            "image/png": "[encoded data removed]",
            "text/plain": [
              "<IPython.core.display.Image object>"
            ]
          },
          "metadata": {},
          "execution_count": 334
        }
      ],
      "source": [
        "from keras.utils import plot_model\n",
        "tf.keras.utils.plot_model(model_siamese2, to_file='siamese_model2.png', show_shapes=True)"
      ]
    },
    {
      "cell_type": "markdown",
      "source": [
        "#Model Training:"
      ],
      "metadata": {
        "id": "iCYOxKSidlsi"
      }
    },
    {
      "cell_type": "code",
      "execution_count": 335,
      "metadata": {
        "colab": {
          "base_uri": "https://localhost:8080/"
        },
        "id": "SSFpRZlfSmcf",
        "outputId": "63bdb085-5d41-44d5-fb42-ba2c67208b78"
      },
      "outputs": [
        {
          "output_type": "stream",
          "name": "stdout",
          "text": [
            "Epoch 1/30\n",
            "151/151 [==============================] - 6s 21ms/step - loss: 39.0990 - val_loss: 0.0091\n",
            "Epoch 2/30\n",
            "151/151 [==============================] - 4s 24ms/step - loss: 6.3443 - val_loss: 0.0741\n",
            "Epoch 3/30\n",
            "151/151 [==============================] - 4s 27ms/step - loss: 1.6251 - val_loss: 0.1760\n",
            "Epoch 4/30\n",
            "151/151 [==============================] - 3s 19ms/step - loss: 0.6404 - val_loss: 0.1962\n",
            "Epoch 5/30\n",
            "151/151 [==============================] - 3s 19ms/step - loss: 0.3261 - val_loss: 0.1995\n",
            "Epoch 6/30\n",
            "151/151 [==============================] - 3s 19ms/step - loss: 0.2339 - val_loss: 0.1997\n",
            "Epoch 7/30\n",
            "151/151 [==============================] - 5s 32ms/step - loss: 0.2030 - val_loss: 0.1997\n",
            "Epoch 8/30\n",
            "151/151 [==============================] - 3s 19ms/step - loss: 0.1902 - val_loss: 0.1997\n",
            "Epoch 9/30\n",
            "151/151 [==============================] - 3s 19ms/step - loss: 0.1833 - val_loss: 0.1993\n",
            "Epoch 10/30\n",
            "151/151 [==============================] - 3s 19ms/step - loss: 0.1748 - val_loss: 0.1987\n",
            "Epoch 11/30\n",
            "151/151 [==============================] - 4s 27ms/step - loss: 0.1715 - val_loss: 0.1977\n",
            "Epoch 12/30\n",
            "151/151 [==============================] - 3s 23ms/step - loss: 0.1649 - val_loss: 0.1962\n",
            "Epoch 13/30\n",
            "151/151 [==============================] - 3s 18ms/step - loss: 0.1577 - val_loss: 0.1952\n",
            "Epoch 14/30\n",
            "151/151 [==============================] - 3s 18ms/step - loss: 0.1504 - val_loss: 0.1928\n",
            "Epoch 15/30\n",
            "151/151 [==============================] - 3s 18ms/step - loss: 0.1410 - val_loss: 0.1900\n",
            "Epoch 16/30\n",
            "151/151 [==============================] - 5s 33ms/step - loss: 0.1389 - val_loss: 0.1869\n",
            "Epoch 17/30\n",
            "151/151 [==============================] - 3s 18ms/step - loss: 0.1343 - val_loss: 0.1805\n",
            "Epoch 18/30\n",
            "151/151 [==============================] - 3s 19ms/step - loss: 0.1275 - val_loss: 0.1773\n",
            "Epoch 19/30\n",
            "151/151 [==============================] - 3s 18ms/step - loss: 0.1192 - val_loss: 0.1726\n",
            "Epoch 20/30\n",
            "151/151 [==============================] - 4s 25ms/step - loss: 0.1161 - val_loss: 0.1718\n",
            "Epoch 21/30\n",
            "151/151 [==============================] - 4s 24ms/step - loss: 0.1049 - val_loss: 0.1567\n",
            "Epoch 22/30\n",
            "151/151 [==============================] - 3s 18ms/step - loss: 0.1028 - val_loss: 0.1536\n",
            "Epoch 23/30\n",
            "151/151 [==============================] - 3s 19ms/step - loss: 0.0983 - val_loss: 0.1390\n",
            "Epoch 24/30\n",
            "151/151 [==============================] - 3s 18ms/step - loss: 0.0920 - val_loss: 0.1406\n",
            "Epoch 25/30\n",
            "151/151 [==============================] - 5s 32ms/step - loss: 0.0879 - val_loss: 0.1361\n",
            "Epoch 26/30\n",
            "151/151 [==============================] - 3s 18ms/step - loss: 0.0848 - val_loss: 0.1352\n",
            "Epoch 27/30\n",
            "151/151 [==============================] - 3s 19ms/step - loss: 0.0810 - val_loss: 0.1196\n",
            "Epoch 28/30\n",
            "151/151 [==============================] - 3s 18ms/step - loss: 0.0790 - val_loss: 0.1175\n",
            "Epoch 29/30\n",
            "151/151 [==============================] - 3s 22ms/step - loss: 0.0759 - val_loss: 0.1119\n",
            "Epoch 30/30\n",
            "151/151 [==============================] - 4s 28ms/step - loss: 0.0716 - val_loss: 0.1084\n"
          ]
        }
      ],
      "source": [
        "from keras.callbacks import EarlyStopping\n",
        "es = EarlyStopping(monitor='val_loss', mode='min', verbose=1)\n",
        "history=model_siamese2.fit([training_pairs[:,0,:126],training_pairs[:,0,126:],training_pairs[:,1,:126],training_pairs[:,1,126:], training_pairs[:,2,:126],training_pairs[:,2,126:]],labels, validation_data = ([val_pairs[:, 0,:126],val_pairs[:, 0,126:],val_pairs[:, 1,:126], val_pairs[:, 1,126:], val_pairs[:, 2,:126], val_pairs[:, 2,126:]], val_labels),batch_size=128, verbose=1, epochs=30)"
      ]
    },
    {
      "cell_type": "code",
      "execution_count": 336,
      "metadata": {
        "id": "XoEAh1sLUYJ2"
      },
      "outputs": [],
      "source": [
        "def compute_accuracy(y_true, y_pred):\n",
        "    pred = y_pred.ravel() < 0.5\n",
        "    return np.mean(pred == y_true)"
      ]
    },
    {
      "cell_type": "code",
      "execution_count": 337,
      "metadata": {
        "id": "S2xyuPkgU8b6"
      },
      "outputs": [],
      "source": [
        "def plot_graphs(history, string):\n",
        "  plt.plot(history.history[string])\n",
        "  plt.plot(history.history['val_'+string])\n",
        "  plt.xlabel(\"Epochs\")\n",
        "  plt.ylabel(string)\n",
        "  plt.legend([string, 'val_'+string])\n",
        "  plt.title('Training and Validation ' + string)\n",
        "  plt.show()"
      ]
    },
    {
      "cell_type": "markdown",
      "source": [
        "#Loss and Accuracy Plot for training and validation data."
      ],
      "metadata": {
        "id": "scs1iVckdtuE"
      }
    },
    {
      "cell_type": "code",
      "execution_count": 338,
      "metadata": {
        "colab": {
          "base_uri": "https://localhost:8080/",
          "height": 472
        },
        "id": "e0xvpp9IUi6W",
        "outputId": "41d65f04-eae8-4778-f2ab-33a38eec792f"
      },
      "outputs": [
        {
          "output_type": "display_data",
          "data": {
            "text/plain": [
              "<Figure size 640x480 with 1 Axes>"
            ],
            "image/png": "[encoded data removed]"
          },
          "metadata": {}
        }
      ],
      "source": [
        "# plot_graphs(history, \"accuracy\")\n",
        "plot_graphs(history, \"loss\")"
      ]
    },
    {
      "cell_type": "code",
      "execution_count": 339,
      "metadata": {
        "id": "5GiPXa2uY45z"
      },
      "outputs": [],
      "source": [
        "# model_siamese2.save(\"/content/drive/MyDrive/Parkinsons_Model/triplet_loss_model01.tf\")"
      ]
    },
    {
      "cell_type": "code",
      "execution_count": 340,
      "metadata": {
        "id": "ip1B6912kvcj"
      },
      "outputs": [],
      "source": [
        "# triplet_model = tf.keras.models.load_model(\"/content/drive/MyDrive/Parkinsons_Model/triplet_loss_model01.tf\",custom_objects={'identity_loss':                   \n",
        "# identity_loss})"
      ]
    },
    {
      "cell_type": "code",
      "execution_count": 341,
      "metadata": {
        "id": "4doPerXplPJx"
      },
      "outputs": [],
      "source": [
        "# triplet_model.summary()"
      ]
    },
    {
      "cell_type": "code",
      "execution_count": 342,
      "metadata": {
        "id": "PCq7kldRqKMa"
      },
      "outputs": [],
      "source": [
        "# embedding=model_siamese2.embedding()"
      ]
    },
    {
      "cell_type": "code",
      "execution_count": 343,
      "metadata": {
        "id": "h2UlZbL3qNka"
      },
      "outputs": [],
      "source": [
        "embedding=base_network"
      ]
    },
    {
      "cell_type": "code",
      "execution_count": 344,
      "metadata": {
        "id": "jCMBNsgUQEhq"
      },
      "outputs": [],
      "source": [
        "y_test_new=y_test.reset_index(drop=True)"
      ]
    },
    {
      "cell_type": "code",
      "execution_count": 345,
      "metadata": {
        "colab": {
          "base_uri": "https://localhost:8080/"
        },
        "id": "zEvnI23drIG5",
        "outputId": "88fc3dd7-d44b-444c-a10e-3498b5280817"
      },
      "outputs": [
        {
          "output_type": "execute_result",
          "data": {
            "text/plain": [
              "pandas.core.series.Series"
            ]
          },
          "metadata": {},
          "execution_count": 345
        }
      ],
      "source": [
        "type(y_test_new)"
      ]
    },
    {
      "cell_type": "markdown",
      "source": [
        "#Creating Triplet set on Test set data:"
      ],
      "metadata": {
        "id": "LXYX8EjCdyCW"
      }
    },
    {
      "cell_type": "code",
      "execution_count": 346,
      "metadata": {
        "id": "MPuYxP5sPlVQ"
      },
      "outputs": [],
      "source": [
        "test_pairs = create_batch(X_test,y_test_new)"
      ]
    },
    {
      "cell_type": "code",
      "execution_count": 347,
      "metadata": {
        "id": "DEebCtNuQWei"
      },
      "outputs": [],
      "source": [
        "anchor,positive,negative=test_pairs[:,0],test_pairs[:,1],test_pairs[:,2]"
      ]
    },
    {
      "cell_type": "markdown",
      "source": [
        "#Embeddings on test set triplets."
      ],
      "metadata": {
        "id": "jF-I5pRneEgG"
      }
    },
    {
      "cell_type": "code",
      "execution_count": 348,
      "metadata": {
        "id": "jECtOXXzVH1l"
      },
      "outputs": [],
      "source": [
        "gait_network=gait_base_branch()\n",
        "ppmi_network=ppmi_base_branch()\n",
        "concat_anchor= Concatenate(axis=1)([gait_network(test_pairs[:,0,:126]),ppmi_network(test_pairs[:,0,126:])])\n",
        "concat_positive = Concatenate(axis=1)([gait_network(test_pairs[:,1,:126]),ppmi_network(test_pairs[:,1,126:])])\n",
        "concat_negative = Concatenate(axis=1)([gait_network(test_pairs[:,2,:126]),ppmi_network(test_pairs[:,2,126:])])"
      ]
    },
    {
      "cell_type": "code",
      "execution_count": 349,
      "metadata": {
        "id": "LK3Wdj8IPdaZ"
      },
      "outputs": [],
      "source": [
        "anchor_embedding, positive_embedding, negative_embedding = (\n",
        "    embedding(concat_anchor),\n",
        "    embedding(concat_positive),\n",
        "    embedding(concat_negative),\n",
        ")"
      ]
    },
    {
      "cell_type": "code",
      "execution_count": 350,
      "metadata": {
        "id": "IoIEMQ57WDGn"
      },
      "outputs": [],
      "source": [
        "from keras import metrics"
      ]
    },
    {
      "cell_type": "markdown",
      "source": [
        "#Check for Similarity metric between anchor, positive and negative."
      ],
      "metadata": {
        "id": "EcQnrp93eOg8"
      }
    },
    {
      "cell_type": "code",
      "execution_count": 351,
      "metadata": {
        "colab": {
          "base_uri": "https://localhost:8080/"
        },
        "id": "7wQBMWASV4IG",
        "outputId": "57f11c98-b3d1-47fe-b1da-987a427477c3"
      },
      "outputs": [
        {
          "output_type": "stream",
          "name": "stdout",
          "text": [
            "Positive similarity: 0.9945724\n"
          ]
        }
      ],
      "source": [
        "cosine_similarity = metrics.CosineSimilarity()\n",
        "positive_similarity = cosine_similarity(anchor_embedding, positive_embedding)\n",
        "\n",
        "print(\"Positive similarity:\", positive_similarity.numpy())\n",
        "\n"
      ]
    },
    {
      "cell_type": "code",
      "execution_count": 352,
      "metadata": {
        "colab": {
          "base_uri": "https://localhost:8080/"
        },
        "id": "2sR9k-j4XCpU",
        "outputId": "075573f5-0cbc-49b0-fbcd-5a5ca8b2c0c5"
      },
      "outputs": [
        {
          "output_type": "stream",
          "name": "stdout",
          "text": [
            "Negative similarity 0.9936636\n"
          ]
        }
      ],
      "source": [
        "cosine_similarity = metrics.CosineSimilarity()\n",
        "negative_similarity = cosine_similarity(anchor_embedding, negative_embedding)\n",
        "\n",
        "print(\"Negative similarity\", negative_similarity.numpy())"
      ]
    },
    {
      "cell_type": "code",
      "execution_count": 353,
      "metadata": {
        "colab": {
          "base_uri": "https://localhost:8080/"
        },
        "id": "hdnM4HDpXGle",
        "outputId": "7424bb3e-d0e6-46cf-dbd5-b73e197a7972"
      },
      "outputs": [
        {
          "output_type": "execute_result",
          "data": {
            "text/plain": [
              "1.0"
            ]
          },
          "metadata": {},
          "execution_count": 353
        }
      ],
      "source": [
        "cosine_similarity = metrics.CosineSimilarity()\n",
        "\n",
        "same = cosine_similarity(anchor_embedding, anchor_embedding)\n",
        "same.numpy()"
      ]
    },
    {
      "cell_type": "markdown",
      "source": [
        "#Function for checking inter embedding distance."
      ],
      "metadata": {
        "id": "xhRI-6GCeo3E"
      }
    },
    {
      "cell_type": "code",
      "execution_count": 354,
      "metadata": {
        "id": "UJopixLKeagW"
      },
      "outputs": [],
      "source": [
        "# multi_model.predict(X_test_multi)\n",
        "import tensorflow as tf\n",
        "def postitve_negative(x, alpha = 0.2):\n",
        "    anchor,positive,negative = x[0],x[1],x[2]\n",
        "    pos_dist = tf.reduce_sum(tf.square(anchor-positive),-1)\n",
        "    neg_dist = tf.reduce_sum(tf.square(anchor-negative),-1)\n",
        "    return pos_dist,neg_dist"
      ]
    },
    {
      "cell_type": "code",
      "source": [
        "def divide_chunks(l, n):\n",
        "    # looping till length l\n",
        "    for i in range(0, len(l), n):\n",
        "        yield l[i:i + n]"
      ],
      "metadata": {
        "id": "U9X2_kjYlRUk"
      },
      "execution_count": 355,
      "outputs": []
    },
    {
      "cell_type": "markdown",
      "source": [
        "#Function for calculating evaluation metrices (Accuracy, ROC AUC Score, Cohen Kappa Score, Confusion Matrix, Classification Report, Precision vs Recall Plot, ROC Curve) :"
      ],
      "metadata": {
        "id": "j4I3iLbce35E"
      }
    },
    {
      "cell_type": "code",
      "source": [
        "def test_model_evaluate(target, predy, testy):\n",
        "  y_pred = predy.to_numpy()\n",
        "  \n",
        "  # y_pred=y_pred.ravel() > 0.5\n",
        "  # print(collections.Counter(y_pred))\n",
        "  # y_pred = np.argmax(y_pred, axis=1)\n",
        "  # print(np.shape(y_pred),testy.shape)\n",
        "  y_test = testy\n",
        "\n",
        "  # Confusion matrix\n",
        "  print('Confusion Matrix')\n",
        "\n",
        "  cm = tf.math.confusion_matrix(labels = y_test, predictions = y_pred)\n",
        "  # Calculate accuracy\n",
        "  cm_np = cm.numpy()\n",
        "  conf_acc = accuracy_score(y_test, y_pred) * 100\n",
        "  print(\"Accuracy for Test Data = \", conf_acc)\n",
        "\n",
        "  plt.figure(figsize = (6,4))\n",
        "  seaborn.heatmap(cm, annot=True, fmt='d')\n",
        "  plt.title(\"Confusion Matrix for Test Data\")\n",
        "  plt.xlabel('Predicted')\n",
        "  plt.ylabel('Expected')\n",
        "  plt.show()\n",
        "\n",
        "  # Classification Report\n",
        "  print('\\nClassification Report')\n",
        "  print(classification_report(y_test, y_pred))\n",
        "\n",
        "  # Cohen Kappa Score\n",
        "  print('\\nCohen Kappa Score')\n",
        "  print(cohen_kappa_score(y_test, y_pred))\n",
        "\n",
        "  # Precision vs Recall Curve\n",
        "  print('\\nPrecision vs Recall Curve')\n",
        "  fig, c_ax = plt.subplots(1,1, figsize = (6, 4))\n",
        "\n",
        "  y_test = tf.keras.utils.to_categorical(y_test)\n",
        "  y_pred = tf.keras.utils.to_categorical(y_pred)\n",
        "  n_classes = 2\n",
        "\n",
        "  precision = dict()\n",
        "  recall = dict()\n",
        "\n",
        "  for i in range(n_classes):\n",
        "    precision[i], recall[i], _ = precision_recall_curve(y_test[:, i],\n",
        "                                                          y_pred[:, i])\n",
        "    plt.plot(recall[i], precision[i], lw=2, label='class {}'.format(i))\n",
        "      \n",
        "  plt.xlabel(\"recall\")\n",
        "  plt.ylabel(\"precision\")\n",
        "  plt.legend(loc=\"best\")\n",
        "  plt.title(\"Precision vs. Recall curve\")\n",
        "  plt.show()\n",
        "\n",
        "  # ROC Curve\n",
        "  print('\\nROC Curve')\n",
        "  average = 'macro'\n",
        "  fig, c_ax = plt.subplots(1,1, figsize = (6, 4))\n",
        "  for (idx, c_label) in enumerate(target):\n",
        "      fpr, tpr, thresholds = roc_curve(y_test[:,idx].astype(int), y_pred[:,idx])\n",
        "      c_ax.plot(fpr, tpr, label = '%s (AUC:%0.2f)'  % (c_label, auc(fpr, tpr)))\n",
        "  c_ax.plot(fpr, fpr, 'b-', label = 'Random Guessing')\n",
        "  print('ROC AUC score:', roc_auc_score(y_test, y_pred, average=average))\n",
        "\n",
        "  c_ax.legend()\n",
        "  c_ax.set_xlabel('False Positive Rate')\n",
        "  c_ax.set_ylabel('True Positive Rate')\n",
        "  plt.title('ROC Curve')\n",
        "  plt.show()"
      ],
      "metadata": {
        "id": "JrDp5W1pxxD9"
      },
      "execution_count": 356,
      "outputs": []
    },
    {
      "cell_type": "markdown",
      "source": [
        "#Saving Trained Siamese Model."
      ],
      "metadata": {
        "id": "08vGPIE4e8ZT"
      }
    },
    {
      "cell_type": "code",
      "source": [
        "# embedding.save(\"/content/drive/MyDrive/Parkinsons_Model/Siamese_multi_Model_gait56.h5\")"
      ],
      "metadata": {
        "id": "qsgtc3FF03dy"
      },
      "execution_count": 385,
      "outputs": []
    },
    {
      "cell_type": "markdown",
      "source": [
        "#Loading Trained Siamese Model."
      ],
      "metadata": {
        "id": "V-nGL1QnfBOX"
      }
    },
    {
      "cell_type": "code",
      "source": [
        "embedding1=tf.keras.models.load_model(\"/content/drive/MyDrive/Parkinsons_Model/Siamese_Multi_Model68.h5\",compile=False)"
      ],
      "metadata": {
        "id": "-21N96UuCDmJ"
      },
      "execution_count": 386,
      "outputs": []
    },
    {
      "cell_type": "code",
      "source": [
        "embedding=embedding1"
      ],
      "metadata": {
        "id": "19X8HOSLCJ-g"
      },
      "execution_count": 387,
      "outputs": []
    },
    {
      "cell_type": "markdown",
      "metadata": {
        "id": "GcFv0hsRs0Lm"
      },
      "source": [
        "#Gait individual data test:"
      ]
    },
    {
      "cell_type": "code",
      "source": [
        "np.random.seed(30)"
      ],
      "metadata": {
        "id": "VNDMd8LBHQEI"
      },
      "execution_count": 388,
      "outputs": []
    },
    {
      "cell_type": "code",
      "execution_count": 389,
      "metadata": {
        "id": "07SMbKVMs0Ln"
      },
      "outputs": [],
      "source": [
        "gait_data=pd.concat([gait_pd_x_test])"
      ]
    },
    {
      "cell_type": "markdown",
      "source": [
        "#Creating sample test sample against each Gait positive test set data."
      ],
      "metadata": {
        "id": "CikwNQvVfIKA"
      }
    },
    {
      "cell_type": "code",
      "execution_count": 390,
      "metadata": {
        "id": "myMV7Emls0Lp"
      },
      "outputs": [],
      "source": [
        "k=5\n",
        "res_pred_gait=[]\n",
        "for i in range(gait_data.shape[0]):\n",
        "  positive = ppmi_pd_x_train.sample(n=k,replace=True,random_state=12)\n",
        "  negative = ppmi_hc_x_train.sample(n=k,replace=True,random_state=12)\n",
        "  z=[positive,negative]\n",
        "  ty=pd.concat(z)\n",
        "  da=gait_data.iloc[[i]].merge(ty,how='cross')\n",
        "  res_pred_gait.append(da)\n",
        "res_pred_gait=np.concatenate(res_pred_gait,axis=0)"
      ]
    },
    {
      "cell_type": "markdown",
      "source": [
        "#Evaluating distance of anchor test sample embedding with positive and nageative embeddings of combined Gait and PPMI train set sample. "
      ],
      "metadata": {
        "id": "SJ7e6vBrfUfo"
      }
    },
    {
      "cell_type": "code",
      "source": [
        "res_gait_simi=[]\n",
        "x_anchors,x_positives,x_negatives,labels=[],[],[],[]\n",
        "for i in range(len(res_pred_gait)):\n",
        "    # We need to find an anchor, a positive example and a negative example\n",
        "    positive = pd_x_train.sample(n=10,replace=True,random_state=12)\n",
        "    negative = hc_x_train.sample(n=10,replace=True,random_state=12)\n",
        "    x_anchor = res_pred_gait[i]\n",
        "    data=[]\n",
        "    sk=[]\n",
        "    for i in range(10):\n",
        "      data=[[x_anchor, positive.iloc[i].values, negative.iloc[i].values]]\n",
        "      data=np.array(data)\n",
        "      concat_anchor= Concatenate(axis=1)([gait_network(data[:,0,:126]),ppmi_network(data[:,0,126:])])\n",
        "      concat_positive = Concatenate(axis=1)([gait_network(data[:,1,:126]),ppmi_network(data[:,1,126:])])\n",
        "      concat_negative = Concatenate(axis=1)([gait_network(data[:,2,:126]),ppmi_network(data[:,2,126:])])\n",
        "\n",
        "      anchor_embedding, positive_embedding, negative_embedding = (\n",
        "          embedding(concat_anchor),\n",
        "          embedding(concat_positive),\n",
        "          embedding(concat_negative),\n",
        "      )\n",
        "      positive_similarity = cosine_similarity(anchor_embedding, positive_embedding)\n",
        "      negative_similarity = cosine_similarity(anchor_embedding, negative_embedding)\n",
        "      same = cosine_similarity(anchor_embedding, anchor_embedding)\n",
        "      sk.append([positive_similarity,negative_similarity,same])\n",
        "    res_gait_simi.append(sk)"
      ],
      "metadata": {
        "id": "PqfTLGD8cr02"
      },
      "execution_count": 391,
      "outputs": []
    },
    {
      "cell_type": "markdown",
      "source": [
        "#Cheking lebel against each test set."
      ],
      "metadata": {
        "id": "DirGl892f1Po"
      }
    },
    {
      "cell_type": "code",
      "source": [
        "pred_gait_test=[]\n",
        "for i in res_gait_simi:\n",
        "  pl=[]\n",
        "  for j in i:\n",
        "    if(j[0]<j[1]): pl.append(0)\n",
        "    else: pl.append(1)\n",
        "  pred_gait_test.append(pl)"
      ],
      "metadata": {
        "id": "3GPjq57UdhcQ"
      },
      "execution_count": 392,
      "outputs": []
    },
    {
      "cell_type": "code",
      "source": [
        "import statistics\n",
        "from collections import Counter\n",
        "from statistics import mode\n",
        "pred_gait_test2=[]\n",
        "for i in pred_gait_test:\n",
        "  pred_gait_test2.append(mode(i))\n",
        "len(pred_gait_test2)"
      ],
      "metadata": {
        "id": "uGTOPc1vdojP",
        "colab": {
          "base_uri": "https://localhost:8080/"
        },
        "outputId": "d8217923-9b4f-489a-aef3-8960672a403a"
      },
      "execution_count": 393,
      "outputs": [
        {
          "output_type": "execute_result",
          "data": {
            "text/plain": [
              "540"
            ]
          },
          "metadata": {},
          "execution_count": 393
        }
      ]
    },
    {
      "cell_type": "code",
      "source": [
        "pred_gait_test2=list(divide_chunks(pred_gait_test2,k*2))"
      ],
      "metadata": {
        "id": "Iyr2Tv5ddvch"
      },
      "execution_count": 394,
      "outputs": []
    },
    {
      "cell_type": "code",
      "source": [
        "pred_gait_test3=[]\n",
        "for i in pred_gait_test2:\n",
        "  pred_gait_test3.append(mode(i))\n",
        "Counter(pred_gait_test3)"
      ],
      "metadata": {
        "id": "NIPit_4xd1NT",
        "colab": {
          "base_uri": "https://localhost:8080/"
        },
        "outputId": "5553548b-79c9-4ae9-d0a6-06fb51f00ac4"
      },
      "execution_count": 395,
      "outputs": [
        {
          "output_type": "execute_result",
          "data": {
            "text/plain": [
              "Counter({1: 54})"
            ]
          },
          "metadata": {},
          "execution_count": 395
        }
      ]
    },
    {
      "cell_type": "markdown",
      "source": [
        "#Creating sample label against test set of Gait data."
      ],
      "metadata": {
        "id": "rSNxx6zAgAI0"
      }
    },
    {
      "cell_type": "code",
      "source": [
        "y_test_new=[1]*gait_pd_x_test.shape[0]\n",
        "y_test_new=pd.Series(y_test_new)"
      ],
      "metadata": {
        "id": "hQOVMIkUd75U"
      },
      "execution_count": 396,
      "outputs": []
    },
    {
      "cell_type": "code",
      "source": [
        "y_pd_test_predicted=pd.Series(pred_gait_test3)"
      ],
      "metadata": {
        "id": "ZhCxxUFRd95C"
      },
      "execution_count": 397,
      "outputs": []
    },
    {
      "cell_type": "code",
      "execution_count": 398,
      "metadata": {
        "id": "Ovq7Pkl9GGjw"
      },
      "outputs": [],
      "source": [
        "gait_data=pd.concat([gait_hc_x_test])"
      ]
    },
    {
      "cell_type": "markdown",
      "source": [
        "#Creating sample test sample against each Gait negative test set data."
      ],
      "metadata": {
        "id": "4-Bx8N4UhN3O"
      }
    },
    {
      "cell_type": "code",
      "execution_count": 399,
      "metadata": {
        "id": "dB_HqsYrGGjy"
      },
      "outputs": [],
      "source": [
        "k=5\n",
        "res_pred_gait=[]\n",
        "for i in range(gait_data.shape[0]):\n",
        "  positive = ppmi_hc_x_train.sample(n=k,replace=True,random_state=12)\n",
        "  negative = ppmi_pd_x_train.sample(n=k,replace=True,random_state=12)\n",
        "  z=[positive,negative]\n",
        "  ty=pd.concat(z)\n",
        "  da=gait_data.iloc[[i]].merge(ty,how='cross')\n",
        "  res_pred_gait.append(da)\n",
        "res_pred_gait=np.concatenate(res_pred_gait,axis=0)"
      ]
    },
    {
      "cell_type": "markdown",
      "source": [
        "#Evaluating distance of anchor test sample embedding with positive and nageative embeddings of combined Gait and PPMI train set sample."
      ],
      "metadata": {
        "id": "TDPTwjmzhW6Z"
      }
    },
    {
      "cell_type": "code",
      "source": [
        "res_gait_simi=[]\n",
        "x_anchors,x_positives,x_negatives,labels=[],[],[],[]\n",
        "for i in range(len(res_pred_gait)):\n",
        "    # We need to find an anchor, a positive example and a negative example\n",
        "    positive = pd_x_train.sample(n=5,replace=True,random_state=12)\n",
        "    negative = hc_x_train.sample(n=5,replace=True,random_state=12)\n",
        "    x_anchor = res_pred_gait[i]\n",
        "    data=[]\n",
        "    sk=[]\n",
        "    for i in range(5):\n",
        "      data=[[x_anchor, positive.iloc[i].values, negative.iloc[i].values]]\n",
        "      data=np.array(data)\n",
        "      concat_anchor= Concatenate(axis=1)([gait_network(data[:,0,:126]),ppmi_network(data[:,0,126:])])\n",
        "      concat_positive = Concatenate(axis=1)([gait_network(data[:,1,:126]),ppmi_network(data[:,1,126:])])\n",
        "      concat_negative = Concatenate(axis=1)([gait_network(data[:,2,:126]),ppmi_network(data[:,2,126:])])\n",
        "\n",
        "      anchor_embedding, positive_embedding, negative_embedding = (\n",
        "          embedding(concat_anchor),\n",
        "          embedding(concat_positive),\n",
        "          embedding(concat_negative),\n",
        "      )\n",
        "      positive_similarity,negative_similarity=Lambda(postitve_negative)([anchor_embedding ,positive_embedding,negative_embedding])\n",
        "      sk.append([positive_similarity,negative_similarity,same])\n",
        "    res_gait_simi.append(sk)"
      ],
      "metadata": {
        "id": "o33UBZKBGGjz"
      },
      "execution_count": 400,
      "outputs": []
    },
    {
      "cell_type": "markdown",
      "source": [
        "#Cheking lebel against each test set."
      ],
      "metadata": {
        "id": "oio2nb3ZhZiD"
      }
    },
    {
      "cell_type": "code",
      "source": [
        "pred_gait_test=[]\n",
        "for i in res_gait_simi:\n",
        "  pl=[]\n",
        "  for j in i:\n",
        "    if(j[0]<j[1]): pl.append(1)\n",
        "    else: pl.append(0)\n",
        "  pred_gait_test.append(pl)"
      ],
      "metadata": {
        "id": "XHJ51ARWGGj1"
      },
      "execution_count": 401,
      "outputs": []
    },
    {
      "cell_type": "code",
      "source": [
        "import statistics\n",
        "from collections import Counter\n",
        "from statistics import mode\n",
        "pred_gait_test2=[]\n",
        "for i in pred_gait_test:\n",
        "  pred_gait_test2.append(mode(i))\n",
        "len(pred_gait_test2)"
      ],
      "metadata": {
        "colab": {
          "base_uri": "https://localhost:8080/"
        },
        "outputId": "a2d0551d-5305-4fbf-c6ba-c8eb01d5f928",
        "id": "LLOTANa-GGj2"
      },
      "execution_count": 402,
      "outputs": [
        {
          "output_type": "execute_result",
          "data": {
            "text/plain": [
              "230"
            ]
          },
          "metadata": {},
          "execution_count": 402
        }
      ]
    },
    {
      "cell_type": "code",
      "source": [
        "pred_gait_test2=list(divide_chunks(pred_gait_test2,k*2))"
      ],
      "metadata": {
        "id": "KFm0b8-DGGj3"
      },
      "execution_count": 403,
      "outputs": []
    },
    {
      "cell_type": "code",
      "source": [
        "pred_gait_test3=[]\n",
        "for i in pred_gait_test2:\n",
        "  pred_gait_test3.append(mode(i))\n",
        "Counter(pred_gait_test3)"
      ],
      "metadata": {
        "colab": {
          "base_uri": "https://localhost:8080/"
        },
        "outputId": "44dadc65-04ef-4ba3-f2a7-78b2f8f74b71",
        "id": "1Aup0E1TGGj3"
      },
      "execution_count": 404,
      "outputs": [
        {
          "output_type": "execute_result",
          "data": {
            "text/plain": [
              "Counter({0: 22, 1: 1})"
            ]
          },
          "metadata": {},
          "execution_count": 404
        }
      ]
    },
    {
      "cell_type": "markdown",
      "source": [
        "#Creating sample label against test set of negative Gait data."
      ],
      "metadata": {
        "id": "v2UJzAYFhgDV"
      }
    },
    {
      "cell_type": "code",
      "source": [
        "y_test_new=[0]*gait_hc_x_test.shape[0]\n",
        "y_test_new.extend([1]*gait_pd_x_test.shape[0])\n",
        "y_test_new=pd.Series(y_test_new)"
      ],
      "metadata": {
        "id": "7ulYbA18GGj4"
      },
      "execution_count": 405,
      "outputs": []
    },
    {
      "cell_type": "markdown",
      "source": [
        "#Combining predicted label of both positive and negative Gait test set samples."
      ],
      "metadata": {
        "id": "f70eLgUVhnI2"
      }
    },
    {
      "cell_type": "code",
      "source": [
        "y_test_predicted=pd.Series(pred_gait_test3)\n",
        "y_test_predicted=pd.concat([y_test_predicted,y_pd_test_predicted])"
      ],
      "metadata": {
        "id": "YrdL_8A6GGj5"
      },
      "execution_count": 406,
      "outputs": []
    },
    {
      "cell_type": "markdown",
      "source": [
        "#Results of all the evaluation metrices."
      ],
      "metadata": {
        "id": "kEK47-f7hxrB"
      }
    },
    {
      "cell_type": "code",
      "source": [
        "test_model_evaluate([1,0],y_test_predicted,y_test_new)"
      ],
      "metadata": {
        "colab": {
          "base_uri": "https://localhost:8080/",
          "height": 1000
        },
        "outputId": "2fa2424a-1c71-4a40-c476-33c9c130dfa8",
        "id": "w6p-TFhvGGj6"
      },
      "execution_count": 407,
      "outputs": [
        {
          "output_type": "stream",
          "name": "stdout",
          "text": [
            "Confusion Matrix\n",
            "Accuracy for Test Data =  98.7012987012987\n"
          ]
        },
        {
          "output_type": "display_data",
          "data": {
            "text/plain": [
              "<Figure size 600x400 with 2 Axes>"
            ],
            "image/png": "[encoded data removed]"
          },
          "metadata": {}
        },
        {
          "output_type": "stream",
          "name": "stdout",
          "text": [
            "\n",
            "Classification Report\n",
            "              precision    recall  f1-score   support\n",
            "\n",
            "           0       1.00      0.96      0.98        23\n",
            "           1       0.98      1.00      0.99        54\n",
            "\n",
            "    accuracy                           0.99        77\n",
            "   macro avg       0.99      0.98      0.98        77\n",
            "weighted avg       0.99      0.99      0.99        77\n",
            "\n",
            "\n",
            "Cohen Kappa Score\n",
            "0.968609865470852\n",
            "\n",
            "Precision vs Recall Curve\n"
          ]
        },
        {
          "output_type": "display_data",
          "data": {
            "text/plain": [
              "<Figure size 600x400 with 1 Axes>"
            ],
            "image/png": "[encoded data removed]"
          },
          "metadata": {}
        },
        {
          "output_type": "stream",
          "name": "stdout",
          "text": [
            "\n",
            "ROC Curve\n",
            "ROC AUC score: 0.9782608695652174\n"
          ]
        },
        {
          "output_type": "display_data",
          "data": {
            "text/plain": [
              "<Figure size 600x400 with 1 Axes>"
            ],
            "image/png": "[encoded data removed]"
          },
          "metadata": {}
        }
      ]
    }
  ],
  "metadata": {
    "colab": {
      "provenance": []
    },
    "gpuClass": "standard",
    "kernelspec": {
      "display_name": "Python 3",
      "name": "python3"
    },
    "language_info": {
      "name": "python"
    }
  },
  "nbformat": 4,
  "nbformat_minor": 0
}